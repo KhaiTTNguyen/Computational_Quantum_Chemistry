{
 "cells": [
  {
   "cell_type": "code",
   "execution_count": 3,
   "metadata": {},
   "outputs": [],
   "source": [
    "import pandas as pd \n",
    "from pandas.plotting import table\n",
    "from IPython.display import display\n",
    "import matplotlib.pyplot as plt\n",
    "import matplotlib.gridspec as gridspec\n",
    "import os\n",
    "from datetime import date \n",
    "import math\n",
    "\n",
    "# configurations\n",
    "# this script is applicatble only for ring-molecules\n",
    "NUM_CARBON = 8\n",
    "\n",
    "# Read data from file \n",
    "date_computed = str(date.today())"
   ]
  },
  {
   "cell_type": "code",
   "execution_count": 2,
   "metadata": {
    "scrolled": true
   },
   "outputs": [],
   "source": [
    "# # Plot histogram to observe distribution\n",
    "# data = pd.read_csv(file_path)\n",
    "\n",
    "# # angles 21 - 28 \n",
    "\n",
    "# # [-2:]"
   ]
  },
  {
   "cell_type": "code",
   "execution_count": null,
   "metadata": {},
   "outputs": [],
   "source": [
    "# # plot C-C bonds\n",
    "# # data.iloc[:,1:9]\n",
    "# # range=(1, 2)\n",
    "# C_C_df = data.iloc[:,1:9]\n",
    "# fig, axes = plt.subplots(ncols=len(C_C_df.columns), figsize=(35,4))\n",
    "# fig.suptitle('C-C Bond histograms', size=16) \n",
    "\n",
    "# for col, axe in zip(C_C_df.columns, axes):\n",
    "#         x = C_C_df[col]\n",
    "#         axe.hist(x, bins=50, range=(1, 2), histtype='step', label=col)\n",
    "#         axe.set_xlabel(col)\n",
    "#         axe.set_ylabel('freq')\n",
    "#         axe.axvline(x.mean(), color='k', linestyle='dashed', linewidth=1)\n",
    "#         axe.set_ybound(lower=0,upper=35)\n",
    "#         ymin,ymax=axe.get_ylim()\n",
    "#         axe.text(x.mean()*1.05, ymax*0.9,'Mean: {:.2f}'.format(x.mean()))\n",
    "        \n",
    "# #------------------------- Output to file ----------------------#\n",
    "# output_path = os.path.join(\".\", \"visuals\",\"histograms\", date_computed + \"_C_C_IC_value\" + \".png\")\n",
    "# os.makedirs(os.path.dirname(output_path), exist_ok=True) # create 'visuals' & 'histograms' folder if not existed yet\n",
    "# plt.savefig(output_path)"
   ]
  },
  {
   "cell_type": "code",
   "execution_count": null,
   "metadata": {
    "scrolled": true
   },
   "outputs": [],
   "source": [
    "# # Plot how each IC varies (w.r.t. traj#)\n",
    "# sub_data = data.iloc[:,1:] # slice off first column (TRAJ #)\n",
    "# sub_data.plot(kind=\"line\", subplots=True, layout=(6, 6), figsize=(20, 20), sharex=False, title=\"Value vs Traj\");\n",
    "# #------------------------- Output to file ----------------------#\n",
    "# output_path = os.path.join(\".\", \"visuals\", date_computed + \"_hop21_IC_value_variations\" + \".png\")\n",
    "# os.makedirs(os.path.dirname(output_path), exist_ok=True) # create 'visual' folder if not existed yet\n",
    "# plt.savefig(output_path)"
   ]
  },
  {
   "cell_type": "code",
   "execution_count": 4,
   "metadata": {
    "scrolled": true
   },
   "outputs": [
    {
     "ename": "FileNotFoundError",
     "evalue": "File b'.\\\\output\\\\2020-08-06_trajectory_internal_geometry.csv' does not exist",
     "output_type": "error",
     "traceback": [
      "\u001b[1;31m---------------------------------------------------------------------------\u001b[0m",
      "\u001b[1;31mFileNotFoundError\u001b[0m                         Traceback (most recent call last)",
      "\u001b[1;32m<ipython-input-4-ddb840082872>\u001b[0m in \u001b[0;36m<module>\u001b[1;34m\u001b[0m\n\u001b[0;32m      4\u001b[0m \u001b[0mfile_path_1\u001b[0m \u001b[1;33m=\u001b[0m \u001b[0mos\u001b[0m\u001b[1;33m.\u001b[0m\u001b[0mpath\u001b[0m\u001b[1;33m.\u001b[0m\u001b[0mjoin\u001b[0m\u001b[1;33m(\u001b[0m\u001b[1;34m\".\"\u001b[0m\u001b[1;33m,\u001b[0m \u001b[1;34m\"output\"\u001b[0m\u001b[1;33m,\u001b[0m \u001b[0mdate_computed\u001b[0m \u001b[1;33m+\u001b[0m \u001b[1;34m\"_trajectory_internal_geometry\"\u001b[0m \u001b[1;33m+\u001b[0m \u001b[1;34m\".csv\"\u001b[0m\u001b[1;33m)\u001b[0m\u001b[1;33m\u001b[0m\u001b[1;33m\u001b[0m\u001b[0m\n\u001b[0;32m      5\u001b[0m \u001b[0mfile_path_2\u001b[0m \u001b[1;33m=\u001b[0m \u001b[0mos\u001b[0m\u001b[1;33m.\u001b[0m\u001b[0mpath\u001b[0m\u001b[1;33m.\u001b[0m\u001b[0mjoin\u001b[0m\u001b[1;33m(\u001b[0m\u001b[1;34m\".\"\u001b[0m\u001b[1;33m,\u001b[0m \u001b[1;34m\"output\"\u001b[0m\u001b[1;33m,\u001b[0m \u001b[0mdate_computed\u001b[0m \u001b[1;33m+\u001b[0m \u001b[1;34m\"_hop21_internal_geometry\"\u001b[0m \u001b[1;33m+\u001b[0m \u001b[1;34m\".csv\"\u001b[0m\u001b[1;33m)\u001b[0m\u001b[1;33m\u001b[0m\u001b[1;33m\u001b[0m\u001b[0m\n\u001b[1;32m----> 6\u001b[1;33m \u001b[0minitial_data\u001b[0m \u001b[1;33m=\u001b[0m \u001b[0mpd\u001b[0m\u001b[1;33m.\u001b[0m\u001b[0mread_csv\u001b[0m\u001b[1;33m(\u001b[0m\u001b[0mfile_path_1\u001b[0m\u001b[1;33m)\u001b[0m\u001b[1;33m\u001b[0m\u001b[1;33m\u001b[0m\u001b[0m\n\u001b[0m\u001b[0;32m      7\u001b[0m \u001b[0mhop_data\u001b[0m \u001b[1;33m=\u001b[0m \u001b[0mpd\u001b[0m\u001b[1;33m.\u001b[0m\u001b[0mread_csv\u001b[0m\u001b[1;33m(\u001b[0m\u001b[0mfile_path_2\u001b[0m\u001b[1;33m)\u001b[0m\u001b[1;33m\u001b[0m\u001b[1;33m\u001b[0m\u001b[0m\n\u001b[0;32m      8\u001b[0m \u001b[1;33m\u001b[0m\u001b[0m\n",
      "\u001b[1;32m~\\Anaconda_New_Install\\lib\\site-packages\\pandas\\io\\parsers.py\u001b[0m in \u001b[0;36mparser_f\u001b[1;34m(filepath_or_buffer, sep, delimiter, header, names, index_col, usecols, squeeze, prefix, mangle_dupe_cols, dtype, engine, converters, true_values, false_values, skipinitialspace, skiprows, nrows, na_values, keep_default_na, na_filter, verbose, skip_blank_lines, parse_dates, infer_datetime_format, keep_date_col, date_parser, dayfirst, iterator, chunksize, compression, thousands, decimal, lineterminator, quotechar, quoting, escapechar, comment, encoding, dialect, tupleize_cols, error_bad_lines, warn_bad_lines, skipfooter, doublequote, delim_whitespace, low_memory, memory_map, float_precision)\u001b[0m\n\u001b[0;32m    676\u001b[0m                     skip_blank_lines=skip_blank_lines)\n\u001b[0;32m    677\u001b[0m \u001b[1;33m\u001b[0m\u001b[0m\n\u001b[1;32m--> 678\u001b[1;33m         \u001b[1;32mreturn\u001b[0m \u001b[0m_read\u001b[0m\u001b[1;33m(\u001b[0m\u001b[0mfilepath_or_buffer\u001b[0m\u001b[1;33m,\u001b[0m \u001b[0mkwds\u001b[0m\u001b[1;33m)\u001b[0m\u001b[1;33m\u001b[0m\u001b[1;33m\u001b[0m\u001b[0m\n\u001b[0m\u001b[0;32m    679\u001b[0m \u001b[1;33m\u001b[0m\u001b[0m\n\u001b[0;32m    680\u001b[0m     \u001b[0mparser_f\u001b[0m\u001b[1;33m.\u001b[0m\u001b[0m__name__\u001b[0m \u001b[1;33m=\u001b[0m \u001b[0mname\u001b[0m\u001b[1;33m\u001b[0m\u001b[1;33m\u001b[0m\u001b[0m\n",
      "\u001b[1;32m~\\Anaconda_New_Install\\lib\\site-packages\\pandas\\io\\parsers.py\u001b[0m in \u001b[0;36m_read\u001b[1;34m(filepath_or_buffer, kwds)\u001b[0m\n\u001b[0;32m    438\u001b[0m \u001b[1;33m\u001b[0m\u001b[0m\n\u001b[0;32m    439\u001b[0m     \u001b[1;31m# Create the parser.\u001b[0m\u001b[1;33m\u001b[0m\u001b[1;33m\u001b[0m\u001b[1;33m\u001b[0m\u001b[0m\n\u001b[1;32m--> 440\u001b[1;33m     \u001b[0mparser\u001b[0m \u001b[1;33m=\u001b[0m \u001b[0mTextFileReader\u001b[0m\u001b[1;33m(\u001b[0m\u001b[0mfilepath_or_buffer\u001b[0m\u001b[1;33m,\u001b[0m \u001b[1;33m**\u001b[0m\u001b[0mkwds\u001b[0m\u001b[1;33m)\u001b[0m\u001b[1;33m\u001b[0m\u001b[1;33m\u001b[0m\u001b[0m\n\u001b[0m\u001b[0;32m    441\u001b[0m \u001b[1;33m\u001b[0m\u001b[0m\n\u001b[0;32m    442\u001b[0m     \u001b[1;32mif\u001b[0m \u001b[0mchunksize\u001b[0m \u001b[1;32mor\u001b[0m \u001b[0miterator\u001b[0m\u001b[1;33m:\u001b[0m\u001b[1;33m\u001b[0m\u001b[1;33m\u001b[0m\u001b[0m\n",
      "\u001b[1;32m~\\Anaconda_New_Install\\lib\\site-packages\\pandas\\io\\parsers.py\u001b[0m in \u001b[0;36m__init__\u001b[1;34m(self, f, engine, **kwds)\u001b[0m\n\u001b[0;32m    785\u001b[0m             \u001b[0mself\u001b[0m\u001b[1;33m.\u001b[0m\u001b[0moptions\u001b[0m\u001b[1;33m[\u001b[0m\u001b[1;34m'has_index_names'\u001b[0m\u001b[1;33m]\u001b[0m \u001b[1;33m=\u001b[0m \u001b[0mkwds\u001b[0m\u001b[1;33m[\u001b[0m\u001b[1;34m'has_index_names'\u001b[0m\u001b[1;33m]\u001b[0m\u001b[1;33m\u001b[0m\u001b[1;33m\u001b[0m\u001b[0m\n\u001b[0;32m    786\u001b[0m \u001b[1;33m\u001b[0m\u001b[0m\n\u001b[1;32m--> 787\u001b[1;33m         \u001b[0mself\u001b[0m\u001b[1;33m.\u001b[0m\u001b[0m_make_engine\u001b[0m\u001b[1;33m(\u001b[0m\u001b[0mself\u001b[0m\u001b[1;33m.\u001b[0m\u001b[0mengine\u001b[0m\u001b[1;33m)\u001b[0m\u001b[1;33m\u001b[0m\u001b[1;33m\u001b[0m\u001b[0m\n\u001b[0m\u001b[0;32m    788\u001b[0m \u001b[1;33m\u001b[0m\u001b[0m\n\u001b[0;32m    789\u001b[0m     \u001b[1;32mdef\u001b[0m \u001b[0mclose\u001b[0m\u001b[1;33m(\u001b[0m\u001b[0mself\u001b[0m\u001b[1;33m)\u001b[0m\u001b[1;33m:\u001b[0m\u001b[1;33m\u001b[0m\u001b[1;33m\u001b[0m\u001b[0m\n",
      "\u001b[1;32m~\\Anaconda_New_Install\\lib\\site-packages\\pandas\\io\\parsers.py\u001b[0m in \u001b[0;36m_make_engine\u001b[1;34m(self, engine)\u001b[0m\n\u001b[0;32m   1012\u001b[0m     \u001b[1;32mdef\u001b[0m \u001b[0m_make_engine\u001b[0m\u001b[1;33m(\u001b[0m\u001b[0mself\u001b[0m\u001b[1;33m,\u001b[0m \u001b[0mengine\u001b[0m\u001b[1;33m=\u001b[0m\u001b[1;34m'c'\u001b[0m\u001b[1;33m)\u001b[0m\u001b[1;33m:\u001b[0m\u001b[1;33m\u001b[0m\u001b[1;33m\u001b[0m\u001b[0m\n\u001b[0;32m   1013\u001b[0m         \u001b[1;32mif\u001b[0m \u001b[0mengine\u001b[0m \u001b[1;33m==\u001b[0m \u001b[1;34m'c'\u001b[0m\u001b[1;33m:\u001b[0m\u001b[1;33m\u001b[0m\u001b[1;33m\u001b[0m\u001b[0m\n\u001b[1;32m-> 1014\u001b[1;33m             \u001b[0mself\u001b[0m\u001b[1;33m.\u001b[0m\u001b[0m_engine\u001b[0m \u001b[1;33m=\u001b[0m \u001b[0mCParserWrapper\u001b[0m\u001b[1;33m(\u001b[0m\u001b[0mself\u001b[0m\u001b[1;33m.\u001b[0m\u001b[0mf\u001b[0m\u001b[1;33m,\u001b[0m \u001b[1;33m**\u001b[0m\u001b[0mself\u001b[0m\u001b[1;33m.\u001b[0m\u001b[0moptions\u001b[0m\u001b[1;33m)\u001b[0m\u001b[1;33m\u001b[0m\u001b[1;33m\u001b[0m\u001b[0m\n\u001b[0m\u001b[0;32m   1015\u001b[0m         \u001b[1;32melse\u001b[0m\u001b[1;33m:\u001b[0m\u001b[1;33m\u001b[0m\u001b[1;33m\u001b[0m\u001b[0m\n\u001b[0;32m   1016\u001b[0m             \u001b[1;32mif\u001b[0m \u001b[0mengine\u001b[0m \u001b[1;33m==\u001b[0m \u001b[1;34m'python'\u001b[0m\u001b[1;33m:\u001b[0m\u001b[1;33m\u001b[0m\u001b[1;33m\u001b[0m\u001b[0m\n",
      "\u001b[1;32m~\\Anaconda_New_Install\\lib\\site-packages\\pandas\\io\\parsers.py\u001b[0m in \u001b[0;36m__init__\u001b[1;34m(self, src, **kwds)\u001b[0m\n\u001b[0;32m   1706\u001b[0m         \u001b[0mkwds\u001b[0m\u001b[1;33m[\u001b[0m\u001b[1;34m'usecols'\u001b[0m\u001b[1;33m]\u001b[0m \u001b[1;33m=\u001b[0m \u001b[0mself\u001b[0m\u001b[1;33m.\u001b[0m\u001b[0musecols\u001b[0m\u001b[1;33m\u001b[0m\u001b[1;33m\u001b[0m\u001b[0m\n\u001b[0;32m   1707\u001b[0m \u001b[1;33m\u001b[0m\u001b[0m\n\u001b[1;32m-> 1708\u001b[1;33m         \u001b[0mself\u001b[0m\u001b[1;33m.\u001b[0m\u001b[0m_reader\u001b[0m \u001b[1;33m=\u001b[0m \u001b[0mparsers\u001b[0m\u001b[1;33m.\u001b[0m\u001b[0mTextReader\u001b[0m\u001b[1;33m(\u001b[0m\u001b[0msrc\u001b[0m\u001b[1;33m,\u001b[0m \u001b[1;33m**\u001b[0m\u001b[0mkwds\u001b[0m\u001b[1;33m)\u001b[0m\u001b[1;33m\u001b[0m\u001b[1;33m\u001b[0m\u001b[0m\n\u001b[0m\u001b[0;32m   1709\u001b[0m \u001b[1;33m\u001b[0m\u001b[0m\n\u001b[0;32m   1710\u001b[0m         \u001b[0mpassed_names\u001b[0m \u001b[1;33m=\u001b[0m \u001b[0mself\u001b[0m\u001b[1;33m.\u001b[0m\u001b[0mnames\u001b[0m \u001b[1;32mis\u001b[0m \u001b[1;32mNone\u001b[0m\u001b[1;33m\u001b[0m\u001b[1;33m\u001b[0m\u001b[0m\n",
      "\u001b[1;32mpandas\\_libs\\parsers.pyx\u001b[0m in \u001b[0;36mpandas._libs.parsers.TextReader.__cinit__\u001b[1;34m()\u001b[0m\n",
      "\u001b[1;32mpandas\\_libs\\parsers.pyx\u001b[0m in \u001b[0;36mpandas._libs.parsers.TextReader._setup_parser_source\u001b[1;34m()\u001b[0m\n",
      "\u001b[1;31mFileNotFoundError\u001b[0m: File b'.\\\\output\\\\2020-08-06_trajectory_internal_geometry.csv' does not exist"
     ]
    }
   ],
   "source": [
    "# --------------- Graph showing correlation between initial structure vs. structure at twist -------------# \n",
    "# Read data from file \n",
    "date_computed = str(date.today())\n",
    "file_path_1 = os.path.join(\".\", \"output\", \"COD\",date_computed + \"_IC_COD_initial\" + \".csv\")\n",
    "file_path_2 = os.path.join(\".\", \"output\", \"COD\",date_computed + \"_IC_COD_hop\" + \".csv\")\n",
    "initial_data = pd.read_csv(file_path_1)\n",
    "hop_data = pd.read_csv(file_path_2)\n",
    "\n",
    "# ----------------------- Merge & filter ----------------------- #\n",
    "dih_merge = pd.merge(initial_data.iloc[:,:], \\\n",
    "                         hop_data.iloc[:,:], \\\n",
    "                         suffixes=('_initial','_hop'), on='TRAJ')\n",
    "# dih_merge"
   ]
  },
  {
   "cell_type": "code",
   "execution_count": 5,
   "metadata": {
    "scrolled": true
   },
   "outputs": [
    {
     "ename": "NameError",
     "evalue": "name 'dih_merge' is not defined",
     "output_type": "error",
     "traceback": [
      "\u001b[1;31m---------------------------------------------------------------------------\u001b[0m",
      "\u001b[1;31mNameError\u001b[0m                                 Traceback (most recent call last)",
      "\u001b[1;32m<ipython-input-5-3b68478f2328>\u001b[0m in \u001b[0;36m<module>\u001b[1;34m\u001b[0m\n\u001b[1;32m----> 1\u001b[1;33m \u001b[0mC_C_df\u001b[0m \u001b[1;33m=\u001b[0m \u001b[0mdih_merge\u001b[0m\u001b[1;33m.\u001b[0m\u001b[0miloc\u001b[0m\u001b[1;33m[\u001b[0m\u001b[1;33m:\u001b[0m\u001b[1;33m,\u001b[0m\u001b[1;36m51\u001b[0m\u001b[1;33m:\u001b[0m\u001b[1;33m-\u001b[0m\u001b[1;36m2\u001b[0m\u001b[1;33m]\u001b[0m\u001b[1;33m\u001b[0m\u001b[1;33m\u001b[0m\u001b[0m\n\u001b[0m\u001b[0;32m      2\u001b[0m \u001b[1;31m# C_C_df\u001b[0m\u001b[1;33m\u001b[0m\u001b[1;33m\u001b[0m\u001b[1;33m\u001b[0m\u001b[0m\n",
      "\u001b[1;31mNameError\u001b[0m: name 'dih_merge' is not defined"
     ]
    }
   ],
   "source": [
    "C_C_df = dih_merge.iloc[:,51:-2]\n",
    "# C_C_df"
   ]
  },
  {
   "cell_type": "code",
   "execution_count": null,
   "metadata": {},
   "outputs": [],
   "source": []
  },
  {
   "cell_type": "code",
   "execution_count": 5,
   "metadata": {},
   "outputs": [
    {
     "data": {
      "image/png": "[encoded data removed]",
      "text/plain": [
       "<Figure size 2520x288 with 8 Axes>"
      ]
     },
     "metadata": {
      "needs_background": "light"
     },
     "output_type": "display_data"
    }
   ],
   "source": [
    "# plot histrograms - 4 items to change:\n",
    "'''\n",
    "1. dataframe indexes \n",
    "2. plot name\n",
    "3. range(min,max)\n",
    "4. output name (file + folder)\n",
    "'''\n",
    "C_C_df = dih_merge.iloc[:,51:-2]\n",
    "fig, axes = plt.subplots(ncols=len(C_C_df.columns), figsize=(35,4))\n",
    "fig.suptitle('C-C-C Angle histograms', size=16) \n",
    "\n",
    "for col, axe in zip(C_C_df.columns, axes):\n",
    "        x = C_C_df[col]\n",
    "        axe.hist(x, bins=50, range=(25,180), histtype='step', label=col)\n",
    "        axe.set_xlabel(col, fontsize='x-large')\n",
    "        axe.set_ylabel('freq', fontsize='x-large')\n",
    "        axe.axvline(x.mean(), color='k', linestyle='dashed', linewidth=1)\n",
    "        axe.set_ybound(lower=0,upper=35)\n",
    "        ymin,ymax=axe.get_ylim()\n",
    "        axe.text(x.mean()*1.05, ymax*0.9,'Mean: {:.2f}'.format(x.mean()))\n",
    "        \n",
    "#------------------------- Output to file ----------------------#\n",
    "output_path = os.path.join(\".\", \"visuals\",\"COD\",\"histograms\", date_computed + \"_C_C_C_angle_IC_value\" + \".png\")\n",
    "os.makedirs(os.path.dirname(output_path), exist_ok=True) # create 'visuals' & 'histograms' folder if not existed yet\n",
    "plt.savefig(output_path)"
   ]
  },
  {
   "cell_type": "code",
   "execution_count": 1,
   "metadata": {
    "scrolled": true
   },
   "outputs": [
    {
     "ename": "NameError",
     "evalue": "name 'math' is not defined",
     "output_type": "error",
     "traceback": [
      "\u001b[1;31m---------------------------------------------------------------------------\u001b[0m",
      "\u001b[1;31mNameError\u001b[0m                                 Traceback (most recent call last)",
      "\u001b[1;32m<ipython-input-1-901de34aa79d>\u001b[0m in \u001b[0;36m<module>\u001b[1;34m\u001b[0m\n\u001b[0;32m      1\u001b[0m \u001b[1;31m# ------------------- Compute mean & stdv for dihedrals ----------------- #\u001b[0m\u001b[1;33m\u001b[0m\u001b[1;33m\u001b[0m\u001b[1;33m\u001b[0m\u001b[0m\n\u001b[1;32m----> 2\u001b[1;33m \u001b[0msplit_index\u001b[0m \u001b[1;33m=\u001b[0m \u001b[0mmath\u001b[0m\u001b[1;33m.\u001b[0m\u001b[0mceil\u001b[0m\u001b[1;33m(\u001b[0m\u001b[0mlen\u001b[0m\u001b[1;33m(\u001b[0m\u001b[0mdih_merge\u001b[0m\u001b[1;33m.\u001b[0m\u001b[0mcolumns\u001b[0m\u001b[1;33m)\u001b[0m\u001b[1;33m/\u001b[0m\u001b[1;36m2\u001b[0m\u001b[1;33m)\u001b[0m\u001b[1;33m\u001b[0m\u001b[1;33m\u001b[0m\u001b[0m\n\u001b[0m\u001b[0;32m      3\u001b[0m \u001b[0mmean_initial\u001b[0m \u001b[1;33m=\u001b[0m \u001b[0mdih_merge\u001b[0m\u001b[1;33m.\u001b[0m\u001b[0miloc\u001b[0m\u001b[1;33m[\u001b[0m\u001b[1;33m:\u001b[0m\u001b[1;33m,\u001b[0m\u001b[1;36m1\u001b[0m\u001b[1;33m:\u001b[0m\u001b[0msplit_index\u001b[0m\u001b[1;33m]\u001b[0m\u001b[1;33m.\u001b[0m\u001b[0mmean\u001b[0m\u001b[1;33m(\u001b[0m\u001b[0maxis\u001b[0m\u001b[1;33m=\u001b[0m\u001b[1;36m0\u001b[0m\u001b[1;33m)\u001b[0m\u001b[1;33m.\u001b[0m\u001b[0mround\u001b[0m\u001b[1;33m(\u001b[0m\u001b[0mdecimals\u001b[0m\u001b[1;33m=\u001b[0m\u001b[1;36m1\u001b[0m\u001b[1;33m)\u001b[0m\u001b[1;33m.\u001b[0m\u001b[0mrename\u001b[0m\u001b[1;33m(\u001b[0m\u001b[1;34m'mean_i'\u001b[0m\u001b[1;33m)\u001b[0m\u001b[1;33m.\u001b[0m\u001b[0mto_frame\u001b[0m\u001b[1;33m(\u001b[0m\u001b[1;33m)\u001b[0m\u001b[1;33m\u001b[0m\u001b[1;33m\u001b[0m\u001b[0m\n\u001b[0;32m      4\u001b[0m \u001b[0mmean_hop\u001b[0m \u001b[1;33m=\u001b[0m \u001b[0mdih_merge\u001b[0m\u001b[1;33m.\u001b[0m\u001b[0miloc\u001b[0m\u001b[1;33m[\u001b[0m\u001b[1;33m:\u001b[0m\u001b[1;33m,\u001b[0m\u001b[0msplit_index\u001b[0m\u001b[1;33m:\u001b[0m\u001b[1;33m]\u001b[0m\u001b[1;33m.\u001b[0m\u001b[0mmean\u001b[0m\u001b[1;33m(\u001b[0m\u001b[0maxis\u001b[0m\u001b[1;33m=\u001b[0m\u001b[1;36m0\u001b[0m\u001b[1;33m)\u001b[0m\u001b[1;33m.\u001b[0m\u001b[0mround\u001b[0m\u001b[1;33m(\u001b[0m\u001b[0mdecimals\u001b[0m\u001b[1;33m=\u001b[0m\u001b[1;36m1\u001b[0m\u001b[1;33m)\u001b[0m\u001b[1;33m.\u001b[0m\u001b[0mrename\u001b[0m\u001b[1;33m(\u001b[0m\u001b[1;34m'mean_h'\u001b[0m\u001b[1;33m)\u001b[0m\u001b[1;33m.\u001b[0m\u001b[0mto_frame\u001b[0m\u001b[1;33m(\u001b[0m\u001b[1;33m)\u001b[0m\u001b[1;33m\u001b[0m\u001b[1;33m\u001b[0m\u001b[0m\n\u001b[0;32m      5\u001b[0m \u001b[0mstd_initial\u001b[0m \u001b[1;33m=\u001b[0m \u001b[0mdih_merge\u001b[0m\u001b[1;33m.\u001b[0m\u001b[0miloc\u001b[0m\u001b[1;33m[\u001b[0m\u001b[1;33m:\u001b[0m\u001b[1;33m,\u001b[0m\u001b[1;36m1\u001b[0m\u001b[1;33m:\u001b[0m\u001b[0msplit_index\u001b[0m\u001b[1;33m]\u001b[0m\u001b[1;33m.\u001b[0m\u001b[0mstd\u001b[0m\u001b[1;33m(\u001b[0m\u001b[0maxis\u001b[0m\u001b[1;33m=\u001b[0m\u001b[1;36m0\u001b[0m\u001b[1;33m)\u001b[0m\u001b[1;33m.\u001b[0m\u001b[0mround\u001b[0m\u001b[1;33m(\u001b[0m\u001b[0mdecimals\u001b[0m\u001b[1;33m=\u001b[0m\u001b[1;36m3\u001b[0m\u001b[1;33m)\u001b[0m\u001b[1;33m.\u001b[0m\u001b[0mrename\u001b[0m\u001b[1;33m(\u001b[0m\u001b[1;34m'std_i'\u001b[0m\u001b[1;33m)\u001b[0m\u001b[1;33m.\u001b[0m\u001b[0mto_frame\u001b[0m\u001b[1;33m(\u001b[0m\u001b[1;33m)\u001b[0m\u001b[1;33m\u001b[0m\u001b[1;33m\u001b[0m\u001b[0m\n",
      "\u001b[1;31mNameError\u001b[0m: name 'math' is not defined"
     ]
    }
   ],
   "source": [
    "# ------------------- Compute mean & stdv for dihedrals ----------------- #\n",
    "split_index = math.ceil(len(dih_merge.columns)/2)\n",
    "mean_initial = dih_merge.iloc[:,1:split_index].mean(axis=0).round(decimals=1).rename('mean_i').to_frame() \n",
    "mean_hop = dih_merge.iloc[:,split_index:].mean(axis=0).round(decimals=1).rename('mean_h').to_frame() \n",
    "std_initial = dih_merge.iloc[:,1:split_index].std(axis=0).round(decimals=3).rename('std_i').to_frame()\n",
    "std_hop = dih_merge.iloc[:,split_index:].std(axis=0).round(decimals=3).rename('std_h').to_frame() \n",
    "\n",
    "# ------------- set axis ----------------\n",
    "mean_initial.set_axis(hop_data.columns[1:], axis=0, inplace=True)\n",
    "mean_hop.set_axis(hop_data.columns[1:], axis=0, inplace=True)\n",
    "std_initial.set_axis(hop_data.columns[1:], axis=0, inplace=True)\n",
    "std_hop.set_axis(hop_data.columns[1:], axis=0, inplace=True)\n",
    "\n",
    "# Merge\n",
    "compare_mean = pd.concat([mean_initial, std_initial, mean_hop, std_hop], axis=1, sort=False).reset_index()                                           # axis{0/’index’, 1/’columns’},\n",
    "compare_mean.index = range(len(compare_mean))\n",
    "\n",
    "# Strip all cols with C-H bonds\n",
    "# compare_mean.drop(range(8,20), axis=0, inplace=True)\n",
    "compare_mean"
   ]
  },
  {
   "cell_type": "code",
   "execution_count": null,
   "metadata": {},
   "outputs": [],
   "source": []
  },
  {
   "cell_type": "code",
   "execution_count": 2,
   "metadata": {},
   "outputs": [
    {
     "ename": "NameError",
     "evalue": "name 'math' is not defined",
     "output_type": "error",
     "traceback": [
      "\u001b[1;31m---------------------------------------------------------------------------\u001b[0m",
      "\u001b[1;31mNameError\u001b[0m                                 Traceback (most recent call last)",
      "\u001b[1;32m<ipython-input-2-1809988d5aaf>\u001b[0m in \u001b[0;36m<module>\u001b[1;34m\u001b[0m\n\u001b[0;32m      1\u001b[0m \u001b[1;31m# ----------------------- Plot ----------------------- #\u001b[0m\u001b[1;33m\u001b[0m\u001b[1;33m\u001b[0m\u001b[1;33m\u001b[0m\u001b[0m\n\u001b[0;32m      2\u001b[0m \u001b[1;31m# plt.subplot(121) nrows, ncols, and index\u001b[0m\u001b[1;33m\u001b[0m\u001b[1;33m\u001b[0m\u001b[1;33m\u001b[0m\u001b[0m\n\u001b[1;32m----> 3\u001b[1;33m \u001b[0mfigure_nrows\u001b[0m \u001b[1;33m=\u001b[0m \u001b[0mmath\u001b[0m\u001b[1;33m.\u001b[0m\u001b[0mceil\u001b[0m\u001b[1;33m(\u001b[0m\u001b[0mlen\u001b[0m\u001b[1;33m(\u001b[0m\u001b[0mcompare_mean\u001b[0m\u001b[1;33m)\u001b[0m\u001b[1;33m/\u001b[0m\u001b[1;36m2\u001b[0m\u001b[1;33m)\u001b[0m\u001b[1;33m\u001b[0m\u001b[1;33m\u001b[0m\u001b[0m\n\u001b[0m\u001b[0;32m      4\u001b[0m \u001b[0mfigure_ncols\u001b[0m \u001b[1;33m=\u001b[0m \u001b[1;36m2\u001b[0m\u001b[1;33m\u001b[0m\u001b[1;33m\u001b[0m\u001b[0m\n\u001b[0;32m      5\u001b[0m \u001b[0mplt\u001b[0m\u001b[1;33m.\u001b[0m\u001b[0mfigure\u001b[0m\u001b[1;33m(\u001b[0m\u001b[0mfigsize\u001b[0m\u001b[1;33m=\u001b[0m\u001b[1;33m(\u001b[0m\u001b[1;36m10\u001b[0m\u001b[1;33m,\u001b[0m\u001b[1;36m10\u001b[0m\u001b[1;33m*\u001b[0m\u001b[0mfigure_nrows\u001b[0m\u001b[1;33m)\u001b[0m\u001b[1;33m)\u001b[0m\u001b[1;33m\u001b[0m\u001b[1;33m\u001b[0m\u001b[0m\n",
      "\u001b[1;31mNameError\u001b[0m: name 'math' is not defined"
     ]
    }
   ],
   "source": [
    "# ----------------------- Plot ----------------------- #\n",
    "'''\n",
    "1. dataframe indexes ---> use regex\n",
    "2. Change MultipleLocator()\n",
    "3. change \"units\" in x-y labels\n",
    "4. x_lim, y_lim ---> take column min & colum max\n",
    "5. location of ax.text\n",
    "'''\n",
    "figure_nrows = math.ceil(len(compare_mean)/2)\n",
    "figure_ncols = 4 # num divisible by NUM_CARBONS\n",
    "plt.figure(figsize=(10,10*figure_nrows))\n",
    "\n",
    "# -------------- C-C bonds range(1,8) --------------\n",
    "C_C_stop=NUM_CARBON\n",
    "for col, axe_index in zip(compare_mean['index'][0:C_C_stop], range(1,C_C_stop+1)):\n",
    "    initial_col, hop_col = col + \"_initial\", col + \"_hop\"\n",
    "    x,y = dih_merge[initial_col] , dih_merge[hop_col]\n",
    "    ax=plt.subplot(figure_nrows, figure_ncols, axe_index)    \n",
    "    ax.set_aspect(1)  # (height/width ticks ratio)\n",
    "\n",
    "    plt.plot(x,y, '.')\n",
    "    plt.xlabel(initial_col+' (Å)', fontsize='x-large')\n",
    "    plt.ylabel(hop_col+' (Å)', fontsize='x-large')\n",
    "    plt.xlim(1,2)\n",
    "    plt.ylim(1,2)\n",
    "    plt.grid(True)\n",
    "    \n",
    "    ax.axvline(x.mean(), color='c', linestyle='dashed', linewidth=1)\n",
    "    ax.axhline(y.mean(), color='c', linestyle=':', linewidth=1)\n",
    "    ymin,ymax=plt.ylim()\n",
    "    xmin,xmax=plt.xlim()\n",
    "    ax.text(x.mean()*1.05, ymax*0.9,'m_initial: {:.1f}'.format(x.mean()))\n",
    "    ax.text(x.mean()*1.20, y.mean()*1.05,'m_hop: {:.1f}'.format(y.mean()))    \n",
    "    axe_index+=1\n",
    "\n",
    "# -------------- C-C-C angles range(20,28) --------------\n",
    "for col, axe_index in zip(compare_mean['index'][C_C_stop:-2], range(C_C_stop+1,len(compare_mean)-1)):\n",
    "    initial_col, hop_col = col + \"_initial\", col + \"_hop\"\n",
    "    x,y = dih_merge[initial_col] , dih_merge[hop_col]\n",
    "    ax=plt.subplot(figure_nrows, figure_ncols, axe_index)\n",
    "    ax.set_aspect(1)\n",
    "    # -- format axis\n",
    "    formatter = EngFormatter(unit='°',places=0,sep=\"\")\n",
    "    ax.xaxis.set_major_formatter(formatter)\n",
    "    ax.yaxis.set_major_formatter(formatter)\n",
    "    # -- format grid\n",
    "    majorLocator = MultipleLocator(30)\n",
    "    ax.xaxis.set_major_locator(majorLocator)\n",
    "    ax.yaxis.set_major_locator(majorLocator)\n",
    "\n",
    "    plt.plot(x,y, '.')\n",
    "    plt.xlabel(initial_col, fontsize='x-large')\n",
    "    plt.ylabel(hop_col, fontsize='x-large')\n",
    "    csdcdscsdc\n",
    "    \n",
    "    plt.plot(dih_merge[initial_col],dih_merge[hop_col], '.')\n",
    "    plt.xlabel(initial_col)\n",
    "    plt.ylabel(hop_col)\n",
    "    plt.xlim(50,200)\n",
    "    plt.ylim(10,200)\n",
    "    axe_index+=1\n",
    "\n",
    "# -------------- dihedrals rang(29,31) --------------\n",
    "for col, axe_index in zip(compare_mean['index'][-2:], range(len(compare_mean)-1,len(compare_mean)+1)):\n",
    "    ax=plt.subplot(figure_nrows, figure_ncols, axe_index)\n",
    "    initial_col = col + \"_initial\"\n",
    "    hop_col = col + \"_hop\"\n",
    "\n",
    "    plt.plot(dih_merge[initial_col],dih_merge[hop_col], '.')\n",
    "    plt.xlabel(initial_col)\n",
    "    plt.ylabel(hop_col)\n",
    "    plt.xlim(0,90)\n",
    "    plt.ylim(0,180)\n",
    "    axe_index+=1\n",
    "    \n",
    "#------------------------- Output to file ----------------------#\n",
    "output_path = os.path.join(\".\", \"visuals\", \"initial_vs_hop\", date_computed + \"_initial_vs_hop\" + \".png\")\n",
    "os.makedirs(os.path.dirname(output_path), exist_ok=True) # create folder if not existed yet\n",
    "plt.savefig(output_path)"
   ]
  },
  {
   "cell_type": "code",
   "execution_count": null,
   "metadata": {},
   "outputs": [],
   "source": []
  },
  {
   "cell_type": "code",
   "execution_count": 1,
   "metadata": {},
   "outputs": [
    {
     "ename": "NameError",
     "evalue": "name 'dih_merge' is not defined",
     "output_type": "error",
     "traceback": [
      "\u001b[1;31m---------------------------------------------------------------------------\u001b[0m",
      "\u001b[1;31mNameError\u001b[0m                                 Traceback (most recent call last)",
      "\u001b[1;32m<ipython-input-1-f6f19ce62174>\u001b[0m in \u001b[0;36m<module>\u001b[1;34m\u001b[0m\n\u001b[1;32m----> 1\u001b[1;33m \u001b[0mdih_angle_df\u001b[0m \u001b[1;33m=\u001b[0m \u001b[0mdih_merge\u001b[0m\u001b[1;33m.\u001b[0m\u001b[0miloc\u001b[0m\u001b[1;33m[\u001b[0m\u001b[1;33m:\u001b[0m\u001b[1;33m,\u001b[0m\u001b[1;33m-\u001b[0m\u001b[1;36m2\u001b[0m\u001b[1;33m:\u001b[0m\u001b[1;33m]\u001b[0m\u001b[1;33m\u001b[0m\u001b[1;33m\u001b[0m\u001b[0m\n\u001b[0m\u001b[0;32m      2\u001b[0m \u001b[0mlower_bound\u001b[0m \u001b[1;33m=\u001b[0m \u001b[1;36m0\u001b[0m\u001b[1;33m\u001b[0m\u001b[1;33m\u001b[0m\u001b[0m\n\u001b[0;32m      3\u001b[0m \u001b[0mupper_bound\u001b[0m \u001b[1;33m=\u001b[0m \u001b[1;36m90\u001b[0m\u001b[1;33m\u001b[0m\u001b[1;33m\u001b[0m\u001b[0m\n\u001b[0;32m      4\u001b[0m \u001b[0mdih_angle_df_filtered_1\u001b[0m \u001b[1;33m=\u001b[0m \u001b[0mdih_angle_df\u001b[0m\u001b[1;33m[\u001b[0m\u001b[1;33m(\u001b[0m\u001b[0mdih_angle_df\u001b[0m\u001b[1;33m[\u001b[0m\u001b[1;34m'dih H9-C6-C7-H10_hop'\u001b[0m\u001b[1;33m]\u001b[0m\u001b[1;33m>=\u001b[0m\u001b[0mlower_bound\u001b[0m \u001b[1;33m)\u001b[0m \u001b[1;33m&\u001b[0m \u001b[1;33m(\u001b[0m\u001b[0mdih_angle_df\u001b[0m\u001b[1;33m[\u001b[0m\u001b[1;34m'dih H9-C6-C7-H10_hop'\u001b[0m\u001b[1;33m]\u001b[0m\u001b[1;33m<=\u001b[0m\u001b[0mupper_bound\u001b[0m\u001b[1;33m)\u001b[0m\u001b[1;33m]\u001b[0m\u001b[1;33m\u001b[0m\u001b[1;33m\u001b[0m\u001b[0m\n\u001b[0;32m      5\u001b[0m \u001b[0mprint\u001b[0m\u001b[1;33m(\u001b[0m\u001b[0mlen\u001b[0m\u001b[1;33m(\u001b[0m\u001b[0mdih_angle_df_filtered_1\u001b[0m\u001b[1;33m)\u001b[0m\u001b[1;33m/\u001b[0m\u001b[0mlen\u001b[0m\u001b[1;33m(\u001b[0m\u001b[0mdih_angle_df\u001b[0m\u001b[1;33m)\u001b[0m \u001b[1;33m*\u001b[0m \u001b[1;36m100\u001b[0m\u001b[1;33m)\u001b[0m\u001b[1;33m\u001b[0m\u001b[1;33m\u001b[0m\u001b[0m\n",
      "\u001b[1;31mNameError\u001b[0m: name 'dih_merge' is not defined"
     ]
    }
   ],
   "source": [
    "dih_angle_df = dih_merge.iloc[:,-2:]\n",
    "lower_bound = 0\n",
    "upper_bound = 90\n",
    "dih_angle_df_filtered_1 = dih_angle_df[(dih_angle_df['dih H9-C6-C7-H10_hop']>=lower_bound ) & (dih_angle_df['dih H9-C6-C7-H10_hop']<=upper_bound)]\n",
    "print(len(dih_angle_df_filtered_1)/len(dih_angle_df) * 100)\n",
    "\n",
    "dih_angle_df_filtered_2 = dih_angle_df[(dih_angle_df['dih H11-C8-C1-H12_hop']>=lower_bound ) & (dih_angle_df['dih H11-C8-C1-H12_hop']<=upper_bound)]\n",
    "print(len(dih_angle_df_filtered_2)/len(dih_angle_df) * 100)"
   ]
  },
  {
   "cell_type": "code",
   "execution_count": 241,
   "metadata": {},
   "outputs": [
    {
     "data": {
      "text/plain": [
       "'\\nshould turn hop vs initial into a loop, do for all ICs -- see that repetition :))\\n\\nreorganize suplots by modifying figure, not by reshaping axes\\npython doesnt have a++\\n'"
      ]
     },
     "execution_count": 241,
     "metadata": {},
     "output_type": "execute_result"
    }
   ],
   "source": [
    "# Mini notes:\n",
    "'''\n",
    "should turn hop vs initial into a loop, do for all ICs -- see that repetition :))\n",
    "\n",
    "reorganize suplots by modifying figure, not by reshaping axes\n",
    "python doesnt have a++\n",
    "'''\n",
    "# Reference: \n",
    "'''\n",
    "https://pandas.pydata.org/pandas-docs/stable/user_guide/visualization.html\n",
    "https://pandas.pydata.org/pandas-docs/stable/reference/api/pandas.DataFrame.set_axis.html  --- to rename\n",
    "https://pandas.pydata.org/pandas-docs/stable/reference/api/pandas.DataFrame.rename.html\n",
    "https://matplotlib.org/api/axes_api.html#ticks-and-tick-labels\n",
    "'''"
   ]
  },
  {
   "cell_type": "code",
   "execution_count": null,
   "metadata": {},
   "outputs": [],
   "source": []
  }
 ],
 "metadata": {
  "kernelspec": {
   "display_name": "Python 3",
   "language": "python",
   "name": "python3"
  },
  "language_info": {
   "codemirror_mode": {
    "name": "ipython",
    "version": 3
   },
   "file_extension": ".py",
   "mimetype": "text/x-python",
   "name": "python",
   "nbconvert_exporter": "python",
   "pygments_lexer": "ipython3",
   "version": "3.7.1"
  }
 },
 "nbformat": 4,
 "nbformat_minor": 2
}
