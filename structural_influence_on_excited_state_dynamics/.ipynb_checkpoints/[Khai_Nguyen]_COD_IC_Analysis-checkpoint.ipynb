{
 "cells": [
  {
   "cell_type": "code",
   "execution_count": 6,
   "metadata": {
    "_cell_guid": "b1076dfc-b9ad-4769-8c92-a6c4dae69d19",
    "_uuid": "8f2839f25d086af736a60e9eeb907d3b93b6e0e5"
   },
   "outputs": [
    {
     "name": "stdout",
     "output_type": "stream",
     "text": [
      "The autoreload extension is already loaded. To reload it, use:\n",
      "  %reload_ext autoreload\n"
     ]
    }
   ],
   "source": [
    "# autoreload to cast any changes to the module files into the notebook\n",
    "%load_ext autoreload\n",
    "%autoreload 2\n",
    "import re, math, os, csv, timeit\n",
    "import numpy as np\n",
    "from datetime import date "
   ]
  },
  {
   "cell_type": "code",
   "execution_count": 7,
   "metadata": {
    "_cell_guid": "79c7e3d0-c299-4dcb-8224-4455121ee9b0",
    "_uuid": "d629ff2d2480ee46fbb7e2d37f6b5fab8052498a"
   },
   "outputs": [],
   "source": [
    "# configurations\n",
    "# this script is applicatble only for ring-molecules\n",
    "NUM_CARBON = 8\n",
    "NUM_ATOMS = NUM_CARBON + 1*4 + 2*4  # C*8 + H*4 + (2H)*4\n",
    "\n",
    "# represent C-H bonds\n",
    "# C6-H9\n",
    "# C7-H10\n",
    "# C8-H11\n",
    "# C1-H12\n",
    "# C5-H13 & C5-H14\n",
    "# C4-H15 & C4-H16\n",
    "# C3-H17 & C3-H20\n",
    "# C2-H18 & C2-H19\n",
    "carbon_list = [6,7,8,1,5,5,4,4,3,3,2,2]\n",
    "hydrogen_list = [9,10,11,12,13,14,15,16,17,20,18,19]"
   ]
  },
  {
   "cell_type": "code",
   "execution_count": 8,
   "metadata": {},
   "outputs": [],
   "source": [
    "# Program flow\n",
    "# --------------------------- Preprocess Data -------------------------\n",
    "# loop file \n",
    "    # catch patterns\n",
    "    # read 20 cooridnates into a block (list of coordinates)\n",
    "    # append to list_of_blocks\n",
    "    \n",
    "# --------------------------- Perform Computation -------------------------\n",
    "# loop through list of blocks \n",
    "# for index in len(list_of_blocks)\n",
    "    # compute(block)\n",
    "        \n",
    "    # create new entries in list_of_dictionaries \"Traj : 1, C1-C2: (double), C2-C3 (double), ... \"\n",
    "        \n",
    "# --------------------------- Write to csv ---------------------------"
   ]
  },
  {
   "cell_type": "code",
   "execution_count": 9,
   "metadata": {},
   "outputs": [],
   "source": [
    "# --------------------------- Preprocess Data -------------------------\n",
    "\n",
    "def get_lines_with_coordinates(fileName):\n",
    "    ''' take in xyz file & grab lines with coordinates\n",
    "        Input: fileName\n",
    "        Output: a list of lines with coordinates\n",
    "    '''\n",
    "    searchfile = open(fileName, \"r\",encoding='utf-8')\n",
    "    line_list = searchfile.readlines()\n",
    "    line_list = [line for line in line_list if line != ' {} \\n'.format(NUM_ATOMS)]    # strip all lines with \" NUM_ATOMS \\n\"\n",
    "    return line_list\n",
    "\n",
    "\n",
    "def split_into_trajectory_blocks(line_list):\n",
    "    ''' convert file line_list into trajectory_blocks\n",
    "        Input: line_list\n",
    "        Output: a list, trajectory_blocks\n",
    "    '''\n",
    "    trajectory_blocks = []\n",
    "    for index, line in enumerate(line_list):\n",
    "        if re.search(r'TRAJ\\d+', line):\n",
    "            # create new block for each trajectory\n",
    "            trajectory_coordinates = get_trajectory_data(index,line_list)\n",
    "\n",
    "            # append to list\n",
    "            trajectory_blocks.append(trajectory_coordinates)            \n",
    "    return trajectory_blocks\n",
    "\n",
    "\n",
    "def get_trajectory_data(index, line_list):\n",
    "    ''' read a trajetory --> if(match regex | EOF), return \n",
    "        Input: index, list_of_lines_in_file\n",
    "        Output: a list coordinates for that block, first item= TRAJ#, remaining items np_arrays \n",
    "                each coordinate is in format [float(x), float(y), float(z)]\n",
    "    '''\n",
    "    trajectory_coordinates = [line_list[index][:-1]] # grab trajectory #\n",
    "    for line in line_list[index+1:]:\n",
    "        if (re.search(r'TRAJ\\d+', line)):\n",
    "            break\n",
    "        else:\n",
    "            atom,x,y,z = line.split()\n",
    "            trajectory_coordinates.append(np.asarray([float(x), float(y), float(z)], dtype=np.float64))            \n",
    "    return trajectory_coordinates \n",
    "\n",
    "\n",
    "def preprocess_data(fileName):    \n",
    "    ''' Input: filename\n",
    "        Output: a list of trajectory_blocks_in_file, \n",
    "        each block representing 1 trajectory\n",
    "    '''\n",
    "    line_list = get_lines_with_coordinates(fileName)\n",
    "    traj_blocks_in_file = split_into_trajectory_blocks(line_list)\n",
    "    return traj_blocks_in_file   "
   ]
  },
  {
   "cell_type": "code",
   "execution_count": 10,
   "metadata": {},
   "outputs": [
    {
     "data": {
      "text/html": [
       "<table><tr><td><img src='https://i.stack.imgur.com/rCCmC.png'></td><td><img src='https://i.stack.imgur.com/qNr9c.png'></td></tr></table>"
      ],
      "text/plain": [
       "<IPython.core.display.HTML object>"
      ]
     },
     "metadata": {},
     "output_type": "display_data"
    }
   ],
   "source": [
    "from IPython.display import HTML, display\n",
    "display(HTML(\"<table><tr><td><img src='https://i.stack.imgur.com/rCCmC.png'></td><td><img src='https://i.stack.imgur.com/qNr9c.png'></td></tr></table>\"))"
   ]
  },
  {
   "cell_type": "code",
   "execution_count": 11,
   "metadata": {},
   "outputs": [],
   "source": [
    "def get_angle_in_degree(unit_vectors):\n",
    "    dih_angle = math.acos(unit_vectors[0].dot(unit_vectors[1]))*180/math.pi\n",
    "    \n",
    "    if dih_angle <= 180: #this is a property of the det. If the det > 0 then B is clockwise of A\n",
    "        return dih_angle\n",
    "    else: # if the det < 0 then B is anti-clockwise of A\n",
    "        return -(360-dih_angle)\n",
    "\n",
    "def compute_C_C_C_angle(*coords):\n",
    "    ''' compute C-C-C angles\n",
    "        Input: 2 lines of coordinates\n",
    "        Output: angle (in degrees) \n",
    "    '''\n",
    "    vectors = []\n",
    "    # if appending in a large number of loops. \n",
    "    # faster to append to list first \n",
    "    # and convert to array than appending NumPy arrays.\n",
    "    \n",
    "    for point in range(len(coords)-1):\n",
    "        vectors.append(np.subtract(coords[point+1],coords[point]))\n",
    "    vectors[0] *= -1 # \"Flip\" the 1st vector\n",
    "    unit_vectors = [ v/np.linalg.norm(v) for v in vectors]\n",
    "    \n",
    "    return get_angle_in_degree(unit_vectors)\n",
    "\n",
    "\n",
    "def compute_dihedral(*coords):\n",
    "    ''' build plane vectors, \n",
    "        compute normal-vectors of intersecting planes, \n",
    "        take arccos from dot product\n",
    "\n",
    "        Input: a list of coordinates\n",
    "        Output: dihedral_angle (in degrees)\n",
    "    '''\n",
    "    vectors = []\n",
    "    for point in range(len(coords)-1):\n",
    "        vectors.append(np.subtract(coords[point+1],coords[point]))\n",
    "\n",
    "    vectors[0] *= -1 # \"Flip\" the 1st vector         \n",
    "    n_vectors = [np.cross(v,vectors[1]) for v in [vectors[0], vectors[2]]]\n",
    "    unit_vectors = [ v/np.linalg.norm(v) for v in n_vectors]\n",
    "    \n",
    "    return get_angle_in_degree(unit_vectors)"
   ]
  },
  {
   "cell_type": "code",
   "execution_count": 12,
   "metadata": {},
   "outputs": [],
   "source": [
    "# x = [[1,2,3],[3,2,1],[6,5,4],[4,5,6]]\n",
    "# coords = np.asarray(x, dtype = float) \n",
    "\n",
    "# print(coords)\n",
    "\n",
    "# vectors = []\n",
    "# # if you're appending in a large number of loops. \n",
    "# # It's faster to append list first \n",
    "# # and convert to array than appending NumPy arrays.\n",
    "\n",
    "# for point in range(len(coords)-1):\n",
    "#     vectors.append(np.subtract(coords[point+1],coords[point]))\n",
    "        \n",
    "# n_vectors = [np.cross(v,vectors[1]) for v in [vectors[0], vectors[2]]]\n",
    "# unit_vectors = [ v/np.linalg.norm(v) for v in n_vectors]\n",
    "# print(unit_vectors)\n",
    "# np.degrees(np.arccos( unit_vectors[0].dot(unit_vectors[1]) ))\n"
   ]
  },
  {
   "cell_type": "code",
   "execution_count": 13,
   "metadata": {},
   "outputs": [],
   "source": [
    "# --------------------------- Perform Computation -------------------------\n",
    "\n",
    "\n",
    "# **************REFRACTOR this****************\n",
    "def compute(block):\n",
    "    ''' compute geometric params for each traj (bondlength, C_C_C angles, dihedrals H9-C6-C7-H10 and H11-C8-C1-H12.\n",
    "\n",
    "        Input: a list of np_array, representing data for 1 traj\n",
    "        Output:a dictionary, , representing data for 1 traj\n",
    "        format : \"TRAJ : 1, C1-C2: (double), C2-C3 (double), ... \"\n",
    "    '''    \n",
    "    dictionary_for_trajectory = {}\n",
    "    dictionary_for_trajectory['TRAJ'] = re.findall('\\d+', block[0])[0]   # findall the numbers in the string block[0], return a list --> index [0] to get string value\n",
    "    \n",
    "    # ----------------Bondlength C - C ----------------\n",
    "    for carbon in list(range(1, NUM_CARBON+1)): \n",
    "        if carbon == NUM_CARBON:\n",
    "            bond_title=\"C{}-C{}\".format(carbon,1)\n",
    "            dictionary_for_trajectory[bond_title] = np.linalg.norm(block[carbon] - block[1])\n",
    "        elif carbon != NUM_CARBON:     \n",
    "            bond_title=\"C{}-C{}\".format(carbon,carbon+1)\n",
    "            dictionary_for_trajectory[bond_title] = np.linalg.norm(block[carbon] - block[carbon + 1]) \n",
    "    # ----------------Bondlength C - H ----------------\n",
    "    for carbon,hydro in zip(carbon_list,hydrogen_list):\n",
    "        bond_title=\"C{}-H{}\".format(carbon,hydro)\n",
    "        dictionary_for_trajectory[bond_title] = np.linalg.norm(block[carbon] - block[hydro])    \n",
    "    \n",
    "    # ---------------- C-C-C angles ------------------\n",
    "    for carbon in list(range(1, NUM_CARBON+1)): \n",
    "        if carbon == 1: \n",
    "            angle_title=\"C{}-C{}-C{}\".format(NUM_CARBON,carbon,carbon+1)\n",
    "            dictionary_for_trajectory[angle_title] = compute_C_C_C_angle(block[NUM_CARBON],block[carbon],block[carbon+1])\n",
    "        elif carbon == NUM_CARBON:   \n",
    "            angle_title=\"C{}-C{}-C{}\".format(carbon-1,carbon,1)\n",
    "            dictionary_for_trajectory[angle_title] = compute_C_C_C_angle(block[carbon-1],block[carbon],block[1])\n",
    "        else:\n",
    "            angle_title=\"C{}-C{}-C{}\".format(carbon-1,carbon,carbon+1)\n",
    "            dictionary_for_trajectory[angle_title] = compute_C_C_C_angle(block[carbon-1],block[carbon],block[carbon+1])\n",
    "    \n",
    "    # ---------------- Dihedral angles H9-C6-C7-H10 & H11-C8-C1-H12 ---------------\n",
    "    dih_angle_title=\"dih H{}-C{}-C{}-H{}\".format(9,6,7,10)\n",
    "    dih_angle_title_2=\"dih H{}-C{}-C{}-H{}\".format(11,8,1,12)\n",
    "    dictionary_for_trajectory[dih_angle_title] = compute_dihedral(block[9],block[6],block[7],block[10])\n",
    "    dictionary_for_trajectory[dih_angle_title_2] = compute_dihedral(block[11],block[8],block[1],block[12])\n",
    "    \n",
    "    return dictionary_for_trajectory"
   ]
  },
  {
   "cell_type": "code",
   "execution_count": null,
   "metadata": {},
   "outputs": [],
   "source": []
  },
  {
   "cell_type": "code",
   "execution_count": 14,
   "metadata": {},
   "outputs": [],
   "source": [
    "# REFRACTOR this, add perform_computation function & write_to_CSV function\n",
    "\n",
    "def compute_geometric_params(inputFile):\n",
    "    ''' extract from xyz, compute, write to csv\n",
    "        Input: inputFile\n",
    "        Output: csv\n",
    "    '''\n",
    "    # --------------------------- Preprocess Data -------------------------\n",
    "    list_of_blocks_in_file = preprocess_data(inputFile)\n",
    "    # --------------------------- Perform Computation -------------------------\n",
    "    list_of_traj_dictionaries = []\n",
    "    for block in list_of_blocks_in_file:\n",
    "\n",
    "        # compute(block)\n",
    "        dictionary_for_trajectory = compute(block)\n",
    "\n",
    "        # create new entries in list_of_dictionaries \"Traj : 1, C1-C2: (double), C2-C3 (double), ... \"\n",
    "        list_of_traj_dictionaries.append(dictionary_for_trajectory)\n",
    "    # --------------------------- Write to csv ---------------------------\n",
    "    date_computed = str(date.today())\n",
    "    file_path = os.path.join(\".\", \"output\", date_computed + \"_trajectory_internal_geometry\" + \".csv\")\n",
    "    os.makedirs(os.path.dirname(file_path), exist_ok=True) # create 'output' folder if not existed yet\n",
    "\n",
    "    with open(file_path, 'w', newline='', encoding='utf-8') as csvFile:\n",
    "        field_names = list(list_of_traj_dictionaries[0].keys())\n",
    "        writer = csv.DictWriter(csvFile, fieldnames=field_names, dialect='excel')\n",
    "\n",
    "        writer.writeheader()\n",
    "        for trajectory in list_of_traj_dictionaries:\n",
    "            writer.writerow(trajectory)        "
   ]
  },
  {
   "cell_type": "code",
   "execution_count": 15,
   "metadata": {},
   "outputs": [],
   "source": [
    "# %%timeit\n",
    "def main():\n",
    "    compute_geometric_params(os.path.join('.','input','IC-angs-conflow.xyz'))\n",
    "\n",
    "if __name__ == \"__main__\":\n",
    "    main()  "
   ]
  },
  {
   "cell_type": "code",
   "execution_count": null,
   "metadata": {},
   "outputs": [],
   "source": []
  },
  {
   "cell_type": "code",
   "execution_count": 11,
   "metadata": {},
   "outputs": [
    {
     "data": {
      "text/plain": [
       "'\\nhttp://google.github.io/styleguide/pyguide.html\\nhttps://visualgit.readthedocs.io/en/latest/pages/naming_convention.html\\nhttps://developers.google.com/edu/python/regular-expressions\\n'"
      ]
     },
     "execution_count": 11,
     "metadata": {},
     "output_type": "execute_result"
    }
   ],
   "source": [
    "# references\n",
    "'''\n",
    "http://google.github.io/styleguide/pyguide.html\n",
    "https://visualgit.readthedocs.io/en/latest/pages/naming_convention.html\n",
    "https://developers.google.com/edu/python/regular-expressions\n",
    "'''"
   ]
  },
  {
   "cell_type": "code",
   "execution_count": null,
   "metadata": {},
   "outputs": [],
   "source": []
  },
  {
   "cell_type": "code",
   "execution_count": null,
   "metadata": {},
   "outputs": [],
   "source": []
  },
  {
   "cell_type": "code",
   "execution_count": null,
   "metadata": {},
   "outputs": [],
   "source": [
    "df = pd.DataFrame(pd.np.array([[1, 2, 3], [4, 5, 6], [7, 8, 9]]), columns=[\"a\", \"b\", \"c\"])\n",
    "\n",
    "report_name = 'example_report.xlsx'\n",
    "sheet_name = 'Sheet1'\n",
    "writer = pd.ExcelWriter(report_name, engine='xlsxwriter')\n",
    "df.to_excel(writer, sheet_name=sheet_name, index=False)\n",
    "\n",
    "\n",
    "\n",
    "# define the workbook\n",
    "workbook = writer.book\n",
    "worksheet = writer.sheets[sheet_name]\n",
    "# create a chart line object\n",
    "chart = workbook.add_chart({'type': 'line'})\n",
    "# configure the series of the chart from the spreadsheet\n",
    "# using a list of values instead of category/value formulas:\n",
    "#     [sheetname, first_row, first_col, last_row, last_col]\n",
    "chart.add_series({\n",
    "    'categories': [sheet_name, 1, 0, 3, 0],\n",
    "    'values':     [sheet_name, 1, 1, 3, 1],\n",
    "})\n",
    "# configure the chart axes\n",
    "chart.set_x_axis({'name': 'Index', 'position_axis': 'on_tick'})\n",
    "chart.set_y_axis({'name': 'Value', 'major_gridlines': {'visible': False}})\n",
    "# place the chart on the worksheet\n",
    "worksheet.insert_chart('E2', chart)\n",
    "\n",
    "\n",
    "\n",
    "# writer.save()"
   ]
  },
  {
   "cell_type": "code",
   "execution_count": null,
   "metadata": {},
   "outputs": [],
   "source": [
    "df = pd.DataFrame(pd.np.random.randn(50000,300))\n",
    "df.to_csv('random_data.csv', index=False)\n",
    "df.to_csv('random_data.gz', compression='gzip', index=False)"
   ]
  }
 ],
 "metadata": {
  "kernelspec": {
   "display_name": "Python 3",
   "language": "python",
   "name": "python3"
  },
  "language_info": {
   "codemirror_mode": {
    "name": "ipython",
    "version": 3
   },
   "file_extension": ".py",
   "mimetype": "text/x-python",
   "name": "python",
   "nbconvert_exporter": "python",
   "pygments_lexer": "ipython3",
   "version": "3.7.1"
  }
 },
 "nbformat": 4,
 "nbformat_minor": 4
}
