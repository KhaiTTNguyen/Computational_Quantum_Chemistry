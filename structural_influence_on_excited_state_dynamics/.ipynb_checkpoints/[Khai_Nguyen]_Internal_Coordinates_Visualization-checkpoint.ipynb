{
 "cells": [
  {
   "cell_type": "code",
   "execution_count": 153,
   "metadata": {},
   "outputs": [],
   "source": [
    "import pandas as pd \n",
    "import numpy as np \n",
    "from pandas.plotting import table\n",
    "from IPython.display import display\n",
    "import matplotlib.pyplot as plt\n",
    "import matplotlib.gridspec as gridspec\n",
    "import os\n",
    "from datetime import date \n",
    "import math\n",
    "\n",
    "# Read data from file \n",
    "date_computed = str(date.today())\n",
    "file_path = os.path.join(\".\", \"output\", date_computed + \"_trajectory_internal_geometry\" + \".csv\")"
   ]
  },
  {
   "cell_type": "code",
   "execution_count": 154,
   "metadata": {
    "scrolled": true
   },
   "outputs": [
    {
     "data": {
      "text/plain": [
       "Index(['TRAJ', 'C1-C2', 'C2-C3', 'C3-C4', 'C4-C5', 'C5-C6', 'C6-C7', 'C7-C8',\n",
       "       'C8-C1', 'C6-H9', 'C7-H10', 'C8-H11', 'C1-H12', 'C5-H13', 'C5-H14',\n",
       "       'C4-H15', 'C4-H16', 'C3-H17', 'C3-H20', 'C2-H18', 'C2-H19', 'C8-C1-C2',\n",
       "       'C1-C2-C3', 'C2-C3-C4', 'C3-C4-C5', 'C4-C5-C6', 'C5-C6-C7', 'C6-C7-C8',\n",
       "       'C7-C8-C1', 'dih H9-C6-C7-H10', 'dih H11-C8-C1-H12'],\n",
       "      dtype='object')"
      ]
     },
     "execution_count": 154,
     "metadata": {},
     "output_type": "execute_result"
    }
   ],
   "source": [
    "# Plot histogram to observe distribution\n",
    "data = pd.read_csv(file_path)\n",
    "\n",
    "data.columns\n",
    "\n",
    "# plot C-C bonds\n",
    "# hist = plt.hist(column=list(data.columns)[1:9], bins=50, figsize=(20,20), layout=(4,4), range=(1, 2), grid=False, sharex=False, sharey=False, histtype='step')\n",
    "\n",
    "# hist = plt.hist(data.iloc[:,1:9], bins=50, range=(1, 2), histtype='step', stacked=False)\n",
    "\n",
    "\n",
    "# plt.axvline(data.[[1:9]].mean(axis=0), color='k', linestyle='dashed', linewidth=1)\n",
    "\n",
    "# angles 21 - 28 \n",
    "\n",
    "# [-2:]\n",
    "# #------------------------- Output to file ----------------------#\n",
    "# output_path = os.path.join(\".\", \"visuals\", date_computed + \"_hop21_IC_histogram\" + \".png\")\n",
    "# os.makedirs(os.path.dirname(output_path), exist_ok=True) # create 'visual' folder if not existed yet\n",
    "# plt.savefig(output_path)"
   ]
  },
  {
   "cell_type": "code",
   "execution_count": 187,
   "metadata": {},
   "outputs": [
    {
     "data": {
      "text/plain": [
       "0      1.543911\n",
       "1      1.423730\n",
       "2      1.669311\n",
       "3      1.566836\n",
       "4      1.496991\n",
       "5      1.505247\n",
       "6      1.640486\n",
       "7      1.517146\n",
       "8      1.612219\n",
       "9      1.599578\n",
       "10     1.673496\n",
       "11     1.561773\n",
       "12     1.462514\n",
       "13     1.675730\n",
       "14     1.574919\n",
       "15     1.473158\n",
       "16     1.478344\n",
       "17     1.650406\n",
       "18     1.515833\n",
       "19     1.536135\n",
       "20     1.539907\n",
       "21     1.579860\n",
       "22     1.637026\n",
       "23     1.444035\n",
       "24     1.543329\n",
       "25     1.633393\n",
       "26     1.671503\n",
       "27     1.511005\n",
       "28     1.539274\n",
       "29     1.560291\n",
       "         ...   \n",
       "170    1.579373\n",
       "171    1.557212\n",
       "172    1.473215\n",
       "173    1.582962\n",
       "174    1.635417\n",
       "175    1.634589\n",
       "176    1.605860\n",
       "177    1.471217\n",
       "178    1.570683\n",
       "179    1.478413\n",
       "180    1.528752\n",
       "181    1.544507\n",
       "182    1.646867\n",
       "183    1.684370\n",
       "184    1.524339\n",
       "185    1.536749\n",
       "186    1.428265\n",
       "187    1.468232\n",
       "188    1.471345\n",
       "189    1.664604\n",
       "190    1.504738\n",
       "191    1.536334\n",
       "192    1.616881\n",
       "193    1.599410\n",
       "194    1.446278\n",
       "195    1.584046\n",
       "196    1.511264\n",
       "197    1.483275\n",
       "198    1.525145\n",
       "199    1.551884\n",
       "Name: C2-C3, Length: 200, dtype: float64"
      ]
     },
     "metadata": {},
     "output_type": "display_data"
    },
    {
     "data": {
      "image/png": "[encoded data removed]",
      "text/plain": [
       "<Figure size 1800x360 with 8 Axes>"
      ]
     },
     "metadata": {
      "needs_background": "light"
     },
     "output_type": "display_data"
    }
   ],
   "source": [
    "# C_C_df = data.iloc[:,1:9]\n",
    "# fig, axes = plt.subplots(nrows=2, ncols=math.ceil(len(C_C_df.columns)/2))\n",
    "# for col in C_C_df.columns:\n",
    "#     x = data[col]\n",
    "#     plt.hist(x, bins=50, range=(1, 2), histtype='step', label=col)\n",
    "#     plt.axvline(x.mean(), color='k', linestyle='dashed', linewidth=1)\n",
    "#     min_ylim, max_ylim = plt.ylim(0,35)\n",
    "#     plt.text(x.mean()*1.1, max_ylim*0.9,'Mean: {:.2f}'.format(x.mean()))\n",
    "#     plt.xlabel(col)\n",
    "#     plt.ylabel('frequency')\n",
    "#     plt.show()\n",
    "\n",
    "# #------------------------- Output to file ----------------------#\n",
    "# output_path = os.path.join(\".\", \"visuals\", date_computed + \"_hop21_IC_value_variations\" + \".png\")\n",
    "# os.makedirs(os.path.dirname(output_path), exist_ok=True) # create 'visual' folder if not existed yet\n",
    "# plt.savefig(output_path)\n",
    "\n",
    "\n",
    "\n",
    "C_C_df = data.iloc[:,1:9]\n",
    "fig, axes = plt.subplots(nrows=2, ncols=math.ceil(len(C_C_df.columns)/2), figsize=(25,5))\n",
    "fig.suptitle('C-C Bond histograms') \n",
    "\n",
    "col_index=1\n",
    "for axe_row in axes:\n",
    "    for slot in axe_row:\n",
    "        x = C_C_df.iloc[:,col_index:col_index+1]\n",
    "        axe.hist(x, bins=50, range=(1, 2), histtype='step', label=col)\n",
    "        axe.set_xlabel(col)\n",
    "        axe.set_ylabel('freq')\n",
    "        axe.axvline(x.mean(), color='k', linestyle='dashed', linewidth=1)\n",
    "        axe.set_ybound(lower=0,upper=35)\n",
    "        ymin,ymax=axe.get_ylim()\n",
    "        axe.text(x.mean()*1.05, ymax*0.9,'Mean: {:.2f}'.format(x.mean()))\n",
    "        col_index+=1\n",
    "        \n",
    "plt.tight_layout()\n",
    "#------------------------- Output to file ----------------------#\n",
    "output_path = os.path.join(\".\", \"visuals\",\"histograms\", date_computed + \"_C_C_IC_value\" + \".png\")\n",
    "os.makedirs(os.path.dirname(output_path), exist_ok=True) # create 'visual' folder if not existed yet\n",
    "plt.savefig(output_path)"
   ]
  },
  {
   "cell_type": "code",
   "execution_count": 156,
   "metadata": {
    "scrolled": true
   },
   "outputs": [],
   "source": [
    "# # Plot how each IC varies (w.r.t. traj#)\n",
    "# sub_data = data.iloc[:,1:] # slice off first column (TRAJ #)\n",
    "# sub_data.plot(kind=\"line\", subplots=True, layout=(6, 6), figsize=(20, 20), sharex=False, title=\"Value vs Traj\");\n",
    "# #------------------------- Output to file ----------------------#\n",
    "# output_path = os.path.join(\".\", \"visuals\", date_computed + \"_hop21_IC_value_variations\" + \".png\")\n",
    "# os.makedirs(os.path.dirname(output_path), exist_ok=True) # create 'visual' folder if not existed yet\n",
    "# plt.savefig(output_path)"
   ]
  },
  {
   "cell_type": "code",
   "execution_count": null,
   "metadata": {},
   "outputs": [],
   "source": []
  },
  {
   "cell_type": "code",
   "execution_count": 157,
   "metadata": {},
   "outputs": [
    {
     "data": {
      "text/html": [
       "<div>\n",
       "<style scoped>\n",
       "    .dataframe tbody tr th:only-of-type {\n",
       "        vertical-align: middle;\n",
       "    }\n",
       "\n",
       "    .dataframe tbody tr th {\n",
       "        vertical-align: top;\n",
       "    }\n",
       "\n",
       "    .dataframe thead th {\n",
       "        text-align: right;\n",
       "    }\n",
       "</style>\n",
       "<table border=\"1\" class=\"dataframe\">\n",
       "  <thead>\n",
       "    <tr style=\"text-align: right;\">\n",
       "      <th></th>\n",
       "      <th>initial</th>\n",
       "      <th>hop</th>\n",
       "    </tr>\n",
       "  </thead>\n",
       "  <tbody>\n",
       "    <tr>\n",
       "      <th>dih H9-C6-C7-H10</th>\n",
       "      <td>7.504124</td>\n",
       "      <td>49.029071</td>\n",
       "    </tr>\n",
       "    <tr>\n",
       "      <th>dih H11-C8-C1-H12</th>\n",
       "      <td>10.743849</td>\n",
       "      <td>45.512307</td>\n",
       "    </tr>\n",
       "  </tbody>\n",
       "</table>\n",
       "</div>"
      ],
      "text/plain": [
       "                     initial        hop\n",
       "dih H9-C6-C7-H10    7.504124  49.029071\n",
       "dih H11-C8-C1-H12  10.743849  45.512307"
      ]
     },
     "metadata": {},
     "output_type": "display_data"
    },
    {
     "data": {
      "image/png": "[encoded data removed]",
      "text/plain": [
       "<Figure size 720x360 with 2 Axes>"
      ]
     },
     "metadata": {
      "needs_background": "light"
     },
     "output_type": "display_data"
    }
   ],
   "source": [
    "# --------------- Graph showing correlation between initial structure vs. structure at twist -------------# \n",
    "# Read data from file \n",
    "date_computed = str(date.today())\n",
    "file_path_1 = os.path.join(\".\", \"output\", date_computed + \"_trajectory_internal_geometry\" + \".csv\")\n",
    "file_path_2 = os.path.join(\".\", \"output\", date_computed + \"_hop21_internal_geometry\" + \".csv\")\n",
    "initial_data = pd.read_csv(file_path_1)\n",
    "hop_data = pd.read_csv(file_path_2)\n",
    "\n",
    "# ----------------------- Merge & filter ----------------------- #\n",
    "dih_merge = pd.merge(initial_data[['TRAJ', 'dih H9-C6-C7-H10', 'dih H11-C8-C1-H12']], \\\n",
    "                         hop_data[['TRAJ', 'dih H9-C6-C7-H10', 'dih H11-C8-C1-H12']], \\\n",
    "                         suffixes=('_initial','_hop'), on='TRAJ')\n",
    "\n",
    "# ------------------- Compute mean for dihedrals ----------------- #\n",
    "mean_initial = dih_merge.loc[:,['dih H9-C6-C7-H10_initial','dih H11-C8-C1-H12_initial']] \\\n",
    "                        .rename(columns={'dih H9-C6-C7-H10_initial': 'dih H9-C6-C7-H10', 'dih H11-C8-C1-H12_initial':'dih H11-C8-C1-H12'}) \\\n",
    "                        .mean(axis=0)\n",
    "\n",
    "mean_hop     = dih_merge.loc[:,['dih H9-C6-C7-H10_hop','dih H11-C8-C1-H12_hop']] \\\n",
    "                        .rename(columns={'dih H9-C6-C7-H10_hop': 'dih H9-C6-C7-H10', 'dih H11-C8-C1-H12_hop':'dih H11-C8-C1-H12'}) \\\n",
    "                        .mean(axis=0)\n",
    "\n",
    "compare_mean = pd.concat([mean_initial.rename('initial'), \\\n",
    "                          mean_hop.rename('hop')], \\\n",
    "                          axis=1, sort=False)                                           # axis{0/’index’, 1/’columns’},\n",
    "display(compare_mean)\n",
    "\n",
    "# ----------------------- Plot ----------------------- #\n",
    "plt.figure(figsize=(10,5))\n",
    "plt.subplot(121)\n",
    "plt.plot(dih_merge['dih H9-C6-C7-H10_initial'],dih_merge['dih H9-C6-C7-H10_hop'], '.')\n",
    "plt.xlabel('initial')\n",
    "plt.xlim(0,90)\n",
    "plt.ylabel('hop')\n",
    "plt.ylim(0,180)\n",
    "\n",
    "plt.subplot(122)\n",
    "plt.plot(dih_merge['dih H11-C8-C1-H12_initial'],dih_merge['dih H11-C8-C1-H12_hop'],'.')\n",
    "plt.xlabel('initial')\n",
    "plt.xlim(0,90)\n",
    "plt.ylim(0,180)\n",
    "plt.suptitle('Initial vs Hop dihedrals')\n",
    "\n",
    "#------------------------- Output to file ----------------------#\n",
    "output_path = os.path.join(\".\", \"visuals\", \"initial_vs_hop\", date_computed + \"_initial_vs_hop\" + \".png\")\n",
    "os.makedirs(os.path.dirname(output_path), exist_ok=True) # create folder if not existed yet\n",
    "plt.savefig(output_path)"
   ]
  },
  {
   "cell_type": "code",
   "execution_count": null,
   "metadata": {},
   "outputs": [],
   "source": []
  },
  {
   "cell_type": "code",
   "execution_count": null,
   "metadata": {},
   "outputs": [],
   "source": [
    "Reference: https://pandas.pydata.org/pandas-docs/stable/user_guide/visualization.html\n"
   ]
  },
  {
   "cell_type": "code",
   "execution_count": null,
   "metadata": {},
   "outputs": [],
   "source": []
  },
  {
   "cell_type": "code",
   "execution_count": null,
   "metadata": {},
   "outputs": [],
   "source": []
  },
  {
   "cell_type": "code",
   "execution_count": null,
   "metadata": {},
   "outputs": [],
   "source": []
  },
  {
   "cell_type": "code",
   "execution_count": null,
   "metadata": {},
   "outputs": [],
   "source": []
  },
  {
   "cell_type": "code",
   "execution_count": null,
   "metadata": {},
   "outputs": [],
   "source": []
  }
 ],
 "metadata": {
  "kernelspec": {
   "display_name": "Python 3",
   "language": "python",
   "name": "python3"
  },
  "language_info": {
   "codemirror_mode": {
    "name": "ipython",
    "version": 3
   },
   "file_extension": ".py",
   "mimetype": "text/x-python",
   "name": "python",
   "nbconvert_exporter": "python",
   "pygments_lexer": "ipython3",
   "version": "3.7.1"
  }
 },
 "nbformat": 4,
 "nbformat_minor": 2
}
