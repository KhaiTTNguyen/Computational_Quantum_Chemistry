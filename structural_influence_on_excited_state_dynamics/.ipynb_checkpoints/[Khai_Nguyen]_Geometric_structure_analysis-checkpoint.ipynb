{
 "cells": [
  {
   "cell_type": "code",
   "execution_count": 86,
   "metadata": {
    "_cell_guid": "b1076dfc-b9ad-4769-8c92-a6c4dae69d19",
    "_uuid": "8f2839f25d086af736a60e9eeb907d3b93b6e0e5"
   },
   "outputs": [
    {
     "name": "stdout",
     "output_type": "stream",
     "text": [
      "The autoreload extension is already loaded. To reload it, use:\n",
      "  %reload_ext autoreload\n"
     ]
    }
   ],
   "source": [
    "# autoreload to cast any changes to the module files into the notebook\n",
    "%load_ext autoreload\n",
    "%autoreload 2\n",
    "import re, math, os, csv, timeit\n",
    "from datetime import date "
   ]
  },
  {
   "cell_type": "code",
   "execution_count": 87,
   "metadata": {
    "_cell_guid": "79c7e3d0-c299-4dcb-8224-4455121ee9b0",
    "_uuid": "d629ff2d2480ee46fbb7e2d37f6b5fab8052498a"
   },
   "outputs": [],
   "source": [
    "# configurations\n",
    "# this script is applicatble only for ring-molecules\n",
    "NUM_CARBON = 8\n",
    "NUM_ATOMS = NUM_CARBON + 1*4 + 2*4  # C*8 + H*4 + (2H)*4\n",
    "\n",
    "# represent C-H bonds\n",
    "# C6-H9\n",
    "# C7-H10\n",
    "# C8-H11\n",
    "# C1-H12\n",
    "# C5-H13 & C5-H14\n",
    "# C4-H15 & C4-H16\n",
    "# C3-H17 & C3-H20\n",
    "# C2-H18 & C2-H19\n",
    "carbon_list = [6,7,8,1,5,5,4,4,3,3,2,2]\n",
    "hydrogen_list = [9,10,11,12,13,14,15,16,17,20,18,19]"
   ]
  },
  {
   "cell_type": "code",
   "execution_count": 88,
   "metadata": {},
   "outputs": [],
   "source": [
    "# Program flow\n",
    "# --------------------------- Preprocess Data -------------------------\n",
    "# loop file \n",
    "    # catch patterns\n",
    "    # read 20 lines into a block (list of lines/strings)\n",
    "    # append to list_of_blocks\n",
    "    \n",
    "# --------------------------- Perform Computation -------------------------\n",
    "# loop through list of blocks \n",
    "# for index in len(list_of_blocks)\n",
    "    # compute(block)\n",
    "        \n",
    "    # create new entries in list_of_dictionaries \"Traj : 1, C1-C2: (double), C2-C3 (double), ... \"\n",
    "        \n",
    "# --------------------------- Write to csv ---------------------------"
   ]
  },
  {
   "cell_type": "code",
   "execution_count": 89,
   "metadata": {},
   "outputs": [],
   "source": [
    "# --------------------------- Preprocess Data -------------------------\n",
    "# loop file \n",
    "    # catch patterns\n",
    "    # read 20 lines into a block (list of lines/strings)\n",
    "    # append to list_of_blocks\n",
    "    \n",
    "# Input: filename\n",
    "# Output: List_of_blocks_in_file, each block representing 1 directory\n",
    "def preprocess_data(fileName):    \n",
    "    searchfile = open(fileName, \"r\",encoding='utf-8')\n",
    "    line_list = searchfile.readlines()\n",
    "    line_list = [line for line in line_list if line != ' {} \\n'.format(NUM_ATOMS)]    # strip all lines with \" NUM_ATOMS \\n\"\n",
    "\n",
    "    list_of_blocks_in_file = []\n",
    "    for index, line in enumerate(line_list):\n",
    "        if re.search(r'TRAJ\\d+', line):\n",
    "            # create new block for each trajectory\n",
    "            block_for_trajectory = read_a_trajectory(index,line_list)\n",
    "\n",
    "            # append to list\n",
    "            list_of_blocks_in_file.append(block_for_trajectory)\n",
    "    return list_of_blocks_in_file        \n",
    "    \n",
    "# create new block / read a trajetory \n",
    "# Input: index, list_of_lines_in_file\n",
    "# Output: if(match regex | EOF), return a block \n",
    "def read_a_trajectory(index, line_list):\n",
    "    list_of_lines_per_block = [line_list[index][:-1]] # add line with trajectory \n",
    "    for line in line_list[index+1:]:\n",
    "        if (re.search(r'TRAJ\\d+', line)):\n",
    "            break\n",
    "        else:\n",
    "            list_of_lines_per_block.append(line[:-1])\n",
    "            \n",
    "    return list_of_lines_per_block"
   ]
  },
  {
   "cell_type": "code",
   "execution_count": 90,
   "metadata": {},
   "outputs": [],
   "source": [
    "# --------------------------- Perform Computation -------------------------\n",
    "# compute block \n",
    "# Input: block\n",
    "# Output: dictionary_for_trajectory - in format \"TRAJ : 1, C1-C2: (double), C2-C3 (double), ... \"\n",
    "\n",
    "def compute(block):\n",
    "    dictionary_for_trajectory = {}\n",
    "    dictionary_for_trajectory['TRAJ'] = re.findall('\\d+', block[0])[0]   # findall the numbers in the string block[0], return a list --> index [0] to get string value\n",
    "    # ---------------- C - C ----------------\n",
    "    for carbon in list(range(1, NUM_CARBON+1)): \n",
    "        if carbon == NUM_CARBON:\n",
    "            bond_title =\"C{}-C{}\".format(carbon,1)\n",
    "            dictionary_for_trajectory[bond_title] = compute_bondlength(block[carbon],block[1])\n",
    "        elif carbon != NUM_CARBON:     \n",
    "            bond_title =\"C{}-C{}\".format(carbon,carbon+1)\n",
    "            dictionary_for_trajectory[bond_title] = compute_bondlength(block[carbon],block[carbon + 1]) \n",
    "    # ---------------- C - H ----------------\n",
    "    for carbon,hydro in zip(carbon_list,hydrogen_list):\n",
    "        bond_title =\"C{}-H{}\".format(carbon,hydro)\n",
    "        dictionary_for_trajectory[bond_title] = compute_bondlength(block[carbon],block[hydro])    \n",
    "    return dictionary_for_trajectory\n",
    "\n",
    "# compute bondlength\n",
    "# Input: 2 lines of coordinates\n",
    "# Output: bondlength (float type)\n",
    "def compute_bondlength(*coords):\n",
    "    X,Y,Z = 0,1,2\n",
    "    coordinates = []\n",
    "    for coord in coords:\n",
    "        atom,x,y,z = coord.split()\n",
    "        coordinates.append([float(x), float(y), float(z)])\n",
    "    \n",
    "    return math.sqrt(  (coordinates[1][X] - coordinates[0][X])**2 \n",
    "                     + (coordinates[1][Y] - coordinates[0][Y])**2 \n",
    "                     + (coordinates[1][Z] - coordinates[0][Z])**2 ) "
   ]
  },
  {
   "cell_type": "code",
   "execution_count": 91,
   "metadata": {},
   "outputs": [],
   "source": [
    "# compute C-C-C angles\n",
    "# Input: 2 lines of coordinates\n",
    "# Output: angle (degree / radian)\n",
    "def compute_C_C_C_angle(*coords):\n",
    "    coordinates = []\n",
    "    for coord in enumerate(coords):\n",
    "        atom,x,y,z = coord.split()\n",
    "        coordinates.append([float(x), float(y), float(z)])\n",
    "        \n",
    "# compute dihedral angles\n",
    "# https://azevedolab.net/resources/dihedral_angle.pdf"
   ]
  },
  {
   "cell_type": "code",
   "execution_count": 92,
   "metadata": {},
   "outputs": [],
   "source": [
    "def compute_geometric_params(inputFile):\n",
    "    # --------------------------- Preprocess Data -------------------------\n",
    "    list_of_blocks_in_file = preprocess_data(inputFile)\n",
    "    # --------------------------- Perform Computation -------------------------\n",
    "    list_of_traj_dictionaries = []\n",
    "    for block in list_of_blocks_in_file:\n",
    "\n",
    "        # compute(block)\n",
    "        dictionary_for_trajectory = compute(block)\n",
    "\n",
    "        # create new entries in list_of_dictionaries \"Traj : 1, C1-C2: (double), C2-C3 (double), ... \"\n",
    "        list_of_traj_dictionaries.append(dictionary_for_trajectory)\n",
    "    # --------------------------- Write to csv ---------------------------\n",
    "    date_computed = str(date.today())\n",
    "    file_path = os.path.join(\".\", \"output\", date_computed + \"_trajectory_bondlength\" + \".csv\")\n",
    "    os.makedirs(os.path.dirname(file_path), exist_ok=True) # create 'output' folder if not existed yet\n",
    "\n",
    "    with open(file_path, 'w', newline='', encoding='utf-8') as csvFile:\n",
    "        field_names = list(list_of_traj_dictionaries[0].keys())\n",
    "        writer = csv.DictWriter(csvFile, fieldnames=field_names, dialect='excel')\n",
    "\n",
    "        writer.writeheader()\n",
    "        for trajectory in list_of_traj_dictionaries:\n",
    "            writer.writerow(trajectory)        "
   ]
  },
  {
   "cell_type": "code",
   "execution_count": 93,
   "metadata": {},
   "outputs": [],
   "source": [
    "def main():\n",
    "    compute_geometric_params(os.path.join('.','input','IC-angs-conflow.xyz'))\n",
    "\n",
    "if __name__ == \"__main__\":\n",
    "    main()  "
   ]
  },
  {
   "cell_type": "code",
   "execution_count": null,
   "metadata": {},
   "outputs": [],
   "source": []
  },
  {
   "cell_type": "code",
   "execution_count": 81,
   "metadata": {},
   "outputs": [
    {
     "data": {
      "text/plain": [
       "'\\nhttp://google.github.io/styleguide/pyguide.html\\nhttps://visualgit.readthedocs.io/en/latest/pages/naming_convention.html\\nhttps://developers.google.com/edu/python/regular-expressions\\n'"
      ]
     },
     "execution_count": 81,
     "metadata": {},
     "output_type": "execute_result"
    }
   ],
   "source": [
    "# references\n",
    "'''\n",
    "http://google.github.io/styleguide/pyguide.html\n",
    "https://visualgit.readthedocs.io/en/latest/pages/naming_convention.html\n",
    "https://developers.google.com/edu/python/regular-expressions\n",
    "'''"
   ]
  },
  {
   "cell_type": "code",
   "execution_count": null,
   "metadata": {},
   "outputs": [],
   "source": []
  },
  {
   "cell_type": "code",
   "execution_count": null,
   "metadata": {},
   "outputs": [],
   "source": []
  }
 ],
 "metadata": {
  "kernelspec": {
   "display_name": "Python 3",
   "language": "python",
   "name": "python3"
  }
 },
 "nbformat": 4,
 "nbformat_minor": 4
}
