{
 "cells": [
  {
   "cell_type": "code",
   "execution_count": 5,
   "metadata": {
    "_cell_guid": "b1076dfc-b9ad-4769-8c92-a6c4dae69d19",
    "_uuid": "8f2839f25d086af736a60e9eeb907d3b93b6e0e5"
   },
   "outputs": [],
   "source": [
    "# autoreload to cast any changes to the module files into the notebook\n",
    "%load_ext autoreload\n",
    "%autoreload 2\n",
    "import re, math, os, csv, timeit\n",
    "import numpy as np\n",
    "from datetime import date "
   ]
  },
  {
   "cell_type": "code",
   "execution_count": 65,
   "metadata": {
    "_cell_guid": "79c7e3d0-c299-4dcb-8224-4455121ee9b0",
    "_uuid": "d629ff2d2480ee46fbb7e2d37f6b5fab8052498a"
   },
   "outputs": [],
   "source": [
    "# configurations\n",
    "# this script is applicatble only for ring-molecules\n",
    "NUM_CARBON = 8\n",
    "NUM_ATOMS = NUM_CARBON + 1*4 + 2*4  # C*8 + H*4 + (2H)*4\n",
    "\n",
    "# represent C-H bonds\n",
    "# C6-H9\n",
    "# C7-H10\n",
    "# C8-H11\n",
    "# C1-H12\n",
    "# C5-H13 & C5-H14\n",
    "# C4-H15 & C4-H16\n",
    "# C3-H17 & C3-H20\n",
    "# C2-H18 & C2-H19\n",
    "carbon_list = [6,7,8,1,5,5,4,4,3,3,2,2]\n",
    "hydrogen_list = [9,10,11,12,13,14,15,16,17,20,18,19]"
   ]
  },
  {
   "cell_type": "code",
   "execution_count": 66,
   "metadata": {},
   "outputs": [],
   "source": [
    "# Program flow\n",
    "# --------------------------- Preprocess Data -------------------------\n",
    "# loop file \n",
    "    # catch patterns\n",
    "    # read 20 cooridnates into a block (list of coordinates)\n",
    "    # append to list_of_blocks\n",
    "    \n",
    "# --------------------------- Perform Computation -------------------------\n",
    "# loop through list of blocks \n",
    "# for index in len(list_of_blocks)\n",
    "    # compute(block)\n",
    "        \n",
    "    # create new entries in list_of_dictionaries \"Traj : 1, C1-C2: (double), C2-C3 (double), ... \"\n",
    "        \n",
    "# --------------------------- Write to csv ---------------------------"
   ]
  },
  {
   "cell_type": "code",
   "execution_count": 67,
   "metadata": {},
   "outputs": [],
   "source": [
    "# --------------------------- Preprocess Data -------------------------\n",
    "\n",
    "def get_lines_with_coordinates(fileName):\n",
    "    ''' take in xyz file & grab lines with coordinates\n",
    "        Input: fileName\n",
    "        Output: a list of lines with coordinates\n",
    "        '''\n",
    "    searchfile = open(fileName, \"r\",encoding='utf-8')\n",
    "    line_list = searchfile.readlines()\n",
    "    line_list = [line for line in line_list if line != ' {} \\n'.format(NUM_ATOMS)]    # strip all lines with \" NUM_ATOMS \\n\"\n",
    "    return line_list\n",
    "\n",
    "\n",
    "def split_into_trajectory_blocks(line_list):\n",
    "    ''' convert file line_list into trajectory_blocks\n",
    "        Input: line_list\n",
    "        Output: a list, trajectory_blocks\n",
    "        '''\n",
    "    trajectory_blocks = []\n",
    "    for index, line in enumerate(line_list):\n",
    "        if re.search(r'TRAJ\\d+', line):\n",
    "            # create new block for each trajectory\n",
    "            trajectory_coordinates = get_trajectory_data(index,line_list)\n",
    "\n",
    "            # append to list\n",
    "            trajectory_blocks.append(trajectory_coordinates)            \n",
    "    return trajectory_blocks\n",
    "\n",
    "\n",
    "def get_trajectory_data(index, line_list):\n",
    "    ''' read a trajetory --> if(match regex | EOF), return \n",
    "        Input: index, list_of_lines_in_file\n",
    "        Output: a list of coordinates for that block \n",
    "        '''\n",
    "    trajectory_coordinates = [line_list[index][:-1]] # grab trajectory #\n",
    "    for line in line_list[index+1:]:\n",
    "        if (re.search(r'TRAJ\\d+', line)):\n",
    "            break\n",
    "        else:\n",
    "            atom,x,y,z = line.split()\n",
    "            trajectory_coordinates.append([float(x), float(y), float(z)])            \n",
    "    return trajectory_coordinates\n",
    "\n",
    "\n",
    "def preprocess_data(fileName):    \n",
    "    ''' Input: filename\n",
    "        Output: a list of trajectory blocks_in_file, \n",
    "                each block representing 1 trajectory\n",
    "        '''\n",
    "    line_list = get_lines_with_coordinates(fileName)\n",
    "    traj_blocks_in_file = split_into_trajectory_blocks(line_list)\n",
    "    return traj_blocks_in_file   "
   ]
  },
  {
   "cell_type": "markdown",
   "metadata": {},
   "source": [
    "![dihedral illustration](https://tinyurl.com/y8l79dlh)"
   ]
  },
  {
   "cell_type": "code",
   "execution_count": 68,
   "metadata": {},
   "outputs": [],
   "source": [
    "def compute_C_C_C_angle(*coords):\n",
    "    ''' compute C-C-C angles\n",
    "        Input: 2 lines of coordinates\n",
    "        Output: angle (degree / radian) \n",
    "        '''\n",
    "    return 1\n",
    "        \n",
    "# compute dihedral angles\n",
    "# https://azevedolab.net/resources/dihedral_angle.pdf\n",
    "\n",
    "\n",
    "# This one starts with two cross products to get a vector perpendicular to\n",
    "# b2 and b1 and another perpendicular to b2 and b3. The angle between those vectors\n",
    "# is the dihedral angle.\n",
    "\n",
    "def compute_dihedral_angle(*coords):\n",
    "    ''' Input: a list of coordinates\n",
    "        Output: dihedral_angle\n",
    "    '''\n",
    "    # build vectors, compute normal-vectors of intersecting planes, take sine from dot product\n",
    "        \n",
    "     \n",
    "    b[0] *= -1\n",
    "    v = np.array( [np.cross(v,b[1]) for v in [b[0], b[2]] ] )\n",
    "    # Normalize vectors\n",
    "    v /= np.sqrt(np.einsum('...i,...i', v, v)).reshape(-1,1)\n",
    "    return np.degrees(np.arccos( v[0].dot(v[1]) ))"
   ]
  },
  {
   "cell_type": "code",
   "execution_count": 12,
   "metadata": {},
   "outputs": [
    {
     "name": "stdout",
     "output_type": "stream",
     "text": [
      "[[2. 2. 2.]\n",
      " [1. 2. 3.]\n",
      " [1. 2. 3.]]\n"
     ]
    },
    {
     "data": {
      "text/plain": [
       "array([ 1.,  0., -1.])"
      ]
     },
     "execution_count": 12,
     "metadata": {},
     "output_type": "execute_result"
    }
   ],
   "source": [
    "x = [[2,2,2], [1,2,3], [1,2,3]]\n",
    "a = np.asarray(x, dtype = float) \n",
    "print(a)\n",
    "x1 = a[0]\n",
    "x2 = a[1]\n",
    "\n",
    "np.subtract(x1, x2)"
   ]
  },
  {
   "cell_type": "code",
   "execution_count": 69,
   "metadata": {},
   "outputs": [],
   "source": [
    "# --------------------------- Perform Computation -------------------------\n",
    "def compute_bondlength(*coords):\n",
    "    ''' compute bondlength\n",
    "        Input: 2 lines of coordinates\n",
    "        Output: bondlength (float type)\n",
    "        '''    \n",
    "    coord1, coord2 = coords[0], coords[1]    \n",
    "    return np.linalg.norm(coord2 - coord1) \n",
    "\n",
    "\n",
    "# **************REFRACTOR this****************\n",
    "def compute(block):\n",
    "    ''' compute block \n",
    "        Input: block\n",
    "        Output: dictionary_for_trajectory \n",
    "                format :  \"TRAJ : 1, C1-C2: (double), C2-C3 (double), ... \"\n",
    "        '''    \n",
    "    dictionary_for_trajectory = {}\n",
    "    dictionary_for_trajectory['TRAJ'] = re.findall('\\d+', block[0])[0]   # findall the numbers in the string block[0], return a list --> index [0] to get string value\n",
    "    # ---------------- C - C ----------------\n",
    "    for carbon in list(range(1, NUM_CARBON+1)): \n",
    "        if carbon == NUM_CARBON:\n",
    "            bond_title =\"C{}-C{}\".format(carbon,1)\n",
    "            dictionary_for_trajectory[bond_title] = compute_bondlength(block[carbon],block[1])\n",
    "        elif carbon != NUM_CARBON:     \n",
    "            bond_title =\"C{}-C{}\".format(carbon,carbon+1)\n",
    "            dictionary_for_trajectory[bond_title] = compute_bondlength(block[carbon],block[carbon + 1]) \n",
    "    # ---------------- C - H ----------------\n",
    "    for carbon,hydro in zip(carbon_list,hydrogen_list):\n",
    "        bond_title =\"C{}-H{}\".format(carbon,hydro)\n",
    "        dictionary_for_trajectory[bond_title] = compute_bondlength(block[carbon],block[hydro])    \n",
    "    return dictionary_for_trajectory"
   ]
  },
  {
   "cell_type": "code",
   "execution_count": null,
   "metadata": {},
   "outputs": [],
   "source": []
  },
  {
   "cell_type": "code",
   "execution_count": 70,
   "metadata": {},
   "outputs": [],
   "source": [
    "# REFRACTOR this, add perform_computation function & write_to_CSV function\n",
    "\n",
    "def compute_geometric_params(inputFile):\n",
    "    ''' extract from xyz, compute, write to csv\n",
    "        Input: inputFile\n",
    "        Output: csv\n",
    "        '''\n",
    "    # --------------------------- Preprocess Data -------------------------\n",
    "    list_of_blocks_in_file = preprocess_data(inputFile)\n",
    "    # --------------------------- Perform Computation -------------------------\n",
    "    list_of_traj_dictionaries = []\n",
    "    for block in list_of_blocks_in_file:\n",
    "\n",
    "        # compute(block)\n",
    "        dictionary_for_trajectory = compute(block)\n",
    "\n",
    "        # create new entries in list_of_dictionaries \"Traj : 1, C1-C2: (double), C2-C3 (double), ... \"\n",
    "        list_of_traj_dictionaries.append(dictionary_for_trajectory)\n",
    "    # --------------------------- Write to csv ---------------------------\n",
    "    date_computed = str(date.today())\n",
    "    file_path = os.path.join(\".\", \"output\", date_computed + \"_trajectory_bondlength\" + \".csv\")\n",
    "    os.makedirs(os.path.dirname(file_path), exist_ok=True) # create 'output' folder if not existed yet\n",
    "\n",
    "    with open(file_path, 'w', newline='', encoding='utf-8') as csvFile:\n",
    "        field_names = list(list_of_traj_dictionaries[0].keys())\n",
    "        writer = csv.DictWriter(csvFile, fieldnames=field_names, dialect='excel')\n",
    "\n",
    "        writer.writeheader()\n",
    "        for trajectory in list_of_traj_dictionaries:\n",
    "            writer.writerow(trajectory)        "
   ]
  },
  {
   "cell_type": "code",
   "execution_count": 71,
   "metadata": {},
   "outputs": [],
   "source": [
    "def main():\n",
    "    compute_geometric_params(os.path.join('.','input','IC-angs-conflow.xyz'))\n",
    "\n",
    "if __name__ == \"__main__\":\n",
    "    main()  "
   ]
  },
  {
   "cell_type": "code",
   "execution_count": null,
   "metadata": {},
   "outputs": [],
   "source": []
  },
  {
   "cell_type": "code",
   "execution_count": 72,
   "metadata": {},
   "outputs": [
    {
     "data": {
      "text/plain": [
       "'\\nhttp://google.github.io/styleguide/pyguide.html\\nhttps://visualgit.readthedocs.io/en/latest/pages/naming_convention.html\\nhttps://developers.google.com/edu/python/regular-expressions\\n'"
      ]
     },
     "execution_count": 72,
     "metadata": {},
     "output_type": "execute_result"
    }
   ],
   "source": [
    "# references\n",
    "'''\n",
    "http://google.github.io/styleguide/pyguide.html\n",
    "https://visualgit.readthedocs.io/en/latest/pages/naming_convention.html\n",
    "https://developers.google.com/edu/python/regular-expressions\n",
    "'''"
   ]
  },
  {
   "cell_type": "code",
   "execution_count": null,
   "metadata": {},
   "outputs": [],
   "source": []
  },
  {
   "cell_type": "code",
   "execution_count": null,
   "metadata": {},
   "outputs": [],
   "source": []
  },
  {
   "cell_type": "code",
   "execution_count": null,
   "metadata": {},
   "outputs": [],
   "source": []
  },
  {
   "cell_type": "code",
   "execution_count": null,
   "metadata": {},
   "outputs": [],
   "source": []
  }
 ],
 "metadata": {
  "kernelspec": {
   "display_name": "Python 3",
   "language": "python",
   "name": "python3"
  },
  "language_info": {
   "codemirror_mode": {
    "name": "ipython",
    "version": 3
   },
   "file_extension": ".py",
   "mimetype": "text/x-python",
   "name": "python",
   "nbconvert_exporter": "python",
   "pygments_lexer": "ipython3",
   "version": "3.7.1"
  }
 },
 "nbformat": 4,
 "nbformat_minor": 4
}
