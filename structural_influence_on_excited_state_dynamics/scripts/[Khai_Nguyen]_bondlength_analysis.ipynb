{
 "cells": [
  {
   "cell_type": "code",
   "execution_count": 47,
   "metadata": {},
   "outputs": [
    {
     "name": "stdout",
     "output_type": "stream",
     "text": [
      "The autoreload extension is already loaded. To reload it, use:\n",
      "  %reload_ext autoreload\n"
     ]
    }
   ],
   "source": [
    "# autoreload to cast any changes to the module files into the notebook\n",
    "%load_ext autoreload\n",
    "%autoreload 2\n",
    "import re, math, os, csv, timeit\n",
    "import numpy as np\n",
    "import pandas as pd \n",
    "import matplotlib.pyplot as plt\n",
    "from pandas.plotting import table\n",
    "from IPython.display import display\n",
    "from matplotlib.ticker import EngFormatter\n",
    "from matplotlib.ticker import MultipleLocator\n",
    "from datetime import date "
   ]
  },
  {
   "cell_type": "code",
   "execution_count": 48,
   "metadata": {},
   "outputs": [],
   "source": [
    "# # --------------------------- Preprocess Data -------------------------\n",
    "\n",
    "def get_lines_with_coordinates(file_name):\n",
    "    ''' take in xyz file & grab lines with coordinates\n",
    "        Input: fileName\n",
    "        Output: a list of lines with coordinates\n",
    "    '''\n",
    "    searchfile = open(file_name, \"r\",encoding='utf-8')\n",
    "    line_list = searchfile.readlines()\n",
    "    return line_list\n",
    "\n",
    "\n",
    "def split_into_trajectory_blocks(line_list):\n",
    "    ''' convert file line_list into trajectory_blocks\n",
    "        Input: line_list\n",
    "        Output: a list, trajectory_blocks\n",
    "    '''\n",
    "    trajectory_blocks = []\n",
    "    for index, line in enumerate(line_list):\n",
    "        if re.search(r'Geometry', line):\n",
    "            # create new block for each trajectory\n",
    "            trajectory_coordinates = get_trajectory_data(index,line_list)\n",
    "\n",
    "            # append to list\n",
    "            trajectory_blocks.append(trajectory_coordinates)            \n",
    "    return trajectory_blocks\n",
    "\n",
    "\n",
    "def get_trajectory_data(index, line_list):\n",
    "    ''' read a trajetory --> if(match regex | EOF), return \n",
    "        Input: index, list_of_lines_in_file\n",
    "        Output: a list coordinates for that block, first item= TRAJ#, remaining items np_arrays \n",
    "                each coordinate is in format [float(x), float(y), float(z)]\n",
    "    '''\n",
    "    trajectory_coordinates = [line_list[index][:-1]] # grab trajectory #\n",
    "    for line in line_list[index+1:]:\n",
    "        if (re.search(r'Velocity', line)):\n",
    "            break\n",
    "        else:\n",
    "            atom,Z,x,y,z,A = line.split()\n",
    "            trajectory_coordinates.append(np.asarray([float(x), float(y), float(z)], dtype=np.float64)) \n",
    "    return trajectory_coordinates \n",
    "\n",
    "def preprocess_data(file_name):    \n",
    "    ''' Input: filename\n",
    "        Output: a list of trajectory_blocks_in_file, \n",
    "        each block representing 1 trajectory\n",
    "    '''\n",
    "    line_list = get_lines_with_coordinates(file_name)\n",
    "    traj_blocks_in_file = split_into_trajectory_blocks(line_list)\n",
    "    return traj_blocks_in_file   "
   ]
  },
  {
   "cell_type": "code",
   "execution_count": 49,
   "metadata": {
    "scrolled": true
   },
   "outputs": [],
   "source": [
    "'''\n",
    "Compute\n",
    "Convert to dataframe/series\n",
    "Visualize\n",
    "'''\n",
    "# --------------------------- Perform Computation -------------------------\n",
    "def compute(block, input_bonds):\n",
    "    ''' compute geometric params for each traj (bondlength, C_C_C angles, dihedrals H9-C6-C7-H10 and H11-C8-C1-H12.\n",
    "\n",
    "        Input: a list of np_array, representing data for 1 traj\n",
    "        Output:a dictionary, , representing data for 1 traj\n",
    "        format : \"TRAJ : 1, C1-C2: (double), C2-C3 (double), ... \"\n",
    "    '''    \n",
    "    dictionary_for_trajectory = {}\n",
    "    # ----------------Bondlength C - C ----------------\n",
    "    for bond in input_bonds:\n",
    "        atom1,atom2 = bond\n",
    "        atom1 = int(re.findall('\\d+', atom1)[0])\n",
    "        atom2 = int(re.findall('\\d+', atom2)[0])\n",
    "        bond = '-'.join(map(str, bond))\n",
    "        dictionary_for_trajectory[bond] = np.linalg.norm(block[atom1] - block[atom2])    \n",
    "    return dictionary_for_trajectory  "
   ]
  },
  {
   "cell_type": "code",
   "execution_count": 50,
   "metadata": {},
   "outputs": [],
   "source": [
    "# REFRACTOR this, add perform_computation function & write_to_CSV function\n",
    "\n",
    "def compute_geometric_params(input_file, input_bonds, *args):\n",
    "    ''' extract from xyz, compute, write to csv\n",
    "        Input: input_file\n",
    "        Output: csv\n",
    "    '''\n",
    "    # --------------------------- Preprocess Data -------------------------\n",
    "    list_of_blocks_in_file = preprocess_data(input_file)\n",
    "    # --------------------------- Perform Computation -------------------------\n",
    "    list_of_traj_dictionaries = []\n",
    "    for block in list_of_blocks_in_file:\n",
    "\n",
    "        # compute(block)\n",
    "        dictionary_for_trajectory = compute(block, input_bonds)\n",
    "\n",
    "        # create new entries in list_of_dictionaries \"Traj : 1, C1-C2: (double), C2-C3 (double), ... \"\n",
    "        list_of_traj_dictionaries.append(dictionary_for_trajectory)\n",
    "\n",
    "    # ---------------------------- Convert to data frame -----------------------\n",
    "    traj_df = pd.DataFrame.from_dict(list_of_traj_dictionaries)\n",
    "    \n",
    "    # plot histrograms - 4 items to change:\n",
    "    '''\n",
    "    1. dataframe indexes \n",
    "    2. plot name\n",
    "    3. range(min,max)\n",
    "    4. output name (file + folder)\n",
    "    '''\n",
    "    fig_x = len(input_bonds)*5\n",
    "    fig, axes = plt.subplots(ncols=len(traj_df.columns), figsize=(fig_x,4))\n",
    "    fig.suptitle('Bondlength Distribution', size=16) \n",
    "\n",
    "    for col, ax in zip(traj_df.columns, axes):\n",
    "            x = traj_df[col]\n",
    "            # n, bins, patches = ax.hist(x, bins=50, range=(1,2), histtype='step')\n",
    "            # best_fit = (1 / (np.sqrt(2 * np.pi) * x.std())) * np.exp(-0.5 * (1 / x.std() * (bins - x.mean()))**2)\n",
    "            ax.hist(x, bins=50, range=(0,5), histtype='stepfilled')\n",
    "            # ax.plot(bins, best_fit, '--')\n",
    "\n",
    "            ax.set_xlabel(col, fontsize='x-large')\n",
    "            ax.set_ylabel('freq', fontsize='x-large')\n",
    "            ax.axvline(x.mean(), color='k', linestyle='dashed', linewidth=1)\n",
    "            ax.set_ybound(lower=0,upper=50)\n",
    "            ymin,ymax=ax.get_ylim()\n",
    "            ax.text(x.mean()*1.05, ymax*0.9,'Mean: {:.2f}'.format(x.mean()))\n",
    "            ax.text(x.mean()*1.05, ymax*0.85,'Stdv: {:.2f}'.format(x.std()))\n",
    "\n",
    "    #------------------------- Output to file ----------------------#\n",
    "    output_path = os.path.join(\".\", \"visuals\",\"DMEP\", \"histograms\", \"_DMEP_bondlength_distribution\" + \".png\")\n",
    "    os.makedirs(os.path.dirname(output_path), exist_ok=True) # create 'visuals' & 'histograms' folder if not existed yet\n",
    "    plt.savefig(output_path)\n",
    "    \n",
    "    \n",
    "    \n",
    "    # --------------------------- Write to csv ---------------------------\n",
    "    date_computed = str(date.today())\n",
    "    file_path = os.path.join(\".\", \"output\", \"DMEP\",date_computed + \"_DMEP_bonds\" + \".csv\")\n",
    "    os.makedirs(os.path.dirname(file_path), exist_ok=True) # create 'output' folder if not existed yet\n",
    "\n",
    "    with open(file_path, 'w', newline='', encoding='utf-8') as csvFile:\n",
    "        field_names = list(list_of_traj_dictionaries[0].keys())\n",
    "        writer = csv.DictWriter(csvFile, fieldnames=field_names, dialect='excel')\n",
    "\n",
    "        writer.writeheader()\n",
    "        for trajectory in list_of_traj_dictionaries:\n",
    "            writer.writerow(trajectory)"
   ]
  },
  {
   "cell_type": "code",
   "execution_count": 51,
   "metadata": {},
   "outputs": [
    {
     "name": "stdout",
     "output_type": "stream",
     "text": [
      "File name is DMEP.3. Specify at least 2 bonds you want to assess: \n",
      "\n",
      "    (C1-O4), (C1-H8) , (C1-H9) , (C1-H10), \n",
      "    (C2-O6), (C2-H14), (C2-H15), (C2-H16),\n",
      "    (C3-P7), (C3-H11), (C3-H12), (C3-H13),\n",
      "    (P7-O4), (P7-O5) , (P7-O6) \n",
      "    \n",
      "Bond name: all\n"
     ]
    },
    {
     "data": {
      "image/png": "[encoded data removed]",
      "text/plain": [
       "<Figure size 5400x288 with 15 Axes>"
      ]
     },
     "metadata": {
      "needs_background": "light"
     },
     "output_type": "display_data"
    }
   ],
   "source": [
    "def main():\n",
    "    # take input function() -- rask for input files and bond names, return file_name,input_bonds\n",
    "    # file_name = input(\"Enter your coordinate filename (ex: DMEP.3): \")\n",
    "    file_name = \"DMEP.3\"\n",
    "    print(\"File name is {}. Specify at least 2 bonds you want to assess: \".format(file_name))\n",
    "    s = '''\n",
    "    (C1-O4), (C1-H8) , (C1-H9) , (C1-H10), \n",
    "    (C2-O6), (C2-H14), (C2-H15), (C2-H16),\n",
    "    (C3-P7), (C3-H11), (C3-H12), (C3-H13),\n",
    "    (P7-O4), (P7-O5) , (P7-O6) \n",
    "    '''\n",
    "    print(s)\n",
    "    \n",
    "    valid_bonds = [ ('C1','O4'), ('C1','H8'), ('C1','H9') , ('C1','H10'),\n",
    "                    ('C2','O6'), ('C2','H14'), ('C2','H15'), ('C2','H16'),\n",
    "                    ('C3','P7'), ('C3','H11'), ('C3','H12'), ('C3','H13'),\n",
    "                    ('P7','O4'), ('P7','O5') , ('P7','O6') ]\n",
    "    input_bonds = []\n",
    "    bond_name = input(\"Bond name: \")    \n",
    "    if bond_name == '':\n",
    "        print(\"Invalid. Bond name format: <atom>#-<atom>#.\") # return\n",
    "    while bond_name != \"\":\n",
    "        if bond_name == 'all':\n",
    "            input_bonds = \n",
    "            break\n",
    "        \n",
    "        if vali\n",
    "        input_bonds.append(tuple(re.split('[- =;,\\t]', bond_name)))\n",
    "        bond_name = input(\"Bond name: \")\n",
    "        \n",
    "    compute_geometric_params(file_name,input_bonds)\n",
    "    \n",
    "main()"
   ]
  },
  {
   "cell_type": "code",
   "execution_count": null,
   "metadata": {},
   "outputs": [],
   "source": []
  },
  {
   "cell_type": "code",
   "execution_count": null,
   "metadata": {},
   "outputs": [],
   "source": []
  },
  {
   "cell_type": "code",
   "execution_count": 42,
   "metadata": {},
   "outputs": [
    {
     "name": "stdout",
     "output_type": "stream",
     "text": [
      "<class 'tuple'>\n",
      "<class 'tuple'>\n",
      "<class 'tuple'>\n",
      "<class 'tuple'>\n",
      "<class 'tuple'>\n",
      "<class 'tuple'>\n",
      "<class 'tuple'>\n",
      "<class 'tuple'>\n",
      "<class 'tuple'>\n",
      "<class 'tuple'>\n",
      "<class 'tuple'>\n",
      "<class 'tuple'>\n",
      "<class 'tuple'>\n",
      "<class 'tuple'>\n",
      "<class 'tuple'>\n"
     ]
    }
   ],
   "source": [
    "input_bonds = [ ('C1','O4'), ('C1','H8'), ('C1','H9') , ('C1','H10'),\n",
    "                            ('C2','O6'), ('C2','H14'), ('C2','H15'), ('C2','H16'),\n",
    "                            ('C3','P7'), ('C3','H11'), ('C3','H12'), ('C3','H13'),\n",
    "                            ('P7','O4'), ('P7','O5') , ('P7','O6') ]\n",
    "for a in input_bonds:\n",
    "    print(type(a))"
   ]
  },
  {
   "cell_type": "code",
   "execution_count": null,
   "metadata": {},
   "outputs": [],
   "source": []
  },
  {
   "cell_type": "code",
   "execution_count": null,
   "metadata": {},
   "outputs": [],
   "source": []
  },
  {
   "cell_type": "code",
   "execution_count": null,
   "metadata": {},
   "outputs": [],
   "source": []
  }
 ],
 "metadata": {
  "kernelspec": {
   "display_name": "Python 3",
   "language": "python",
   "name": "python3"
  },
  "language_info": {
   "codemirror_mode": {
    "name": "ipython",
    "version": 3
   },
   "file_extension": ".py",
   "mimetype": "text/x-python",
   "name": "python",
   "nbconvert_exporter": "python",
   "pygments_lexer": "ipython3",
   "version": "3.7.1"
  }
 },
 "nbformat": 4,
 "nbformat_minor": 2
}
