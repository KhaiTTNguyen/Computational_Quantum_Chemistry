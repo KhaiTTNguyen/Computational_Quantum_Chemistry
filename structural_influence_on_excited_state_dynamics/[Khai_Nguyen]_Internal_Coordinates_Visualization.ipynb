{
 "cells": [
  {
   "cell_type": "code",
   "execution_count": 234,
   "metadata": {},
   "outputs": [],
   "source": [
    "import pandas as pd \n",
    "import numpy as np \n",
    "from pandas.plotting import table\n",
    "from IPython.display import display\n",
    "import matplotlib.pyplot as plt\n",
    "import matplotlib.gridspec as gridspec\n",
    "import os\n",
    "from datetime import date \n",
    "import math\n",
    "\n",
    "# Read data from file \n",
    "date_computed = str(date.today())\n",
    "file_path = os.path.join(\".\", \"output\", date_computed + \"_trajectory_internal_geometry\" + \".csv\")"
   ]
  },
  {
   "cell_type": "code",
   "execution_count": 235,
   "metadata": {
    "scrolled": true
   },
   "outputs": [],
   "source": [
    "# Plot histogram to observe distribution\n",
    "data = pd.read_csv(file_path)\n",
    "\n",
    "# angles 21 - 28 \n",
    "\n",
    "# [-2:]\n",
    "# #------------------------- Output to file ----------------------#\n",
    "# output_path = os.path.join(\".\", \"visuals\", date_computed + \"_hop21_IC_histogram\" + \".png\")\n",
    "# os.makedirs(os.path.dirname(output_path), exist_ok=True) # create 'visual' folder if not existed yet\n",
    "# plt.savefig(output_path)"
   ]
  },
  {
   "cell_type": "code",
   "execution_count": 236,
   "metadata": {},
   "outputs": [
    {
     "data": {
      "image/png": "[encoded data removed]",
      "text/plain": [
       "<Figure size 2520x288 with 8 Axes>"
      ]
     },
     "metadata": {
      "needs_background": "light"
     },
     "output_type": "display_data"
    }
   ],
   "source": [
    "# plot C-C bonds\n",
    "C_C_df = data.iloc[:,1:9]\n",
    "fig, axes = plt.subplots(ncols=len(C_C_df.columns), figsize=(35,4))\n",
    "fig.suptitle('C-C Bond histograms') \n",
    "\n",
    "col_index=1\n",
    "for col, axe in zip(C_C_df.columns, axes):\n",
    "        x = C_C_df[col]\n",
    "        axe.hist(x, bins=50, range=(1, 2), histtype='step', label=col)\n",
    "        axe.set_xlabel(col)\n",
    "        axe.set_ylabel('freq')\n",
    "        axe.axvline(x.mean(), color='k', linestyle='dashed', linewidth=1)\n",
    "        axe.set_ybound(lower=0,upper=35)\n",
    "        ymin,ymax=axe.get_ylim()\n",
    "        axe.text(x.mean()*1.05, ymax*0.9,'Mean: {:.2f}'.format(x.mean()))\n",
    "        \n",
    "#------------------------- Output to file ----------------------#\n",
    "output_path = os.path.join(\".\", \"visuals\",\"histograms\", date_computed + \"_C_C_IC_value\" + \".png\")\n",
    "os.makedirs(os.path.dirname(output_path), exist_ok=True) # create 'visual' folder if not existed yet\n",
    "plt.savefig(output_path)"
   ]
  },
  {
   "cell_type": "code",
   "execution_count": 233,
   "metadata": {
    "scrolled": true
   },
   "outputs": [],
   "source": [
    "# # Plot how each IC varies (w.r.t. traj#)\n",
    "# sub_data = data.iloc[:,1:] # slice off first column (TRAJ #)\n",
    "# sub_data.plot(kind=\"line\", subplots=True, layout=(6, 6), figsize=(20, 20), sharex=False, title=\"Value vs Traj\");\n",
    "# #------------------------- Output to file ----------------------#\n",
    "# output_path = os.path.join(\".\", \"visuals\", date_computed + \"_hop21_IC_value_variations\" + \".png\")\n",
    "# os.makedirs(os.path.dirname(output_path), exist_ok=True) # create 'visual' folder if not existed yet\n",
    "# plt.savefig(output_path)"
   ]
  },
  {
   "cell_type": "code",
   "execution_count": null,
   "metadata": {},
   "outputs": [],
   "source": []
  },
  {
   "cell_type": "code",
   "execution_count": 237,
   "metadata": {},
   "outputs": [
    {
     "data": {
      "text/html": [
       "<div>\n",
       "<style scoped>\n",
       "    .dataframe tbody tr th:only-of-type {\n",
       "        vertical-align: middle;\n",
       "    }\n",
       "\n",
       "    .dataframe tbody tr th {\n",
       "        vertical-align: top;\n",
       "    }\n",
       "\n",
       "    .dataframe thead th {\n",
       "        text-align: right;\n",
       "    }\n",
       "</style>\n",
       "<table border=\"1\" class=\"dataframe\">\n",
       "  <thead>\n",
       "    <tr style=\"text-align: right;\">\n",
       "      <th></th>\n",
       "      <th>initial</th>\n",
       "      <th>hop</th>\n",
       "    </tr>\n",
       "  </thead>\n",
       "  <tbody>\n",
       "    <tr>\n",
       "      <th>dih H9-C6-C7-H10</th>\n",
       "      <td>7.504124</td>\n",
       "      <td>49.029071</td>\n",
       "    </tr>\n",
       "    <tr>\n",
       "      <th>dih H11-C8-C1-H12</th>\n",
       "      <td>10.743849</td>\n",
       "      <td>45.512307</td>\n",
       "    </tr>\n",
       "  </tbody>\n",
       "</table>\n",
       "</div>"
      ],
      "text/plain": [
       "                     initial        hop\n",
       "dih H9-C6-C7-H10    7.504124  49.029071\n",
       "dih H11-C8-C1-H12  10.743849  45.512307"
      ]
     },
     "metadata": {},
     "output_type": "display_data"
    },
    {
     "data": {
      "image/png": "[encoded data removed]",
      "text/plain": [
       "<Figure size 720x360 with 2 Axes>"
      ]
     },
     "metadata": {
      "needs_background": "light"
     },
     "output_type": "display_data"
    }
   ],
   "source": [
    "# --------------- Graph showing correlation between initial structure vs. structure at twist -------------# \n",
    "# Read data from file \n",
    "date_computed = str(date.today())\n",
    "file_path_1 = os.path.join(\".\", \"output\", date_computed + \"_trajectory_internal_geometry\" + \".csv\")\n",
    "file_path_2 = os.path.join(\".\", \"output\", date_computed + \"_hop21_internal_geometry\" + \".csv\")\n",
    "initial_data = pd.read_csv(file_path_1)\n",
    "hop_data = pd.read_csv(file_path_2)\n",
    "\n",
    "# ----------------------- Merge & filter ----------------------- #\n",
    "dih_merge = pd.merge(initial_data[['TRAJ', 'dih H9-C6-C7-H10', 'dih H11-C8-C1-H12']], \\\n",
    "                         hop_data[['TRAJ', 'dih H9-C6-C7-H10', 'dih H11-C8-C1-H12']], \\\n",
    "                         suffixes=('_initial','_hop'), on='TRAJ')\n",
    "\n",
    "# ------------------- Compute mean for dihedrals ----------------- #\n",
    "mean_initial = dih_merge.loc[:,['dih H9-C6-C7-H10_initial','dih H11-C8-C1-H12_initial']] \\\n",
    "                        .rename(columns={'dih H9-C6-C7-H10_initial': 'dih H9-C6-C7-H10', 'dih H11-C8-C1-H12_initial':'dih H11-C8-C1-H12'}) \\\n",
    "                        .mean(axis=0)\n",
    "\n",
    "mean_hop     = dih_merge.loc[:,['dih H9-C6-C7-H10_hop','dih H11-C8-C1-H12_hop']] \\\n",
    "                        .rename(columns={'dih H9-C6-C7-H10_hop': 'dih H9-C6-C7-H10', 'dih H11-C8-C1-H12_hop':'dih H11-C8-C1-H12'}) \\\n",
    "                        .mean(axis=0)\n",
    "\n",
    "compare_mean = pd.concat([mean_initial.rename('initial'), \\\n",
    "                          mean_hop.rename('hop')], \\\n",
    "                          axis=1, sort=False)                                           # axis{0/’index’, 1/’columns’},\n",
    "display(compare_mean)\n",
    "\n",
    "# ----------------------- Plot ----------------------- #\n",
    "plt.figure(figsize=(10,5))\n",
    "plt.subplot(121)\n",
    "plt.plot(dih_merge['dih H9-C6-C7-H10_initial'],dih_merge['dih H9-C6-C7-H10_hop'], '.')\n",
    "plt.xlabel('initial')\n",
    "plt.xlim(0,90)\n",
    "plt.ylabel('hop')\n",
    "plt.ylim(0,180)\n",
    "\n",
    "plt.subplot(122)\n",
    "plt.plot(dih_merge['dih H11-C8-C1-H12_initial'],dih_merge['dih H11-C8-C1-H12_hop'],'.')\n",
    "plt.xlabel('initial')\n",
    "plt.xlim(0,90)\n",
    "plt.ylim(0,180)\n",
    "plt.suptitle('Initial vs Hop dihedrals')\n",
    "\n",
    "#------------------------- Output to file ----------------------#\n",
    "output_path = os.path.join(\".\", \"visuals\", \"initial_vs_hop\", date_computed + \"_initial_vs_hop\" + \".png\")\n",
    "os.makedirs(os.path.dirname(output_path), exist_ok=True) # create folder if not existed yet\n",
    "plt.savefig(output_path)"
   ]
  },
  {
   "cell_type": "code",
   "execution_count": null,
   "metadata": {},
   "outputs": [],
   "source": []
  },
  {
   "cell_type": "code",
   "execution_count": null,
   "metadata": {},
   "outputs": [],
   "source": [
    "Reference: https://pandas.pydata.org/pandas-docs/stable/user_guide/visualization.html\n"
   ]
  },
  {
   "cell_type": "code",
   "execution_count": null,
   "metadata": {},
   "outputs": [],
   "source": []
  },
  {
   "cell_type": "code",
   "execution_count": null,
   "metadata": {},
   "outputs": [],
   "source": []
  },
  {
   "cell_type": "code",
   "execution_count": null,
   "metadata": {},
   "outputs": [],
   "source": []
  },
  {
   "cell_type": "code",
   "execution_count": null,
   "metadata": {},
   "outputs": [],
   "source": []
  },
  {
   "cell_type": "code",
   "execution_count": null,
   "metadata": {},
   "outputs": [],
   "source": []
  }
 ],
 "metadata": {
  "kernelspec": {
   "display_name": "Python 3",
   "language": "python",
   "name": "python3"
  },
  "language_info": {
   "codemirror_mode": {
    "name": "ipython",
    "version": 3
   },
   "file_extension": ".py",
   "mimetype": "text/x-python",
   "name": "python",
   "nbconvert_exporter": "python",
   "pygments_lexer": "ipython3",
   "version": "3.7.1"
  }
 },
 "nbformat": 4,
 "nbformat_minor": 2
}
