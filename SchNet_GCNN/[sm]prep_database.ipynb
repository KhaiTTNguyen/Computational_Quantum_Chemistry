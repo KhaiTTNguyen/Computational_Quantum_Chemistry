{
  "nbformat": 4,
  "nbformat_minor": 0,
  "metadata": {
    "colab": {
      "name": "prep_database",
      "provenance": [],
      "collapsed_sections": []
    },
    "kernelspec": {
      "name": "python3",
      "display_name": "Python 3"
    },
    "language_info": {
      "name": "python"
    }
  },
  "cells": [
    {
      "cell_type": "markdown",
      "metadata": {
        "id": "g2qmrzrXgsae"
      },
      "source": [
        "\n",
        "Need *GaussOutput* (energy & dipoles) & *GaussInput* (geometries) folders \n",
        "\n",
        "Upload *zip* & extract before proceed\n",
        "\n",
        "Fix function-call cell to get state *(0 = S1, 1 = S2)* , numstates = 2 pre-setted"
      ]
    },
    {
      "cell_type": "code",
      "metadata": {
        "id": "GtuqiKBpQP8J"
      },
      "source": [
        "numstates=2 \n",
        "def extract_prop(filePath,numstates=2):\n",
        "    #return list of properties (excited-state energy, oscillator strength)\n",
        "    import re\n",
        "    properties = []    \n",
        "    with open(filePath,'r') as f:\n",
        "        count = 0\n",
        "        dipole1 = None\n",
        "        dipole2 = None\n",
        "        for line in f:\n",
        "            if (count >= numstates): \n",
        "                break\n",
        "            match0 = re.match(r\"^.*Ground.*to.*excited.*state.*transition.*electric.*dipole.*moments.*\\(Au\\):\", line) # https://regex101.com/r/6Pk3E7/1\n",
        "            match = re.match(r\"^ Excited State.*\\d:.*Singlet-A *(\\d+.\\d+).*eV.*\\d+.\\d+ nm.*f=(\\d+.\\d+).*<S\\*\\*2>=*\\d+.\\d+\", line) # https://regex101.com/r/NILYY6/1         \n",
        "            if match0:    \n",
        "                next(f)\n",
        "                dipoleLine1 = next(f)\n",
        "                matchD1 = re.match(\"^ *1 *[-+]?\\d+.\\d+.*[-+]?\\d+.\\d+.*[-+]?\\d+.\\d+\\s+[-+]?(\\d+.\\d+)\\s+[-+]?\\d+.\\d+\", dipoleLine1)\n",
        "                dipole1 = matchD1.group(1)\n",
        "                # print(dipole1)\n",
        "                dipoleLine2 = next(f)\n",
        "                matchD2 = re.match(\"^ *2 *[-+]?\\d+.\\d+\\s+[-+]?\\d+.\\d+\\s+[-+]?\\d+.\\d+\\s+[-+]?(\\d+.\\d+) .*\\d+.\\d+\", dipoleLine2)\n",
        "                # print(dipoleLine2)\n",
        "                dipole2 = matchD2.group(1)\n",
        "                # print(dipole2)\n",
        "            if match:\n",
        "                energy = match.group(1)\n",
        "                oscil_strength = match.group(2)\n",
        "                if (count==0):  properties.append((energy, oscil_strength,dipole1))\n",
        "                if (count==1):  properties.append((energy, oscil_strength,dipole2))\n",
        "                count = count + 1\n",
        "\n",
        "    properties.append(filePath)\n",
        "    return properties \n",
        "\n",
        "# filePath1 = os.path.join(\".\",\"GaussOutput\",\"geom_104.log\")\n",
        "# prop = extract_prop(filePath1)\n",
        "# print(prop)\n",
        "\n",
        "# -------------------------- generate E & transdipole moment -----------------------------\n",
        "def genSchNetInput(property_dir=\"GaussOutput\", geom_dir=\"GaussInput\", state=0):\n",
        "    '''\n",
        "      take in file (Output) \n",
        "      find matching geom (Input) \n",
        "      extract prop from Output, grab geom from Input \n",
        "      write to xyz output 1. Energy & dipole , 2. geom\n",
        "    '''\n",
        "    molecule=\"indole\"\n",
        "    method=\"CAM-B3LYP_6-31G_d\"\n",
        "    numstates = 2 \n",
        "    startLine = 6 # where indole xyz coords start in Gauss .inp file\n",
        "    # -------------------- open file to write --------------------\n",
        "    fileWriteName = os.path.join(\".\", \"SchNetInput\",\"energy_dipole_S\"+str(state+1)+\"_\"+molecule+\"_\"+method+\".xyz\")\n",
        "    os.makedirs(os.path.dirname(fileWriteName), exist_ok=True) # create folder if not existed yet\n",
        "    fileWriter = open(fileWriteName,\"w+\")\n",
        "\n",
        "    # ----------------------------- scan for matching geoms in/output files --------------------------\n",
        "    for f in os.listdir(property_dir): # loop output\n",
        "        filePath1 = os.path.join(\".\",property_dir,f)\n",
        "        geom = (os.path.splitext(os.path.basename(f))[0])\n",
        "        for f2 in os.listdir(geom_dir): # loop input\n",
        "            input = (os.path.splitext(os.path.basename(f2))[0])\n",
        "            # --------------write to xyz--------------\n",
        "            if(input==geom):\n",
        "                # ------------------- extract prop from f, geom from f2 -----------------\n",
        "                # read num atoms of INDOLE\n",
        "                fileWriter.write(str(16)+\"\\n\")\n",
        "                # read prop over\n",
        "                prop = extract_prop(filePath1, numstates=numstates)\n",
        "                delim = \", \"\n",
        "                print(str(prop))\n",
        "                # energy1, os1, dp1 = prop[state]\n",
        "                # energy2, os2 = prop[state+1]\n",
        "\n",
        "                # convert--------------------------------------------------------------------------------\n",
        "\n",
        "                # turn result to string-------------------------------------------------------------------------------\n",
        "                res = delim.join(map(str, prop[state]))\n",
        "                fileWriter.write(str(res)+\"\\n\")\n",
        "                \n",
        "                # read INDOLE over\n",
        "                # skip first 7 lines \n",
        "                # read till end\n",
        "                filePath2 = os.path.join(\".\",geom_dir,f2)\n",
        "                fileReader2 = open(filePath2,\"r\",encoding='utf-8')\n",
        "                line = fileReader2.readline()\n",
        "                for _ in range(startLine): # skip first startLine lines\n",
        "                    next(fileReader2)\n",
        "                while (line != ''):\n",
        "                    line = fileReader2.readline()\n",
        "                    # first = line.split()[0]\n",
        "                    # line = line.replace(first,first[0])\n",
        "                    fileWriter.write(line)\n",
        "                fileReader2.close()\n",
        "    \n",
        "    fileWriter.close()"
      ],
      "execution_count": null,
      "outputs": []
    },
    {
      "cell_type": "markdown",
      "metadata": {
        "id": "rwQ-dMCihbZd"
      },
      "source": [
        "Function-call cell, fix here *(0 = S1, 1 = S2)*"
      ]
    },
    {
      "cell_type": "code",
      "metadata": {
        "id": "VVBXWHo4i1DA"
      },
      "source": [
        "genSchNetInput(state=0) # build for each state 0 / 1 (0 = S1, 1 = S2)"
      ],
      "execution_count": null,
      "outputs": []
    },
    {
      "cell_type": "markdown",
      "metadata": {
        "id": "vdD0jeuVh099"
      },
      "source": [
        "Generate .db file for model "
      ]
    },
    {
      "cell_type": "code",
      "metadata": {
        "id": "P6Iqt5dXIcQB"
      },
      "source": [
        "# --------------------------------- Generate .db file for model ------------------------------- \n",
        "'''\n",
        "change name energy_dipole_<state>_indole_CAM-B3LYP_6-31G_d.xyz \n",
        "& \n",
        "SchNet_energy_dipole_<state>.db\n",
        "'''\n",
        "from schnetpack.data.atoms import AtomsData\n",
        "from ase.io import read\n",
        "import numpy as np\n",
        "import schnetpack as spk\n",
        "import os\n",
        "\n",
        "# comment line is weirdly stored in the info dictionary as key by ASE. here it corresponds to the energy\n",
        "atoms = read(os.path.join(\"SchNetInput\",\"energy_dipole_S1_indole_CAM-B3LYP_6-31G_d.xyz\"), index=':')\n",
        "print(len(atoms))\n",
        "print('Energy:', atoms[0].info)\n",
        "print()\n",
        "properties = ['energy', 'oscil_strength', 'dipole_moment']\n",
        "\n",
        "# %rm './SchNet_S2.db'\n",
        "new_dataset = AtomsData('./SchNet_energy_dipole_S1.db', available_properties=properties)\n",
        "\n",
        "# parse properties as list of dictionaries\n",
        "# energy_list = []\n",
        "# dipole_moment]\n",
        "for at in atoms:\n",
        "    # All properties need to be stored as numpy arrays.\n",
        "    # Note: The shape for scalars should be (1,), not ()\n",
        "    # Note: GPUs work best with float32 data\n",
        "    energy = np.array([float(list(at.info.keys())[0].replace(',', ''))], dtype=np.float32)\n",
        "    oscil_strength = np.array([float(list(at.info.keys())[1].replace(',', ''))], dtype=np.float32)\n",
        "    dipole_moment = np.array([float(list(at.info.keys())[2])], dtype=np.float32)\n",
        "\n",
        "    new_dataset.add_system(at,energy=energy, oscil_strength=oscil_strength, dipole_moment=dipole_moment)"
      ],
      "execution_count": null,
      "outputs": []
    },
    {
      "cell_type": "markdown",
      "metadata": {
        "id": "5NW0JRmUhsRU"
      },
      "source": [
        "Result check"
      ]
    },
    {
      "cell_type": "code",
      "metadata": {
        "id": "YD6ZkCzaIcM_"
      },
      "source": [
        "# ----------------------- check result --------------------------\n",
        "print('Number of reference calculations:', len(new_dataset))\n",
        "print('Available properties:')\n",
        "\n",
        "for p in new_dataset.available_properties:\n",
        "    print('-', p)\n",
        "print()\n",
        "\n",
        "example = new_dataset[0]\n",
        "print('Properties of molecule with id 0:')\n",
        "\n",
        "for k, v in example.items():\n",
        "    print('-', k, ':', v.shape)"
      ],
      "execution_count": null,
      "outputs": []
    }
  ]
}