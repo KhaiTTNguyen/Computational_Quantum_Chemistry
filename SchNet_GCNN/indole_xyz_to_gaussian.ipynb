{
  "nbformat": 4,
  "nbformat_minor": 0,
  "metadata": {
    "colab": {
      "name": "single-file-process.ipynb",
      "provenance": [],
      "collapsed_sections": [],
      "toc_visible": true,
      "authorship_tag": "ABX9TyPjvRcSVLYtq8Uenke5rMZY",
      "include_colab_link": true
    },
    "kernelspec": {
      "name": "python3",
      "display_name": "Python 3"
    }
  },
  "cells": [
    {
      "cell_type": "markdown",
      "metadata": {
        "id": "view-in-github",
        "colab_type": "text"
      },
      "source": [
        "<a href=\"https://colab.research.google.com/github/KhaiTTNguyen/Computational_Quantum_Chemistry/blob/master/indole_xyz_to_gaussian.ipynb\" target=\"_parent\"><img src=\"https://colab.research.google.com/assets/colab-badge.svg\" alt=\"Open In Colab\"/></a>"
      ]
    },
    {
      "cell_type": "code",
      "metadata": {
        "id": "wrPe5YVOvvGN",
        "colab": {
          "base_uri": "https://localhost:8080/"
        },
        "outputId": "23977758-717d-41f4-b783-3abcd06c9f66"
      },
      "source": [
        "# ! pip install sympy 1.3.0 \r\n",
        "# ! pip install chempy "
      ],
      "execution_count": 3,
      "outputs": [
        {
          "output_type": "stream",
          "text": [
            "Requirement already satisfied: sympy in /usr/local/lib/python3.6/dist-packages (1.1.1)\n",
            "\u001b[31mERROR: Could not find a version that satisfies the requirement 1.3.0 (from versions: none)\u001b[0m\n",
            "\u001b[31mERROR: No matching distribution found for 1.3.0\u001b[0m\n",
            "Collecting chempy\n",
            "\u001b[?25l  Downloading https://files.pythonhosted.org/packages/e3/e1/2951b7ebe18e8ac7ee439a3bc34fc9fd89c45ce1f1979b08dbfe33da4373/chempy-0.7.10.tar.gz (167kB)\n",
            "\u001b[K     |████████████████████████████████| 174kB 13.6MB/s \n",
            "\u001b[?25hRequirement already satisfied: numpy>1.11.3 in /usr/local/lib/python3.6/dist-packages (from chempy) (1.19.5)\n",
            "Requirement already satisfied: scipy>=1.0.1 in /usr/local/lib/python3.6/dist-packages (from chempy) (1.4.1)\n",
            "Requirement already satisfied: matplotlib>=2.2.3 in /usr/local/lib/python3.6/dist-packages (from chempy) (3.2.2)\n",
            "Requirement already satisfied: sympy!=1.2,>=1.1.1 in /usr/local/lib/python3.6/dist-packages (from chempy) (1.1.1)\n",
            "Collecting quantities>=0.12.1\n",
            "\u001b[?25l  Downloading https://files.pythonhosted.org/packages/2b/4f/2e8ce7d6c16fb07c43036f8539962322b2bf241e7397e87f318a1aa2f7c4/quantities-0.12.4.tar.gz (83kB)\n",
            "\u001b[K     |████████████████████████████████| 92kB 9.7MB/s \n",
            "\u001b[?25hCollecting pyneqsys>=0.5.5\n",
            "  Downloading https://files.pythonhosted.org/packages/32/2e/e462e8565f1472cc46bebf7a0bca7dc8a452a29dc73c341e4b3f70eaea86/pyneqsys-0.5.7.tar.gz\n",
            "Collecting pyodesys>=0.12.5\n",
            "\u001b[?25l  Downloading https://files.pythonhosted.org/packages/15/a3/7a77ad0fb49e77b0534e711df933aa29d982c6627ac3c110f44aa7597662/pyodesys-0.13.0.tar.gz (107kB)\n",
            "\u001b[K     |████████████████████████████████| 112kB 27.5MB/s \n",
            "\u001b[?25hRequirement already satisfied: pyparsing>=2.0.3 in /usr/local/lib/python3.6/dist-packages (from chempy) (2.4.7)\n",
            "Collecting sym>=0.3.4\n",
            "  Downloading https://files.pythonhosted.org/packages/f5/07/cc80b30b933c7430597fc884305c499e973f2e4c0a3a6208880ced5cefba/sym-0.3.4.tar.gz\n",
            "Requirement already satisfied: jupyter in /usr/local/lib/python3.6/dist-packages (from chempy) (1.0.0)\n",
            "Collecting pulp>=1.6.8\n",
            "\u001b[?25l  Downloading https://files.pythonhosted.org/packages/14/c4/0eec14a0123209c261de6ff154ef3be5cad3fd557c084f468356662e0585/PuLP-2.4-py3-none-any.whl (40.6MB)\n",
            "\u001b[K     |████████████████████████████████| 40.6MB 109kB/s \n",
            "\u001b[?25hCollecting dot2tex>=2.11.3\n",
            "  Downloading https://files.pythonhosted.org/packages/ca/9e/26e11dfd9762eda401181b4cf388de5421d4ccfdddef0ddc1a8c9256e072/dot2tex-2.11.3-py2.py3-none-any.whl\n",
            "Requirement already satisfied: kiwisolver>=1.0.1 in /usr/local/lib/python3.6/dist-packages (from matplotlib>=2.2.3->chempy) (1.3.1)\n",
            "Requirement already satisfied: cycler>=0.10 in /usr/local/lib/python3.6/dist-packages (from matplotlib>=2.2.3->chempy) (0.10.0)\n",
            "Requirement already satisfied: python-dateutil>=2.1 in /usr/local/lib/python3.6/dist-packages (from matplotlib>=2.2.3->chempy) (2.8.1)\n",
            "Requirement already satisfied: mpmath>=0.19 in /usr/local/lib/python3.6/dist-packages (from sympy!=1.2,>=1.1.1->chempy) (1.1.0)\n",
            "Requirement already satisfied: ipykernel in /usr/local/lib/python3.6/dist-packages (from jupyter->chempy) (4.10.1)\n",
            "Requirement already satisfied: qtconsole in /usr/local/lib/python3.6/dist-packages (from jupyter->chempy) (5.0.2)\n",
            "Requirement already satisfied: ipywidgets in /usr/local/lib/python3.6/dist-packages (from jupyter->chempy) (7.6.3)\n",
            "Requirement already satisfied: notebook in /usr/local/lib/python3.6/dist-packages (from jupyter->chempy) (5.3.1)\n",
            "Requirement already satisfied: jupyter-console in /usr/local/lib/python3.6/dist-packages (from jupyter->chempy) (5.2.0)\n",
            "Requirement already satisfied: nbconvert in /usr/local/lib/python3.6/dist-packages (from jupyter->chempy) (5.6.1)\n",
            "Collecting amply>=0.1.2\n",
            "  Downloading https://files.pythonhosted.org/packages/f3/c5/dfa09dd2595a2ab2ab4e6fa7bebef9565812722e1980d04b0edce5032066/amply-0.1.4-py3-none-any.whl\n",
            "Requirement already satisfied: six in /usr/local/lib/python3.6/dist-packages (from cycler>=0.10->matplotlib>=2.2.3->chempy) (1.15.0)\n",
            "Requirement already satisfied: tornado>=4.0 in /usr/local/lib/python3.6/dist-packages (from ipykernel->jupyter->chempy) (5.1.1)\n",
            "Requirement already satisfied: ipython>=4.0.0 in /usr/local/lib/python3.6/dist-packages (from ipykernel->jupyter->chempy) (5.5.0)\n",
            "Requirement already satisfied: traitlets>=4.1.0 in /usr/local/lib/python3.6/dist-packages (from ipykernel->jupyter->chempy) (4.3.3)\n",
            "Requirement already satisfied: jupyter-client in /usr/local/lib/python3.6/dist-packages (from ipykernel->jupyter->chempy) (5.3.5)\n",
            "Requirement already satisfied: jupyter-core in /usr/local/lib/python3.6/dist-packages (from qtconsole->jupyter->chempy) (4.7.0)\n",
            "Requirement already satisfied: qtpy in /usr/local/lib/python3.6/dist-packages (from qtconsole->jupyter->chempy) (1.9.0)\n",
            "Requirement already satisfied: pygments in /usr/local/lib/python3.6/dist-packages (from qtconsole->jupyter->chempy) (2.6.1)\n",
            "Requirement already satisfied: pyzmq>=17.1 in /usr/local/lib/python3.6/dist-packages (from qtconsole->jupyter->chempy) (21.0.2)\n",
            "Requirement already satisfied: ipython-genutils in /usr/local/lib/python3.6/dist-packages (from qtconsole->jupyter->chempy) (0.2.0)\n",
            "Requirement already satisfied: widgetsnbextension~=3.5.0 in /usr/local/lib/python3.6/dist-packages (from ipywidgets->jupyter->chempy) (3.5.1)\n",
            "Requirement already satisfied: jupyterlab-widgets>=1.0.0; python_version >= \"3.6\" in /usr/local/lib/python3.6/dist-packages (from ipywidgets->jupyter->chempy) (1.0.0)\n",
            "Requirement already satisfied: nbformat>=4.2.0 in /usr/local/lib/python3.6/dist-packages (from ipywidgets->jupyter->chempy) (5.1.2)\n",
            "Requirement already satisfied: jinja2 in /usr/local/lib/python3.6/dist-packages (from notebook->jupyter->chempy) (2.11.2)\n",
            "Requirement already satisfied: Send2Trash in /usr/local/lib/python3.6/dist-packages (from notebook->jupyter->chempy) (1.5.0)\n",
            "Requirement already satisfied: terminado>=0.8.1 in /usr/local/lib/python3.6/dist-packages (from notebook->jupyter->chempy) (0.9.2)\n",
            "Requirement already satisfied: prompt-toolkit<2.0.0,>=1.0.0 in /usr/local/lib/python3.6/dist-packages (from jupyter-console->jupyter->chempy) (1.0.18)\n",
            "Requirement already satisfied: bleach in /usr/local/lib/python3.6/dist-packages (from nbconvert->jupyter->chempy) (3.2.3)\n",
            "Requirement already satisfied: pandocfilters>=1.4.1 in /usr/local/lib/python3.6/dist-packages (from nbconvert->jupyter->chempy) (1.4.3)\n",
            "Requirement already satisfied: defusedxml in /usr/local/lib/python3.6/dist-packages (from nbconvert->jupyter->chempy) (0.6.0)\n",
            "Requirement already satisfied: mistune<2,>=0.8.1 in /usr/local/lib/python3.6/dist-packages (from nbconvert->jupyter->chempy) (0.8.4)\n",
            "Requirement already satisfied: entrypoints>=0.2.2 in /usr/local/lib/python3.6/dist-packages (from nbconvert->jupyter->chempy) (0.3)\n",
            "Requirement already satisfied: testpath in /usr/local/lib/python3.6/dist-packages (from nbconvert->jupyter->chempy) (0.4.4)\n",
            "Requirement already satisfied: docutils>=0.3 in /usr/local/lib/python3.6/dist-packages (from amply>=0.1.2->pulp>=1.6.8->chempy) (0.16)\n",
            "Requirement already satisfied: pexpect; sys_platform != \"win32\" in /usr/local/lib/python3.6/dist-packages (from ipython>=4.0.0->ipykernel->jupyter->chempy) (4.8.0)\n",
            "Requirement already satisfied: decorator in /usr/local/lib/python3.6/dist-packages (from ipython>=4.0.0->ipykernel->jupyter->chempy) (4.4.2)\n",
            "Requirement already satisfied: simplegeneric>0.8 in /usr/local/lib/python3.6/dist-packages (from ipython>=4.0.0->ipykernel->jupyter->chempy) (0.8.1)\n",
            "Requirement already satisfied: pickleshare in /usr/local/lib/python3.6/dist-packages (from ipython>=4.0.0->ipykernel->jupyter->chempy) (0.7.5)\n",
            "Requirement already satisfied: setuptools>=18.5 in /usr/local/lib/python3.6/dist-packages (from ipython>=4.0.0->ipykernel->jupyter->chempy) (51.3.3)\n",
            "Requirement already satisfied: jsonschema!=2.5.0,>=2.4 in /usr/local/lib/python3.6/dist-packages (from nbformat>=4.2.0->ipywidgets->jupyter->chempy) (2.6.0)\n",
            "Requirement already satisfied: MarkupSafe>=0.23 in /usr/local/lib/python3.6/dist-packages (from jinja2->notebook->jupyter->chempy) (1.1.1)\n",
            "Requirement already satisfied: ptyprocess; os_name != \"nt\" in /usr/local/lib/python3.6/dist-packages (from terminado>=0.8.1->notebook->jupyter->chempy) (0.7.0)\n",
            "Requirement already satisfied: wcwidth in /usr/local/lib/python3.6/dist-packages (from prompt-toolkit<2.0.0,>=1.0.0->jupyter-console->jupyter->chempy) (0.2.5)\n",
            "Requirement already satisfied: webencodings in /usr/local/lib/python3.6/dist-packages (from bleach->nbconvert->jupyter->chempy) (0.5.1)\n",
            "Requirement already satisfied: packaging in /usr/local/lib/python3.6/dist-packages (from bleach->nbconvert->jupyter->chempy) (20.8)\n",
            "Building wheels for collected packages: chempy, quantities, pyneqsys, pyodesys, sym\n",
            "  Building wheel for chempy (setup.py) ... \u001b[?25l\u001b[?25hdone\n",
            "  Created wheel for chempy: filename=chempy-0.7.10-py2.py3-none-any.whl size=206046 sha256=71f29ba4bcaa15572447ade8c528fefeb7f7fa0d31177cf14c3b85b9de4092bd\n",
            "  Stored in directory: /root/.cache/pip/wheels/39/87/ce/040d9ca0df05bcf5c4d305196a2203c6d0175c4a313a37fef3\n",
            "  Building wheel for quantities (setup.py) ... \u001b[?25l\u001b[?25hdone\n",
            "  Created wheel for quantities: filename=quantities-0.12.4-cp36-none-any.whl size=79167 sha256=f5166004bd642e3bb213c8f4d00d8ada096a985c942bd5bc7fd45e8c9f64f8c8\n",
            "  Stored in directory: /root/.cache/pip/wheels/2c/27/a5/62fb2a57d167d7b7164278de7399ba1504321c1d6c3a3802d5\n",
            "  Building wheel for pyneqsys (setup.py) ... \u001b[?25l\u001b[?25hdone\n",
            "  Created wheel for pyneqsys: filename=pyneqsys-0.5.7-py2.py3-none-any.whl size=27266 sha256=f461e92dcc99e900aeb016f6167edc3908554e154362c951d73acab49e382443\n",
            "  Stored in directory: /root/.cache/pip/wheels/e8/ae/4e/ab1d94afa5c9e1e7d116b74ece9ee382cbddf36bd1189a3d87\n",
            "  Building wheel for pyodesys (setup.py) ... \u001b[?25l\u001b[?25hdone\n",
            "  Created wheel for pyodesys: filename=pyodesys-0.13.0-py2.py3-none-any.whl size=122489 sha256=ab88f3b120185a687b219ad5525bee4706cd772dad8c236370e113433ac4fc68\n",
            "  Stored in directory: /root/.cache/pip/wheels/6f/31/ce/fab8da2cfba0530ba85e98c909c5b828e86afbbd672ce7f5ba\n",
            "  Building wheel for sym (setup.py) ... \u001b[?25l\u001b[?25hdone\n",
            "  Created wheel for sym: filename=sym-0.3.4-py2.py3-none-any.whl size=20822 sha256=927e5102dabb5c81a89d52844f44a071960e1d5269c6d6562001090bb0a830d6\n",
            "  Stored in directory: /root/.cache/pip/wheels/54/29/cb/99f5eaa94bbaac78e725b1dadae048b551808ce9a15317482a\n",
            "Successfully built chempy quantities pyneqsys pyodesys sym\n",
            "\u001b[31mERROR: pyneqsys 0.5.7 has requirement sympy>=1.3, but you'll have sympy 1.1.1 which is incompatible.\u001b[0m\n",
            "Installing collected packages: quantities, sym, pyneqsys, pyodesys, amply, pulp, dot2tex, chempy\n",
            "Successfully installed amply-0.1.4 chempy-0.7.10 dot2tex-2.11.3 pulp-2.4 pyneqsys-0.5.7 pyodesys-0.13.0 quantities-0.12.4 sym-0.3.4\n"
          ],
          "name": "stdout"
        }
      ]
    },
    {
      "cell_type": "code",
      "metadata": {
        "id": "5McTvHrpvwbM"
      },
      "source": [
        ""
      ],
      "execution_count": 1,
      "outputs": []
    },
    {
      "cell_type": "code",
      "metadata": {
        "id": "V7VId2ax3RE8"
      },
      "source": [
        "# open big file\r\n",
        "# recognize integer in front --> go to line 1000th\r\n",
        "# start read & write new small files\r\n",
        "#   9989 jump each time\r\n",
        "import re, math, os,timeit\r\n",
        "import numpy as np\r\n",
        "import pandas as pd\r\n",
        "import chempy as cp \r\n"
      ],
      "execution_count": 4,
      "outputs": []
    },
    {
      "cell_type": "code",
      "metadata": {
        "id": "n1syq-oTwDbB"
      },
      "source": [
        "#get a file name to be read\r\n",
        "def splitToMultiples(fileToRead, numGeomToSkip):\r\n",
        "  fileReader = open(fileToRead,\"r\",encoding='utf-8')\r\n",
        "  line = fileReader.readline()\r\n",
        "  NUM_COORDS = line\r\n",
        "  \r\n",
        "  # skip to startLine  \r\n",
        "  startLine = numGeomToSkip * (int(NUM_COORDS.strip()) + 2) + 1\r\n",
        "  for _ in range(startLine):\r\n",
        "    next(fileReader)\r\n",
        "\r\n",
        "  # start reading\r\n",
        "  fileCount = 0\r\n",
        "  fileWriteName = os.path.join(\".\", \"output\",\"geom_\"+str(fileCount)+\".xyz\")\r\n",
        "  os.makedirs(os.path.dirname(fileWriteName), exist_ok=True) # create 'output' folder if not existed yet\r\n",
        "  currFileWriter = open(fileWriteName,\"a\")\r\n",
        "  \r\n",
        "  while (line != ''):\r\n",
        "    line = fileReader.readline()\r\n",
        "    if re.match(' generated by VMD\\n', line) : \r\n",
        "      continue\r\n",
        "    elif re.match(NUM_COORDS, line):\r\n",
        "      currFileWriter.close()\r\n",
        "      fileCount += 1\r\n",
        "      # creat new file --- currentFile    \r\n",
        "      fileWriteName = os.path.join(\".\", \"output\",\"geom_\"+str(fileCount)+\".xyz\")\r\n",
        "      os.makedirs(os.path.dirname(fileWriteName), exist_ok=True) # create 'output' folder if not existed yet\r\n",
        "      currFileWriter = open(fileWriteName,\"a\")\r\n",
        "      \r\n",
        "    else:    \r\n",
        "      # append to new file\r\n",
        "      currFileWriter.write(line)\r\n",
        "\r\n",
        "  currFileWriter.close()\r\n",
        "  fileReader.close()\r\n",
        "\r\n",
        "\r\n",
        "fileToRead = \"UC-MM-PBC.xyz\"\r\n",
        "splitToMultiples(fileToRead, 1000)"
      ],
      "execution_count": 5,
      "outputs": []
    },
    {
      "cell_type": "code",
      "metadata": {
        "id": "KKcGFOcIJj_Z"
      },
      "source": [
        "# mydir = \"output\"\r\n",
        "# for f in os.listdir(mydir):\r\n",
        "#     if not f.endswith(\".xyz\"):\r\n",
        "#         continue\r\n",
        "#     os.remove(os.path.join(mydir, f))"
      ],
      "execution_count": null,
      "outputs": []
    },
    {
      "cell_type": "code",
      "metadata": {
        "id": "e2bwWPZJKDKC"
      },
      "source": [
        ""
      ],
      "execution_count": null,
      "outputs": []
    },
    {
      "cell_type": "code",
      "metadata": {
        "id": "V-vJKX8zEHrX"
      },
      "source": [
        ""
      ],
      "execution_count": null,
      "outputs": []
    },
    {
      "cell_type": "code",
      "metadata": {
        "id": "ZCic9iR6QLNn"
      },
      "source": [
        "# configurations\r\n",
        "# this script is applicatble only for ring-molecules\r\n",
        "RADIUS = 6.00 # angstrom -- since CoM in a couple of angstrom inside the INDOLE molecule\r\n",
        "INDOLE_NUM_ATOM = 16\r\n",
        "# change \"header\" in genGaussianInput(fileName) if use different molecule"
      ],
      "execution_count": 6,
      "outputs": []
    },
    {
      "cell_type": "code",
      "metadata": {
        "id": "DBhmaV0jHP4X"
      },
      "source": [
        ""
      ],
      "execution_count": null,
      "outputs": []
    },
    {
      "cell_type": "code",
      "metadata": {
        "id": "j8fPOxVuSvT9"
      },
      "source": [
        "def genGaussianInput(fileName):\r\n",
        "  '''\r\n",
        "    take in file\r\n",
        "    store \r\n",
        "    filter\r\n",
        "      find CoM_indole\r\n",
        "      keep looping till end of file / 3 lines at a time \r\n",
        "        True: write 3 lines\r\n",
        "    close\r\n",
        "  '''\r\n",
        "  filePath = os.path.join(\".\", \"output\",fileName)\r\n",
        "\r\n",
        "  data = pd.read_csv(filePath, sep=\"\\\\s+\", header=None)\r\n",
        "  data[0] = data[0].apply(lambda x: cp.util.periodic.mass_from_composition(cp.util.parsing.formula_to_composition(x[0])))\r\n",
        "\r\n",
        "\r\n",
        "  np_mass, np_x, np_y, np_z = data[0].to_numpy(dtype=np.float64), \\\r\n",
        "                                  data[1].to_numpy(dtype=np.float64), \\\r\n",
        "                                  data[2].to_numpy(dtype=np.float64), \\\r\n",
        "                                  data[3].to_numpy(dtype=np.float64)      \r\n",
        "  #----------------------------------------------------\r\n",
        "  start_indx = INDOLE_NUM_ATOM  \r\n",
        "  indole_CoM = np.asarray([np.dot(np_mass[:start_indx],np_x[:start_indx])/np.sum(np_mass[:start_indx]), \\\r\n",
        "                           np.dot(np_mass[:start_indx],np_y[:start_indx])/np.sum(np_mass[:start_indx]), \\\r\n",
        "                           np.dot(np_mass[:start_indx],np_z[:start_indx])/np.sum(np_mass[:start_indx])])\r\n",
        "\r\n",
        "\r\n",
        "  fileReader = open(filePath,\"r\",encoding='utf-8')\r\n",
        "\r\n",
        "  # -------------------- start writing --------------------\r\n",
        "  fileWriteName = os.path.join(\".\", \"GaussInput\",os.path.splitext(fileName)[0]+\".inp\")\r\n",
        "  os.makedirs(os.path.dirname(fileWriteName), exist_ok=True) # create folder if not existed yet\r\n",
        "  fileWriter = open(fileWriteName,\"w+\")\r\n",
        "\r\n",
        "  # write header\r\n",
        "  header = '{}\\n{}\\n{}\\n\\n{}\\n\\n{}\\n'.format('%mem=1gb', \r\n",
        "                                                    '%nproc=4',\r\n",
        "                                                    '#P TD(NStates=5) CAM-B3LYP/6-31G(d) SP',\r\n",
        "                                                    'C8H7N-excited',\r\n",
        "                                                    '0 1')      \r\n",
        "  fileWriter.write(header)\r\n",
        "\r\n",
        "  # read INDOLE over\r\n",
        "  for _ in range(start_indx):\r\n",
        "    line = fileReader.readline()\r\n",
        "    first = line.split()[0]\r\n",
        "    line = line.replace(first,first[0])\r\n",
        "    fileWriter.write(line)\r\n",
        "\r\n",
        "  # read WATERs over\r\n",
        "  while start_indx < len(np_mass):\r\n",
        "    '''\r\n",
        "    compute CoM\r\n",
        "    satisfy, write lines\r\n",
        "    '''\r\n",
        "    water_CoM = np.asarray([np.dot(np_mass[start_indx:start_indx+3],np_x[start_indx:start_indx+3])/np.sum(np_mass[start_indx:start_indx+3]), \\\r\n",
        "                            np.dot(np_mass[start_indx:start_indx+3],np_y[start_indx:start_indx+3])/np.sum(np_mass[start_indx:start_indx+3]), \\\r\n",
        "                            np.dot(np_mass[start_indx:start_indx+3],np_z[start_indx:start_indx+3])/np.sum(np_mass[start_indx:start_indx+3])])\r\n",
        "    # ---- filter-----\r\n",
        "    numline = 0\r\n",
        "    if np.linalg.norm(indole_CoM - water_CoM) <= RADIUS:\r\n",
        "      while numline < 3:\r\n",
        "        line = fileReader.readline()\r\n",
        "        first = line.split()[0]\r\n",
        "        line = line.replace(first,first[0])\r\n",
        "        fileWriter.write(line)\r\n",
        "        numline=numline+1  \r\n",
        "    else:\r\n",
        "      while numline < 3:\r\n",
        "        line = fileReader.readline()\r\n",
        "        numline=numline+1\r\n",
        "    start_indx = start_indx + 3\r\n",
        "\r\n",
        "  fileWriter.close()\r\n",
        "  fileReader.close()"
      ],
      "execution_count": 20,
      "outputs": []
    },
    {
      "cell_type": "code",
      "metadata": {
        "id": "l-UaTUsCN6na"
      },
      "source": [
        ""
      ],
      "execution_count": 14,
      "outputs": []
    },
    {
      "cell_type": "code",
      "metadata": {
        "id": "ngcCdkwua0vv"
      },
      "source": [
        "# can use multiprocessing for this\r\n",
        "mydir = \"output\"\r\n",
        "for f in os.listdir(mydir):\r\n",
        "    genGaussianInput(f)"
      ],
      "execution_count": 21,
      "outputs": []
    },
    {
      "cell_type": "code",
      "metadata": {
        "id": "kbu77yEMPZJL"
      },
      "source": [
        "mydir = \"GaussInput\"\r\n",
        "for f in os.listdir(mydir):\r\n",
        "    if not f.endswith(\".inp\"):\r\n",
        "        continue\r\n",
        "    os.remove(os.path.join(mydir, f))\r\n",
        "# from google.colab import drive\r\n",
        "# drive.mount('/content/drive')"
      ],
      "execution_count": 19,
      "outputs": []
    },
    {
      "cell_type": "code",
      "metadata": {
        "id": "MXdI4PvwfpsL",
        "colab": {
          "base_uri": "https://localhost:8080/"
        },
        "outputId": "b50bf977-4120-4d34-b401-01189a427ad9"
      },
      "source": [
        " !zip -r GaussInput.zip GaussInput/ "
      ],
      "execution_count": 11,
      "outputs": [
        {
          "output_type": "stream",
          "text": [
            "updating: GaussInput/ (stored 0%)\n"
          ],
          "name": "stdout"
        }
      ]
    },
    {
      "cell_type": "code",
      "metadata": {
        "colab": {
          "base_uri": "https://localhost:8080/"
        },
        "id": "8hZPOGisVeLe",
        "outputId": "2db4d770-09b1-4eeb-b9a2-8c9afa47b497"
      },
      "source": [
        "cp.util.periodic.mass_from_composition(cp.util.parsing.formula_to_composition('C'))\r\n"
      ],
      "execution_count": null,
      "outputs": [
        {
          "output_type": "execute_result",
          "data": {
            "text/plain": [
              "12.011"
            ]
          },
          "metadata": {
            "tags": []
          },
          "execution_count": 20
        }
      ]
    },
    {
      "cell_type": "code",
      "metadata": {
        "id": "v9C5wb9kZpFV",
        "colab": {
          "base_uri": "https://localhost:8080/",
          "height": 35
        },
        "outputId": "aaf0f979-e8a7-45af-c344-9dcf302367fc"
      },
      "source": [
        "fileWriteName = os.path.join(\".\", \"GaussInput\",os.path.splitext(fileName)[0]+\".inp\")\r\n",
        "fileWriteName"
      ],
      "execution_count": null,
      "outputs": [
        {
          "output_type": "execute_result",
          "data": {
            "application/vnd.google.colaboratory.intrinsic+json": {
              "type": "string"
            },
            "text/plain": [
              "'./GaussInput/geom_10.inp'"
            ]
          },
          "metadata": {
            "tags": []
          },
          "execution_count": 47
        }
      ]
    },
    {
      "cell_type": "code",
      "metadata": {
        "colab": {
          "base_uri": "https://localhost:8080/",
          "height": 35
        },
        "id": "Gc6Sd2rB2TD7",
        "outputId": "1f0b22e6-b85c-4e2a-cf43-1bcc806e6d9e"
      },
      "source": [
        "line1 = 'OW        23.130001       -1.129798       30.950003'\r\n",
        "line2 = 'HW1       23.650002       -1.919798       30.630003'\r\n",
        "first = line2.split()[0]\r\n",
        "line2 = line2.replace(first,first[0])\r\n",
        "line2"
      ],
      "execution_count": null,
      "outputs": [
        {
          "output_type": "execute_result",
          "data": {
            "application/vnd.google.colaboratory.intrinsic+json": {
              "type": "string"
            },
            "text/plain": [
              "'H       23.650002       -1.919798       30.630003'"
            ]
          },
          "metadata": {
            "tags": []
          },
          "execution_count": 107
        }
      ]
    },
    {
      "cell_type": "code",
      "metadata": {
        "id": "NXqlnl67AsX5"
      },
      "source": [
        ""
      ],
      "execution_count": null,
      "outputs": []
    },
    {
      "cell_type": "code",
      "metadata": {
        "id": "6V1kJcSYFe2Q"
      },
      "source": [
        "# first = line2.split()[0]\r\n",
        "#         line = line.replace(first,first[0])"
      ],
      "execution_count": null,
      "outputs": []
    },
    {
      "cell_type": "code",
      "metadata": {
        "id": "YKpWpfQYQrrg"
      },
      "source": [
        ""
      ],
      "execution_count": null,
      "outputs": []
    },
    {
      "cell_type": "code",
      "metadata": {
        "id": "22u9taB-HpHn"
      },
      "source": [
        "s = \"hello\"\r\n",
        "print(s.capitalize())  # Capitalize a string; prints \"Hello\"\r\n",
        "print(s.upper())       # Convert a string to uppercase; prints \"HELLO\"\r\n",
        "print(s.rjust(7))      # Right-justify a string, padding with spaces; prints \"  hello\"\r\n",
        "print(s.center(7))     # Center a string, padding with spaces; prints \" hello \"\r\n",
        "print(s.replace('l', '(ell)'))  # Replace all instances of one substring with another;\r\n",
        "                                # prints \"he(ell)(ell)o\"\r\n",
        "print('  world '.strip())  # Strip leading and trailing whitespace; prints \"world\""
      ],
      "execution_count": null,
      "outputs": []
    },
    {
      "cell_type": "code",
      "metadata": {
        "id": "GH658EY2HpOr"
      },
      "source": [
        ""
      ],
      "execution_count": null,
      "outputs": []
    },
    {
      "cell_type": "code",
      "metadata": {
        "id": "DsKSx0GNHpqF"
      },
      "source": [
        ""
      ],
      "execution_count": null,
      "outputs": []
    },
    {
      "cell_type": "code",
      "metadata": {
        "id": "N0gpDtwDQruX"
      },
      "source": [
        "'''\r\n",
        "files are splited and jobs are executed in order\r\n",
        "--> CAN'T USE: results must be sequential\r\n",
        "\r\n",
        "Credit: https://www.blopig.com/blog/2016/08/processing-large-files-using-python/\r\n",
        "'''\r\n",
        "\r\n",
        "# import multiprocessing as mp,os\r\n",
        "\r\n",
        "# FILENAME = \"spark-sample.txt\"\r\n",
        "# def process_wrapper(chunkStart, chunkSize):\r\n",
        "#     with open(FILENAME) as f:\r\n",
        "#         f.seek(chunkStart)\r\n",
        "#         lines = f.read(chunkSize).splitlines()\r\n",
        "#         for line in lines:\r\n",
        "#             print(line)\r\n",
        "\r\n",
        "# def chunkify(fname,size=10):\r\n",
        "#     fileEnd = os.path.getsize(fname)\r\n",
        "#     with open(fname,'rb+') as f:\r\n",
        "#       chunkEnd = f.tell() # start of file\r\n",
        "#       while True:\r\n",
        "#           chunkStart = chunkEnd\r\n",
        "#           f.seek(size,1) # ---> 1 (seek relative to the current position)\r\n",
        "#           f.readline()\r\n",
        "#           chunkEnd = f.tell()\r\n",
        "#           yield chunkStart, chunkEnd - chunkStart\r\n",
        "#           if chunkEnd >= fileEnd:\r\n",
        "#               break\r\n",
        "\r\n",
        "# #init objects\r\n",
        "# pool = mp.Pool(4)\r\n",
        "# jobs = []\r\n",
        "\r\n",
        "# #create jobs\r\n",
        "# for chunkStart,chunkSize in chunkify(FILENAME):\r\n",
        "#     jobs.append( pool.apply_async(process_wrapper,(chunkStart,chunkSize)) )\r\n",
        "\r\n",
        "# #wait for all jobs to finish\r\n",
        "# for job in jobs:\r\n",
        "#     job.get()\r\n",
        "\r\n",
        "# #clean up\r\n",
        "# pool.close()"
      ],
      "execution_count": null,
      "outputs": []
    },
    {
      "cell_type": "code",
      "metadata": {
        "id": "WfXYBzPZs3ST"
      },
      "source": [
        "def addEndline(fileName):\r\n",
        "  '''\r\n",
        "    take in file\r\n",
        "    seek(end)\r\n",
        "    add newline\r\n",
        "    close\r\n",
        "  '''\r\n",
        "  f = open(fileName, 'a+')\r\n",
        "  f.write(\"\\n\")\r\n",
        "  f.close()"
      ],
      "execution_count": 39,
      "outputs": []
    },
    {
      "cell_type": "code",
      "metadata": {
        "id": "vHwKWt3hs3cv"
      },
      "source": [
        "# can use multiprocessing for this\r\n",
        "def computeGauss():\r\n",
        "  mydir = \"GaussInput\"\r\n",
        "  for f in os.listdir(mydir):\r\n",
        "    addEndline(f)\r\n",
        "\r\n",
        "computeGauss()"
      ],
      "execution_count": 40,
      "outputs": []
    },
    {
      "cell_type": "code",
      "metadata": {
        "id": "EpeP3Usyvuud"
      },
      "source": [
        ""
      ],
      "execution_count": null,
      "outputs": []
    }
  ]
}