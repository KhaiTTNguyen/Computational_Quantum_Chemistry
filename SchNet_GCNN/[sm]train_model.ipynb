{
  "nbformat": 4,
  "nbformat_minor": 0,
  "metadata": {
    "colab": {
      "name": "train_model",
      "provenance": [],
      "collapsed_sections": []
    },
    "kernelspec": {
      "name": "python3",
      "display_name": "Python 3"
    },
    "language_info": {
      "name": "python"
    }
  },
  "cells": [
    {
      "cell_type": "markdown",
      "metadata": {
        "id": "JZfmQwZ_ed_4"
      },
      "source": [
        "Steps for preparing & training SchNet Model"
      ]
    },
    {
      "cell_type": "code",
      "metadata": {
        "id": "1ZTc3JD6SdvX"
      },
      "source": [
        "# ====================================== SchNet Model start here ======================================\n",
        "# SChNet arch: https://schnetpack.readthedocs.io/en/stable/modules/representation.html#module-schnetpack.representation.schnet\n",
        "# Prep data: https://schnetpack.readthedocs.io/en/stable/tutorials/tutorial_01_preparing_data.html\n",
        "# Build model: \n",
        "from schnetpack.data.atoms import AtomsData\n",
        "from ase.io import read\n",
        "import numpy as np\n",
        "import schnetpack as spk\n",
        "import os\n",
        "# load atoms from xyz file. Here, we only parse the first 10 molecules\n",
        "# atoms = read(os.path.join(\"SchNetInput\",\"S2_indole_CAM-B3LYP_6-31G_d.xyz\"), index=':')\n",
        "# print(len(atoms))"
      ],
      "execution_count": null,
      "outputs": []
    },
    {
      "cell_type": "code",
      "metadata": {
        "id": "sQgYHi63S94H"
      },
      "source": [
        "# comment line is weirdly stored in the info dictionary as key by ASE. here it corresponds to the energy\n",
        "# print('Energy:', atoms[0].info)\n",
        "# print()\n",
        "properties = ['energy', 'oscil_strength', 'dipole_moment']\n",
        "# properties = ['energy', 'dipole_moment']\n",
        "# %rm './SchNet_S2.db'\n",
        "new_dataset = AtomsData(os.path.join('.','SchNetModel2','SchNet_energy_oscil_dipole_S1.db'), available_properties=properties)\n",
        "# # parse properties as list of dictionaries\n",
        "# energy_list = []\n",
        "# oscil_list = []\n",
        "# for at in atoms:\n",
        "#     # All properties need to be stored as numpy arrays.\n",
        "#     # Note: The shape for scalars should be (1,), not ()\n",
        "#     # Note: GPUs work best with float32 data\n",
        "#     energy = np.array([float(list(at.info.keys())[0].replace(',', ''))], dtype=np.float32)\n",
        "#     oscil_strength = np.array([float(list(at.info.keys())[1])], dtype=np.float32)\n",
        "\n",
        "#     new_dataset.add_system(at,energy=energy, oscil_strength=oscil_strength)\n",
        "#     # energy_list.append({properties[0]: energy})\n",
        "#     # oscil_list.append({properties[1]: oscil_strength})"
      ],
      "execution_count": null,
      "outputs": []
    },
    {
      "cell_type": "markdown",
      "metadata": {
        "id": "yMuBLQ-Benf2"
      },
      "source": [
        "Visualize molecule"
      ]
    },
    {
      "cell_type": "code",
      "metadata": {
        "id": "mcFwfv9yS97L"
      },
      "source": [
        "properties = ['energy', 'oscil_strength', 'dipole_moment']\n",
        "SchNet_data = AtomsData(os.path.join('.','SchNetModel2','SchNet_energy_oscil_dipole_S1.db'), available_properties=properties)\n",
        "atoms, properties = new_dataset.get_properties(0)\n",
        "print('Loaded properties:\\n', *['{:s}\\n'.format(i) for i in properties.keys()])\n",
        "\n",
        "from ase.visualize import view\n",
        "view(atoms, viewer='x3d')\n",
        "#-----------------------------------------------------------------------"
      ],
      "execution_count": null,
      "outputs": []
    },
    {
      "cell_type": "markdown",
      "metadata": {
        "id": "BibJL7tVeut-"
      },
      "source": [
        "Split data & check statistical metrics "
      ]
    },
    {
      "cell_type": "code",
      "metadata": {
        "id": "qcd8T-VyS98p"
      },
      "source": [
        "import schnetpack as spk\n",
        "import os\n",
        "\n",
        "SchNetModel2 = './SchNetModel2'\n",
        "if not os.path.exists(SchNetModel2):\n",
        "    os.makedirs(SchNetModel2)"
      ],
      "execution_count": null,
      "outputs": []
    },
    {
      "cell_type": "code",
      "metadata": {
        "id": "CvMaMRvaUrFp"
      },
      "source": [
        "# --------------------------------- split data ---------------------------------\n",
        "properties = ['energy', 'oscil_strength', 'dipole_moment']\n",
        "SchNet_data = AtomsData(os.path.join('.','SchNetModel2','SchNet_energy_oscil_dipole_S1.db'), available_properties=properties)\n",
        "train, val, test = spk.train_test_split(\n",
        "    data=SchNet_data,\n",
        "    num_train=1500,\n",
        "    num_val=300,\n",
        "    split_file=os.path.join(SchNetModel2, \"split.npz\"),\n",
        ")\n",
        "\n",
        "train_loader = spk.AtomsLoader(train, batch_size=100, shuffle=True)\n",
        "val_loader = spk.AtomsLoader(val, batch_size=100)"
      ],
      "execution_count": null,
      "outputs": []
    },
    {
      "cell_type": "code",
      "metadata": {
        "id": "CIbGld7dUrIH"
      },
      "source": [
        "# --------------------------------- check statistical metrics ---------------------------------\n",
        "train_loader = spk.AtomsLoader(train, batch_size=100, shuffle=True)\n",
        "val_loader = spk.AtomsLoader(val, batch_size=100)\n",
        "\n",
        "means, stddevs = train_loader.get_statistics(\n",
        "    properties\n",
        ")\n",
        "print('Mean S2 energy / atom:      {:12.4f} [eV]'.format(means['energy'][0]))\n",
        "print('Std. dev. S2 energy / atom: {:12.4f} [ev]'.format(stddevs['energy'][0]))\n",
        "print('Mean oscil_strength / atom:      {:12.4f} []'.format(means['oscil_strength'][0]))\n",
        "print('Std. dev.  oscil_strength / atom: {:12.4f} []'.format(stddevs['oscil_strength'][0]))\n",
        "print('Mean dipole / atom:      {:12.4f} []'.format(means['dipole_moment'][0]))\n",
        "print('Std. dev. dipole / atom: {:12.4f} []'.format(stddevs['dipole_moment'][0]))"
      ],
      "execution_count": null,
      "outputs": []
    },
    {
      "cell_type": "markdown",
      "metadata": {
        "id": "UOPTW3e3e3mP"
      },
      "source": [
        "**Model parameters**"
      ]
    },
    {
      "cell_type": "code",
      "metadata": {
        "id": "hlFETdLMUrK6"
      },
      "source": [
        "# ------------------------------------ model ----------------------------------------\n",
        "import torch\n",
        "n_features = 128 # 512 / 7 / 6.\n",
        "schnet = spk.representation.SchNet(\n",
        "    n_atom_basis=n_features, \n",
        "    n_filters=n_features, \n",
        "    n_gaussians=25, \n",
        "    n_interactions=10,\n",
        "    cutoff=5., \n",
        "    cutoff_network=spk.nn.cutoff.CosineCutoff\n",
        ")\n",
        "\n",
        "energy_model = spk.atomistic.Atomwise(\n",
        "    n_in=n_features,\n",
        "    property='energy',\n",
        "    mean=means['energy'][0],\n",
        "    stddev=stddevs['energy'][0]\n",
        "    # activation=torch.nn.functional.relu # <---------torch.nn.ReLU\n",
        ")\n",
        "\n",
        "oscil_model = spk.atomistic.Atomwise( # <--------------------------------\n",
        "    n_in=n_features,\n",
        "    property='oscil_strength',\n",
        "    mean=means['oscil_strength'][0],\n",
        "    stddev=stddevs['oscil_strength'][0]\n",
        "    # activation=torch.nn.functional.relu\n",
        ")\n",
        "\n",
        "dipole_model = spk.atomistic.DipoleMoment(\n",
        "    n_in=n_features, \n",
        "    n_layers=2, \n",
        "    n_neurons=None, \n",
        "    # activation=torch.nn.functional.relu, # <--------------torch.nn.functional.relu // & energy & dipole only // interaction blocks //& generate Model for S1\n",
        "    property='dipole_moment', \n",
        "    predict_magnitude=True, \n",
        "    mean=means['dipole_moment'][0], \n",
        "    stddev=stddevs['dipole_moment'][0]\n",
        ")\n",
        "\n",
        "# energy_model = spk.atomistic.Atomwise(n_in=30, atomref=atomrefs[QM9.U0], property=QM9.U0,\n",
        "#                                    mean=means[QM9.U0], stddev=stddevs[QM9.U0])\n",
        "# model = spk.AtomisticModel(representation=schnet, output_modules=[energy_model,oscil_model,dipole_model])\n",
        "model = spk.AtomisticModel(representation=schnet, output_modules=[energy_model,dipole_model])"
      ],
      "execution_count": null,
      "outputs": []
    },
    {
      "cell_type": "markdown",
      "metadata": {
        "id": "5ktizd5Ye9z9"
      },
      "source": [
        " **Loss function & Optimizer**"
      ]
    },
    {
      "cell_type": "code",
      "metadata": {
        "id": "BGbJrni-UrPI"
      },
      "source": [
        "# ------------------------------- Loss function -----------------------------------\n",
        "import torch\n",
        "from torch.optim import Adam \n",
        "# tradeoff\n",
        "rho_tradeoff = 0.9 # for oscilator strength\n",
        "properties = ['energy', 'oscil_strength', 'dipole_moment']\n",
        "# loss function\n",
        "def mse_loss(batch, result):\n",
        "    # compute the mean squared error on the energies\n",
        "    diff_energy = batch[properties[0]]-result[properties[0]]\n",
        "    err_sq_energy = torch.mean(diff_energy ** 2)\n",
        "    # compute the mean squared error on the oscil\n",
        "    # diff_oscil = batch[properties[1]]-result[properties[1]]\n",
        "    # err_sq_oscil = torch.mean(diff_oscil ** 2)\n",
        "    # compute the mean squared error on the oscil\n",
        "    diff_dipole = batch[properties[2]]-result[properties[2]]\n",
        "    err_sq_dipole = torch.mean(diff_dipole ** 2)\n",
        "    # build the combined loss function\n",
        "    print(\"L_e: \"+str(err_sq_energy)+ \"and L_dipole: \"+ str(err_sq_dipole))\n",
        "    # err_sq = err_sq_energy + rho_tradeoff*err_sq_oscil + rho_tradeoff*err_sq_dipole\n",
        "    err_sq = (1-rho_tradeoff)*err_sq_energy + rho_tradeoff*err_sq_dipole\n",
        "    return err_sq\n",
        "\n",
        "# build optimizer\n",
        "optimizer = Adam(model.parameters(), lr=5e-4) # SGD recommended - by KietChu"
      ],
      "execution_count": null,
      "outputs": []
    },
    {
      "cell_type": "markdown",
      "metadata": {
        "id": "OqaXeN-8fdvx"
      },
      "source": [
        "Setup logging & trainer"
      ]
    },
    {
      "cell_type": "code",
      "metadata": {
        "id": "3Ou1W9xmUrS3"
      },
      "source": [
        "# before setting up the trainer, remove previous training checkpoints and logs\n",
        "%rm -rf ./SchNetModel2/checkpoints\n",
        "%rm -rf ./SchNetModel2/log.csv\n",
        "%rm -rf ./SchNetModel2/best_model\n",
        "%rm -rf ./SchNetModel2/tensorboard\n",
        "\n",
        "import schnetpack.train as trn\n",
        "os.makedirs(os.path.dirname(os.path.join(\"SchNetModel2\",\"tensorboard\")), exist_ok=True) # create folder if not existed yet\n",
        "# loss = trn.build_mse_loss([curr_porperty]) #<--------------------\n",
        "\n",
        "metrics = [spk.metrics.MeanAbsoluteError(properties[0]),\n",
        "           spk.metrics.MeanAbsoluteError(properties[2])] #<--------------------\n",
        "hooks = [\n",
        "    trn.TensorboardHook(log_path=os.path.join(\"SchNetModel2\",\"tensorboard\"), metrics=metrics),\n",
        "    trn.CSVHook(log_path=SchNetModel2, metrics=metrics),\n",
        "    trn.ReduceLROnPlateauHook(\n",
        "        optimizer,\n",
        "        patience=5, factor=0.8, min_lr=1e-4,\n",
        "        stop_after_min=False # Stop after min learning rate is reached\n",
        "    )\n",
        "]\n",
        "\n",
        "trainer = trn.Trainer(\n",
        "    model_path=SchNetModel2,\n",
        "    model=model,#<--------------------\n",
        "    hooks=hooks,#<--------------------\n",
        "    loss_fn=mse_loss,#<--------------------\n",
        "    optimizer=optimizer,\n",
        "    train_loader=train_loader,\n",
        "    validation_loader=val_loader\n",
        ")\n",
        "\n",
        "\n",
        "#=======================================================================\n",
        "# before setting up the trainer, remove previous training checkpoints and logs\n",
        "# %rm -rf ./SchNetModel2/checkpoints\n",
        "# %rm -rf ./SchNetModel2/log.csv\n",
        "\n",
        "# import schnetpack.train as trn\n",
        "\n",
        "# # set up metrics\n",
        "# metrics = [\n",
        "#     spk.metrics.MeanAbsoluteError(MD17.energy),\n",
        "#     spk.metrics.MeanAbsoluteError(MD17.forces)\n",
        "# ]\n",
        "\n",
        "# # construct hooks\n",
        "# hooks = [\n",
        "#     trn.CSVHook(log_path=SchNetModel2, metrics=metrics),\n",
        "#     trn.ReduceLROnPlateauHook(\n",
        "#         optimizer,\n",
        "#         patience=5, factor=0.8, min_lr=1e-6,\n",
        "#         stop_after_min=True\n",
        "#     )\n",
        "# ]\n",
        "\n",
        "# trainer = trn.Trainer(\n",
        "#     model_path=forcetut,\n",
        "#     model=model,\n",
        "#     hooks=hooks,\n",
        "#     loss_fn=loss,\n",
        "#     optimizer=optimizer,\n",
        "#     train_loader=train_loader,\n",
        "#     validation_loader=val_loader,\n",
        "# )"
      ],
      "execution_count": null,
      "outputs": []
    },
    {
      "cell_type": "code",
      "metadata": {
        "id": "gOHes5ytYv5y"
      },
      "source": [
        "# Load the TensorBoard notebook extension.\n",
        "%reload_ext tensorboard"
      ],
      "execution_count": null,
      "outputs": []
    },
    {
      "cell_type": "markdown",
      "metadata": {
        "id": "X0l49LJngBTl"
      },
      "source": [
        "**Training & tensorboard logging**"
      ]
    },
    {
      "cell_type": "code",
      "metadata": {
        "id": "I2Fvm7KWYv9A"
      },
      "source": [
        "# check if a GPU is available and use a CPU otherwise\n",
        "if torch.cuda.is_available():\n",
        "    device = \"cuda\"\n",
        "else:\n",
        "    device = \"cpu\"\n",
        "\n",
        "# determine number of epochs and train\n",
        "n_epochs = 1000\n",
        "trainer.train(device=device, n_epochs=n_epochs)"
      ],
      "execution_count": null,
      "outputs": []
    },
    {
      "cell_type": "code",
      "metadata": {
        "id": "jTJNib7DYv-j"
      },
      "source": [
        "# !kill 2022\n",
        "# %reload_ext tensorboard\n",
        "%tensorboard --logdir SchNetModel2/tensorboard/"
      ],
      "execution_count": null,
      "outputs": []
    },
    {
      "cell_type": "markdown",
      "metadata": {
        "id": "X6QpOG6Df-wW"
      },
      "source": [
        "Zip & Download model"
      ]
    },
    {
      "cell_type": "code",
      "metadata": {
        "id": "NFum2go3YwAk"
      },
      "source": [
        "# ---------------------- Zip & Download model --------------------\n",
        "!zip -r SchNetModel1_energy_oscil_dipole_128_10_5p.zip SchNetModel2/ "
      ],
      "execution_count": null,
      "outputs": []
    },
    {
      "cell_type": "code",
      "metadata": {
        "id": "jYYyxrSOYwDw"
      },
      "source": [
        "!unzip SchNetModel2_energy_oscil_dipole_10_5p.zip"
      ],
      "execution_count": null,
      "outputs": []
    },
    {
      "cell_type": "markdown",
      "metadata": {
        "id": "EH1a5oL3gPqE"
      },
      "source": [
        "**Calculate perfomance metrics & visualize**"
      ]
    },
    {
      "cell_type": "code",
      "metadata": {
        "id": "xyzVqDDvS-Cj"
      },
      "source": [
        "# ------------------------- Performance metrics MAPE --------------------\n",
        "# !unzip ./SchNetModel2_energy_oscil_dipole_128_10_5p.zip\n",
        "\n",
        "!unzip ./SchNetModel1_energy_oscil_dipole_128_10_5p.zip\n",
        "\n",
        "import torch\n",
        "import matplotlib.pyplot as plt\n",
        "import numpy as np\n",
        "import schnetpack as spk\n",
        "import os\n",
        "from schnetpack.data.atoms import AtomsData\n",
        "\n",
        "if torch.cuda.is_available():\n",
        "    device = \"cuda\"\n",
        "else:\n",
        "    device = \"cpu\"\n",
        "properties = ['energy', 'oscil_strength', 'dipole_moment']\n",
        "SchNetModel = './SchNetModel2'\n",
        "SchNet_data = AtomsData(os.path.join('.','SchNetModel2','SchNet_energy_oscil_dipole_S1.db'), available_properties=properties)    \n",
        "best_model = torch.load(os.path.join(SchNetModel, 'best_model'))\n",
        "\n",
        "train, val, test = spk.train_test_split(\n",
        "    data=SchNet_data,\n",
        "    num_train=1500,\n",
        "    num_val=300,\n",
        "    split_file=os.path.join(SchNetModel, \"split.npz\"),\n",
        ")\n",
        "train_loader = spk.AtomsLoader(train, batch_size=100, shuffle=True)\n",
        "val_loader = spk.AtomsLoader(val, batch_size=100)\n",
        "test_loader = spk.AtomsLoader(test, batch_size=100)\n",
        "\n",
        "means, stddevs = test_loader.get_statistics(\n",
        "    properties\n",
        ")\n",
        "\n",
        "energy_error = 0.0\n",
        "oscil_error = 0.0\n",
        "dipole_error = 0.0\n",
        "\n",
        "final_batch = None\n",
        "final_pred = None\n",
        "final_batchD = None\n",
        "final_predD = None\n",
        "final_batchOs = None\n",
        "final_predOs = None\n",
        "for count, batch in enumerate(test_loader):\n",
        "    # move batch to GPU, if necessary\n",
        "    batch = {k: v.to(device) for k, v in batch.items()}\n",
        "\n",
        "    # apply model\n",
        "    pred = best_model(batch)\n",
        "    temp0 = batch \n",
        "    temp_pred0 = pred\n",
        "    temp = temp0['energy'].detach().cpu().numpy()\n",
        "    temp_pred = temp_pred0['energy'].detach().cpu().numpy()\n",
        "    #--------------------------- dipole --------------------------\n",
        "    tempD = temp0['dipole_moment'].detach().cpu().numpy()\n",
        "    temp_predD = temp_pred0['dipole_moment'].detach().cpu().numpy()\n",
        "\n",
        "    # calculate absolute error of energies\n",
        "    tmp_energy = torch.sum(torch.abs(pred['energy'] - batch['energy']))\n",
        "    tmp_energy = tmp_energy.detach().cpu().numpy() # detach from graph & convert to numpy\n",
        "    energy_error += tmp_energy\n",
        "\n",
        "    # absolute error for dipole\n",
        "    tmp_dipole = torch.sum(torch.abs(pred['dipole_moment'] - batch['dipole_moment']))\n",
        "    tmp_dipole = tmp_dipole.detach().cpu().numpy()\n",
        "    dipole_error += tmp_dipole\n",
        "\n",
        "    # ---- log to CSV file -------\n",
        "    if final_batch is None:\n",
        "        final_batch = temp.copy()\n",
        "    else:\n",
        "        final_batch = np.concatenate((final_batch,temp),axis=None)\n",
        "\n",
        "    if final_pred is None:\n",
        "        final_pred = temp_pred.copy()\n",
        "    else:\n",
        "        final_pred = np.concatenate((final_pred,temp_pred),axis=None)\n",
        "    \n",
        "    #------------------------------------------------------------------\n",
        "    if final_batchD is None:\n",
        "        final_batchD = tempD.copy()\n",
        "    else:\n",
        "        final_batchD = np.concatenate((final_batchD,tempD),axis=None)\n",
        "\n",
        "    if final_predD is None:\n",
        "        final_predD = temp_predD.copy()\n",
        "    else:\n",
        "        final_predD = np.concatenate((final_predD,temp_predD),axis=None)\n",
        "\n",
        "    #------------------------------ Oscil strength ---------------------------\n",
        "    tmpO = temp0['oscil_strength'].detach().cpu().numpy()\n",
        "    tmp_oscil = np.sum(np.abs(getOscil(temp_pred,temp_predD)-tmpO))\n",
        "    oscil_error += tmp_oscil\n",
        "\n",
        "    if final_batchOs is None:\n",
        "        final_batchOs = tmpO.copy()\n",
        "    else:\n",
        "        final_batchOs = np.concatenate((final_batchOs,tmpO),axis=None)\n",
        "\n",
        "final_predOs = getOscil(final_pred,final_predD)\n",
        "\n",
        "plt.scatter(final_batchOs, final_predOs, c=\"r\", alpha=0.5)\n",
        "plt.xlabel(\"Ground truth Oscil\")\n",
        "plt.ylabel(\"Predicted Oscil\")\n",
        "# plt.legend(loc='upper left')\n",
        "\n",
        "m, b = np.polyfit(final_batchOs, final_predOs, 1)\n",
        "plt.plot(final_batchOs, m*final_batchOs + b)\n",
        "plt.show()\n",
        "\n",
        "\n",
        "\n",
        "plt.scatter(final_batch, final_pred, c=\"g\", alpha=0.5)\n",
        "plt.xlabel(\"Ground truth [eV]\")\n",
        "plt.ylabel(\"Predicted [eV]\")\n",
        "# plt.legend(loc='upper left')\n",
        "\n",
        "m, b = np.polyfit(final_batch, final_pred, 1)\n",
        "plt.plot(final_batch, m*final_batch + b)\n",
        "plt.show()\n",
        "\n",
        "\n",
        "plt.scatter(final_batchD, final_predD, c=\"b\", alpha=0.5)\n",
        "plt.xlabel(\"Ground truth dipole\")\n",
        "plt.ylabel(\"Predicted dipole\")\n",
        "plt.legend(loc='upper left')\n",
        "\n",
        "mD, bD = np.polyfit(final_batchD, final_predD, 1)\n",
        "plt.plot(final_batchD, mD*final_batchD + bD)\n",
        "plt.show()\n",
        "\n",
        "\n",
        "np.savetxt('E1_batch_1500_300.csv', final_batch[100:150])\n",
        "np.savetxt('E1_pred_1500_300.csv', final_pred[100:150])\n",
        "np.savetxt('oscil1_batch_1500_300.csv', final_batchOs[100:150])\n",
        "np.savetxt('oscil1_pred_1500_300.csv', final_predOs[100:150])\n",
        "\n",
        "energy_error /= len(test)\n",
        "energy_error_percentage = energy_error *100 / means['energy'][0]\n",
        "\n",
        "oscil_error /= len(test)\n",
        "oscil_error_percentage = oscil_error *100 / means['oscil_strength'][0]\n",
        "\n",
        "dipole_error /= len(test)\n",
        "dipole_error_percentage = dipole_error *100 / means['dipole_moment'][0]\n",
        "\n",
        "print('Mean S2 energy / atom     : {:12.4f} [eV]'.format(means['energy'][0]))\n",
        "print('Std. dev. S2 energy / atom: {:12.4f} [ev]'.format(stddevs['energy'][0]))\n",
        "print('Mean dipole / atom        : {:12.4f} []'.format(means['oscil_strength'][0]))\n",
        "print('Std. dev.  dipole / atom  : {:12.4f} []'.format(stddevs['oscil_strength'][0]))\n",
        "print('Mean dipole / atom        : {:12.4f} []'.format(means['dipole_moment'][0]))\n",
        "print('Std. dev.  dipole / atom  : {:12.4f} []'.format(stddevs['dipole_moment'][0]))\n",
        "\n",
        "print('\\nTest MAE:')\n",
        "print('    energy     : {:10.3f} eV'.format(energy_error))\n",
        "print('    WMAPError  : {:10.3f} %'.format(energy_error_percentage))\n",
        "print('    oscil      : {:10.3f}'.format(oscil_error))\n",
        "print('    WMAPError  : {:10.3f} %'.format(oscil_error_percentage))\n",
        "print('    dipole     : {:10.3f}'.format(dipole_error))\n",
        "print('    WMAPError  : {:10.3f} %'.format(dipole_error_percentage))"
      ],
      "execution_count": null,
      "outputs": []
    }
  ]
}