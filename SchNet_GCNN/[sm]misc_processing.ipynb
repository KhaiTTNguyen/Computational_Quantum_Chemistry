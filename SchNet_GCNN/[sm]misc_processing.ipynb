{
  "nbformat": 4,
  "nbformat_minor": 0,
  "metadata": {
    "colab": {
      "name": "misc_processing",
      "provenance": [],
      "collapsed_sections": []
    },
    "kernelspec": {
      "name": "python3",
      "display_name": "Python 3"
    },
    "language_info": {
      "name": "python"
    }
  },
  "cells": [
    {
      "cell_type": "markdown",
      "metadata": {
        "id": "a2T3_L2OoJls"
      },
      "source": [
        "Mov files efficient from ***mydir*** to ***mydir2***"
      ]
    },
    {
      "cell_type": "code",
      "metadata": {
        "id": "OBQFXK6hROo8"
      },
      "source": [
        "# ---------------------- mov files efficient from <mydir> to <mydir2> ---------------------- \n",
        "# this goes in folder w/ GaussOut & GaussIn\n",
        "import os\n",
        "mydir = \"GaussOutput\"\n",
        "mydir2 = \"GaussInput\"\n",
        "for f in os.listdir(mydir):   # loop output\n",
        "    output = (os.path.splitext(os.path.basename(f))[0])\n",
        "    for f2 in os.listdir(mydir2): # loop input\n",
        "        fileName = os.path.join(\".\",mydir2,f2)\n",
        "        input = (os.path.splitext(os.path.basename(f2))[0])\n",
        "        if(input==output):\n",
        "            # --------------move to GaussOutput--------------\n",
        "            import glob\n",
        "            import shutil\n",
        "            import os\n",
        "            target_folder=os.path.join(\"processed\")\n",
        "            os.makedirs(target_folder,exist_ok=True)\n",
        "            # move file with full paths as shutil.move() parameters\n",
        "            shutil.move(fileName,target_folder)"
      ],
      "execution_count": null,
      "outputs": []
    },
    {
      "cell_type": "markdown",
      "metadata": {
        "id": "svbOmTyPoY6n"
      },
      "source": [
        "To remove any files (here <.log>) from specified <mydir> folder"
      ]
    },
    {
      "cell_type": "code",
      "metadata": {
        "id": "V1cVKhjpR8Qy"
      },
      "source": [
        "# ------------------ Use below to remove any files (here <.log>) from specified <mydir> folder\n",
        "import os\n",
        "mydir = \"GaussOutput\"\n",
        "for f in os.listdir(mydir):\n",
        "    if not f.endswith(\".log\"):\n",
        "        continue\n",
        "    os.remove(os.path.join(mydir, f))"
      ],
      "execution_count": null,
      "outputs": []
    },
    {
      "cell_type": "code",
      "metadata": {
        "id": "D_sWgu-1R8Ws"
      },
      "source": [
        ""
      ],
      "execution_count": null,
      "outputs": []
    }
  ]
}