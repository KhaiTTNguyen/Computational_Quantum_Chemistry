{
  "nbformat": 4,
  "nbformat_minor": 0,
  "metadata": {
    "colab": {
      "name": "generate spectrum",
      "provenance": [],
      "collapsed_sections": []
    },
    "kernelspec": {
      "name": "python3",
      "display_name": "Python 3"
    },
    "language_info": {
      "name": "python"
    }
  },
  "cells": [
    {
      "cell_type": "markdown",
      "metadata": {
        "id": "WswexYwjo4j4"
      },
      "source": [
        "Produce spectrum data ***energies.dat*** & ***oscst.dat*** "
      ]
    },
    {
      "cell_type": "code",
      "metadata": {
        "id": "SRI2XyNtRnqW"
      },
      "source": [
        "# ----------------------------- Gen spectrum data [energies.dat] & [oscst.dat] --------------------------\n",
        "def genEnergyAndOscil(property_dir=\"GaussOutput\"):\n",
        "    '''\n",
        "      take in file (Output) \n",
        "      find matching geom (Input) \n",
        "      extract prop from Output, grab geom from Input \n",
        "      write to xyz output 1. Energy & F, 2. geom\n",
        "    '''\n",
        "    # -------------------- open file to write --------------------\n",
        "    fileWriteName = os.path.join(\".\", \"spectrumData\",\"energies.dat\")\n",
        "    os.makedirs(os.path.dirname(fileWriteName), exist_ok=True) # create folder if not existed yet\n",
        "    fileWriter = open(fileWriteName,\"w+\")\n",
        "\n",
        "    fileWriteName2 = os.path.join(\".\", \"spectrumData\",\"oscst.dat\")\n",
        "    os.makedirs(os.path.dirname(fileWriteName2), exist_ok=True) # create folder if not existed yet\n",
        "    fileWriter2 = open(fileWriteName2,\"w+\")\n",
        "\n",
        "    # ----------------------------- scan for matching geoms in/output files --------------------------\n",
        "    for f in os.listdir(property_dir): # loop output\n",
        "        filePath1 = os.path.join(\".\",property_dir,f)\n",
        "        # ------------------- extract prop from f, geom from f2 -----------------\n",
        "        # read prop over\n",
        "        prop = extract_prop(filePath1)\n",
        "        delim = \", \"\n",
        "        print(str(prop))\n",
        "        energy1, os1 = prop[0]\n",
        "        energy2, os2 = prop[1]\n",
        "        # energy2, os2 = prop[1]\n",
        "        # res = delim.join(map(str, prop[state]))\n",
        "        fileWriter.write(str(energy1)+\" \"+str(energy2)+\"\\n\")\n",
        "        fileWriter2.write(str(os1)+\" \"+str(os2)+\"\\n\")\n",
        "    \n",
        "    fileWriter.close()\n",
        "    fileWriter2.close()\n",
        "\n",
        "genEnergyAndOscil() # build for each state 0 / 1"
      ],
      "execution_count": null,
      "outputs": []
    },
    {
      "cell_type": "markdown",
      "metadata": {
        "id": "jIs_Y9tBpgrk"
      },
      "source": [
        "From here send  ***energies.dat*** & ***oscst.dat*** to Gaussian to run ***abs-spec-config.f90*** "
      ]
    },
    {
      "cell_type": "code",
      "metadata": {
        "id": "CF70lvHgqCuM"
      },
      "source": [
        "........"
      ],
      "execution_count": null,
      "outputs": []
    },
    {
      "cell_type": "markdown",
      "metadata": {
        "id": "FB7r17fzpSHF"
      },
      "source": [
        "Extract spectrum data zip & Remove non-data files"
      ]
    },
    {
      "cell_type": "code",
      "metadata": {
        "id": "NaygC2kpTJ3D"
      },
      "source": [
        "!unzip ./ABS_CONFIG_0-10.zip"
      ],
      "execution_count": null,
      "outputs": []
    },
    {
      "cell_type": "code",
      "metadata": {
        "id": "uQ0jOFMBTJzf"
      },
      "source": [
        "# ---------------------- script for drawing spectrum ---------------------- \n",
        "mydir = \"ABS_CONFIG_0-02\"\n",
        "for f in os.listdir(mydir):\n",
        "    if not f.endswith(\".dat\"):\n",
        "        continue\n",
        "    os.remove(os.path.join(mydir, f))"
      ],
      "execution_count": null,
      "outputs": []
    },
    {
      "cell_type": "markdown",
      "metadata": {
        "id": "X3RE_e1rqU56"
      },
      "source": [
        "Normalize spectrum data"
      ]
    },
    {
      "cell_type": "code",
      "metadata": {
        "id": "5NCwA69UTR2G"
      },
      "source": [
        "# ^ *(\\d+.\\d+) *(\\d+.\\d+)\n",
        "import pandas as pd\n",
        "import os\n",
        "import numpy as np\n",
        "abs_folder = \"ABS_CONFIG_0-02\"\n",
        "final_df = None\n",
        "for fileN in os.listdir(abs_folder):\n",
        "    df = pd.read_csv(os.path.join(abs_folder,fileN), header = None, sep ='\\s+',engine = 'python')  \n",
        "    #Convert to numeric\n",
        "    for col in df:\n",
        "        df[col] = pd.to_numeric(df[col])\n",
        "    if final_df is None:\n",
        "        final_df = df.copy()\n",
        "    else:\n",
        "        # final_df[0] = final_df[2]+df[2] \n",
        "        final_df[1] = final_df[1]+df[1] \n",
        "\n",
        "# Create an object to transform the data to fit minmax processor\n",
        "# final_df[1] = min_max_scaler.fit_transform(final_df[1])\n",
        "final_df[1]=(final_df[1]-final_df[1].min())/(final_df[1].max()-final_df[1].min())\n",
        "\n",
        "# # Run the normalizer on the dataframe\n",
        "# df_normalized = pd.DataFrame(y_scaled)\n",
        "np.savetxt(os.path.join(\".\",abs_folder,\"spectrum.txt\"), final_df, fmt='%16.4e' , newline=\"\\r\\n\")"
      ],
      "execution_count": null,
      "outputs": []
    },
    {
      "cell_type": "markdown",
      "metadata": {
        "id": "Sgc5isQxqZIP"
      },
      "source": [
        "Check results"
      ]
    },
    {
      "cell_type": "code",
      "metadata": {
        "id": "rNP0Z6JGTSXE"
      },
      "source": [
        "results = np.loadtxt(os.path.join(\".\",abs_folder,\"spectrum.txt\"))\n",
        "results"
      ],
      "execution_count": null,
      "outputs": []
    },
    {
      "cell_type": "markdown",
      "metadata": {
        "id": "myQ9pji7qbGn"
      },
      "source": [
        "Plot spectrum"
      ]
    },
    {
      "cell_type": "code",
      "metadata": {
        "id": "sBPhHABETSZ3"
      },
      "source": [
        "import pandas as pd\n",
        "import os\n",
        "import numpy as np\n",
        "import matplotlib.pyplot as plt\n",
        "results = np.loadtxt(os.path.join(\".\",abs_folder,\"spectrum.txt\"))\n",
        "results2 = np.loadtxt(os.path.join(\".\",abs_folder,\"spectrum_pred.txt\"))\n",
        "\n",
        "time = results[:,0]\n",
        "train_loss = results[:,1]\n",
        "time2 = results2[:,0]\n",
        "train_loss2 = results2[:,1]\n",
        "\n",
        "\n",
        "plt.figure(figsize=(15,8))\n",
        "# plt.subplot(1,2,1)\n",
        "# plt.plot(time, val_loss, label='Validation')\n",
        "# plt.plot(time, train_loss, label='truth-value')\n",
        "plt.plot(time2, train_loss2, label='predicted',c='darkorange')\n",
        "# plt.yscale('log')\n",
        "plt.ylabel('Abs')\n",
        "plt.xlabel('Energy [eV]')\n",
        "plt.xticks(np.arange(min(time), max(time), 0.51))\n",
        "plt.legend()\n",
        "plt.show()"
      ],
      "execution_count": null,
      "outputs": []
    }
  ]
}